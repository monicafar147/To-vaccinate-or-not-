{
  "nbformat": 4,
  "nbformat_minor": 0,
  "metadata": {
    "colab": {
      "name": "main.ipynb",
      "provenance": [],
      "authorship_tag": "ABX9TyNU1q77buXZZDpv2sUi87ht",
      "include_colab_link": true
    },
    "kernelspec": {
      "name": "python3",
      "display_name": "Python 3"
    }
  },
  "cells": [
    {
      "cell_type": "markdown",
      "metadata": {
        "id": "view-in-github",
        "colab_type": "text"
      },
      "source": [
        "<a href=\"https://colab.research.google.com/github/monicafar147/To-vaccinate-or-not-/blob/EDA/main.ipynb\" target=\"_parent\"><img src=\"https://colab.research.google.com/assets/colab-badge.svg\" alt=\"Open In Colab\"/></a>"
      ]
    },
    {
      "cell_type": "markdown",
      "metadata": {
        "id": "Y6lfCdsUqWeN",
        "colab_type": "text"
      },
      "source": [
        "# Introduction"
      ]
    },
    {
      "cell_type": "markdown",
      "metadata": {
        "id": "2xbqyq-xqb45",
        "colab_type": "text"
      },
      "source": [
        "In the past decade, tracking health trends using social media data has shown great promise, due to:\n",
        "-  a powerful combination of massive adoption of social media around the world\n",
        "-  increasingly potent hardware and software that enables us to work with these new big data streams. \n",
        "\n",
        "At the same time, many challenging problems have been identified:\n",
        "1. There is often a mismatch between how rapidly online data can change, and how rapidly algorithms are updated, which means that there is limited reusability for algorithms trained on past data as their performance decreases over time.\n",
        "2. Much of the work is focusing on specific issues during a specific past period in time, even though public health institutions would need flexible tools to assess multiple evolving situations in real time. \n",
        "3. Most tools providing such capabilities are proprietary systems with little algorithmic or data transparency, and thus little buy-in from the global public health and research community. \n",
        "\n",
        "The objective of this challenge is to develop a machine learning model to assess if a twitter post that is related to vaccinations is\n",
        "- positive\n",
        "- neutral\n",
        "- negative.\n",
        "\n",
        "Tweets have been classified as\n",
        "-  pro-vaccine (1)\n",
        "-  neutral (0) \n",
        "-  anti-vaccine (-1). \n",
        "The tweets have had usernames and web addresses removed."
      ]
    },
    {
      "cell_type": "markdown",
      "metadata": {
        "id": "bPA4Om5sreO8",
        "colab_type": "text"
      },
      "source": [
        "# Importing the data"
      ]
    },
    {
      "cell_type": "code",
      "metadata": {
        "id": "s6478RM-rgPG",
        "colab_type": "code",
        "colab": {}
      },
      "source": [
        "import pandas as pd\n",
        "import numpy as np\n",
        "train = pd.read_csv(\"https://raw.githubusercontent.com/monicafar147/To-vaccinate-or-not-/master/Train.csv\")\n",
        "test = pd.read_csv(\"https://raw.githubusercontent.com/monicafar147/To-vaccinate-or-not-/master/Test.csv\")"
      ],
      "execution_count": null,
      "outputs": []
    },
    {
      "cell_type": "markdown",
      "metadata": {
        "id": "CFAAkO9FriCq",
        "colab_type": "text"
      },
      "source": [
        "Variable definition\n",
        "- tweet_id: Unique identifier of the tweet\n",
        "- safe_tweet: Text contained in the tweet. Some sensitive information has been removed like usernames and urls\n",
        "- label: Sentiment of the tweet (-1 for negative, 0 for neutral, 1 for positive)\n",
        "- agreement: The tweets were labeled by three people. Agreement indicates the percentage of the three reviewers that agreed on the given label. You may use this column in your training, but agreement data will not be shared for the test set."
      ]
    },
    {
      "cell_type": "code",
      "metadata": {
        "id": "1Im8WcDkrqRw",
        "colab_type": "code",
        "colab": {
          "base_uri": "https://localhost:8080/",
          "height": 202
        },
        "outputId": "6f4f3ec6-50e9-40d9-d7f7-d5e371526e1e"
      },
      "source": [
        "train.head()"
      ],
      "execution_count": null,
      "outputs": [
        {
          "output_type": "execute_result",
          "data": {
            "text/html": [
              "<div>\n",
              "<style scoped>\n",
              "    .dataframe tbody tr th:only-of-type {\n",
              "        vertical-align: middle;\n",
              "    }\n",
              "\n",
              "    .dataframe tbody tr th {\n",
              "        vertical-align: top;\n",
              "    }\n",
              "\n",
              "    .dataframe thead th {\n",
              "        text-align: right;\n",
              "    }\n",
              "</style>\n",
              "<table border=\"1\" class=\"dataframe\">\n",
              "  <thead>\n",
              "    <tr style=\"text-align: right;\">\n",
              "      <th></th>\n",
              "      <th>tweet_id</th>\n",
              "      <th>safe_text</th>\n",
              "      <th>label</th>\n",
              "      <th>agreement</th>\n",
              "    </tr>\n",
              "  </thead>\n",
              "  <tbody>\n",
              "    <tr>\n",
              "      <th>0</th>\n",
              "      <td>CL1KWCMY</td>\n",
              "      <td>Me &amp;amp; The Big Homie meanboy3000 #MEANBOY #M...</td>\n",
              "      <td>0.0</td>\n",
              "      <td>1.0</td>\n",
              "    </tr>\n",
              "    <tr>\n",
              "      <th>1</th>\n",
              "      <td>E3303EME</td>\n",
              "      <td>I'm 100% thinking of devoting my career to pro...</td>\n",
              "      <td>1.0</td>\n",
              "      <td>1.0</td>\n",
              "    </tr>\n",
              "    <tr>\n",
              "      <th>2</th>\n",
              "      <td>M4IVFSMS</td>\n",
              "      <td>#whatcausesautism VACCINES, DO NOT VACCINATE Y...</td>\n",
              "      <td>-1.0</td>\n",
              "      <td>1.0</td>\n",
              "    </tr>\n",
              "    <tr>\n",
              "      <th>3</th>\n",
              "      <td>1DR6ROZ4</td>\n",
              "      <td>I mean if they immunize my kid with something ...</td>\n",
              "      <td>-1.0</td>\n",
              "      <td>1.0</td>\n",
              "    </tr>\n",
              "    <tr>\n",
              "      <th>4</th>\n",
              "      <td>J77ENIIE</td>\n",
              "      <td>Thanks to &lt;user&gt; Catch me performing at La Nui...</td>\n",
              "      <td>0.0</td>\n",
              "      <td>1.0</td>\n",
              "    </tr>\n",
              "  </tbody>\n",
              "</table>\n",
              "</div>"
            ],
            "text/plain": [
              "   tweet_id  ... agreement\n",
              "0  CL1KWCMY  ...       1.0\n",
              "1  E3303EME  ...       1.0\n",
              "2  M4IVFSMS  ...       1.0\n",
              "3  1DR6ROZ4  ...       1.0\n",
              "4  J77ENIIE  ...       1.0\n",
              "\n",
              "[5 rows x 4 columns]"
            ]
          },
          "metadata": {
            "tags": []
          },
          "execution_count": 2
        }
      ]
    },
    {
      "cell_type": "code",
      "metadata": {
        "id": "aNixnJ8JtFxD",
        "colab_type": "code",
        "colab": {
          "base_uri": "https://localhost:8080/",
          "height": 225
        },
        "outputId": "571d6159-473c-47c8-aa86-23912e19dd55"
      },
      "source": [
        "# checking null values\n",
        "unique = [row for row in train['tweet_id'].unique()]\n",
        "print(\"Number of unique values\")\n",
        "print(train['tweet_id'].nunique())\n",
        "print(\"\\nTotal number of values\")\n",
        "print(len(train['tweet_id']))\n",
        "print(\"\\nNumber of null values:\\n\" + str(train.isnull().sum()))"
      ],
      "execution_count": null,
      "outputs": [
        {
          "output_type": "stream",
          "text": [
            "Number of unique values\n",
            "10001\n",
            "\n",
            "Total number of values\n",
            "10001\n",
            "\n",
            "Number of null values:\n",
            "tweet_id     0\n",
            "safe_text    0\n",
            "label        1\n",
            "agreement    2\n",
            "dtype: int64\n"
          ],
          "name": "stdout"
        }
      ]
    },
    {
      "cell_type": "markdown",
      "metadata": {
        "id": "9bfgtbfbuWrU",
        "colab_type": "text"
      },
      "source": [
        "- There is 1 label that contains a null value\n",
        "- There are 2 agreements that contain a null value"
      ]
    },
    {
      "cell_type": "code",
      "metadata": {
        "id": "SDAiWsO-2FZk",
        "colab_type": "code",
        "colab": {}
      },
      "source": [
        "train.dropna(inplace=True)"
      ],
      "execution_count": null,
      "outputs": []
    },
    {
      "cell_type": "code",
      "metadata": {
        "id": "k9uSML7qzpF9",
        "colab_type": "code",
        "colab": {
          "base_uri": "https://localhost:8080/",
          "height": 225
        },
        "outputId": "4e6d326d-5ab6-49f1-dc7e-693c7efc869a"
      },
      "source": [
        "# checking null values\n",
        "unique = [row for row in train['safe_text'].unique()]\n",
        "print(\"Number of unique values\")\n",
        "print(train['tweet_id'].nunique())\n",
        "print(\"\\nTotal number of values\")\n",
        "print(len(train['tweet_id']))\n",
        "print(\"\\nNumber of null values:\\n\" + str(train.isnull().sum()))"
      ],
      "execution_count": null,
      "outputs": [
        {
          "output_type": "stream",
          "text": [
            "Number of unique values\n",
            "9999\n",
            "\n",
            "Total number of values\n",
            "9999\n",
            "\n",
            "Number of null values:\n",
            "tweet_id     0\n",
            "safe_text    0\n",
            "label        0\n",
            "agreement    0\n",
            "dtype: int64\n"
          ],
          "name": "stdout"
        }
      ]
    },
    {
      "cell_type": "code",
      "metadata": {
        "id": "nxQKOHl4zyxF",
        "colab_type": "code",
        "colab": {}
      },
      "source": [
        "grouped = train[['label', 'safe_text',]].groupby('label').count()"
      ],
      "execution_count": null,
      "outputs": []
    },
    {
      "cell_type": "code",
      "metadata": {
        "id": "Bg4yKhbk3pcw",
        "colab_type": "code",
        "colab": {
          "base_uri": "https://localhost:8080/",
          "height": 172
        },
        "outputId": "a5a762fa-3504-4d8f-d8a8-02d13465b55a"
      },
      "source": [
        "grouped"
      ],
      "execution_count": null,
      "outputs": [
        {
          "output_type": "execute_result",
          "data": {
            "text/html": [
              "<div>\n",
              "<style scoped>\n",
              "    .dataframe tbody tr th:only-of-type {\n",
              "        vertical-align: middle;\n",
              "    }\n",
              "\n",
              "    .dataframe tbody tr th {\n",
              "        vertical-align: top;\n",
              "    }\n",
              "\n",
              "    .dataframe thead th {\n",
              "        text-align: right;\n",
              "    }\n",
              "</style>\n",
              "<table border=\"1\" class=\"dataframe\">\n",
              "  <thead>\n",
              "    <tr style=\"text-align: right;\">\n",
              "      <th></th>\n",
              "      <th>safe_text</th>\n",
              "    </tr>\n",
              "    <tr>\n",
              "      <th>label</th>\n",
              "      <th></th>\n",
              "    </tr>\n",
              "  </thead>\n",
              "  <tbody>\n",
              "    <tr>\n",
              "      <th>-1.0</th>\n",
              "      <td>1038</td>\n",
              "    </tr>\n",
              "    <tr>\n",
              "      <th>0.0</th>\n",
              "      <td>4908</td>\n",
              "    </tr>\n",
              "    <tr>\n",
              "      <th>1.0</th>\n",
              "      <td>4053</td>\n",
              "    </tr>\n",
              "  </tbody>\n",
              "</table>\n",
              "</div>"
            ],
            "text/plain": [
              "       safe_text\n",
              "label           \n",
              "-1.0        1038\n",
              " 0.0        4908\n",
              " 1.0        4053"
            ]
          },
          "metadata": {
            "tags": []
          },
          "execution_count": 10
        }
      ]
    },
    {
      "cell_type": "markdown",
      "metadata": {
        "id": "y1HrEswL4Z2e",
        "colab_type": "text"
      },
      "source": [
        "Looks a lot better!!!"
      ]
    },
    {
      "cell_type": "code",
      "metadata": {
        "id": "jOlEQaub44iL",
        "colab_type": "code",
        "colab": {
          "base_uri": "https://localhost:8080/",
          "height": 52
        },
        "outputId": "6ea6fc12-0e26-4789-a624-d0f5a9d75c4a"
      },
      "source": [
        "# plotting\n",
        "import matplotlib.pyplot as plt\n",
        "import seaborn as sns\n",
        "plt.style.use('seaborn-deep')"
      ],
      "execution_count": null,
      "outputs": [
        {
          "output_type": "stream",
          "text": [
            "/usr/local/lib/python3.6/dist-packages/statsmodels/tools/_testing.py:19: FutureWarning: pandas.util.testing is deprecated. Use the functions in the public API at pandas.testing instead.\n",
            "  import pandas.util.testing as tm\n"
          ],
          "name": "stderr"
        }
      ]
    },
    {
      "cell_type": "code",
      "metadata": {
        "id": "aLnu9CnS4dho",
        "colab_type": "code",
        "colab": {
          "base_uri": "https://localhost:8080/",
          "height": 305
        },
        "outputId": "4f945d52-e0b9-4815-fe9a-3c680790b885"
      },
      "source": [
        "grouped.sort_values('safe_text', ascending=True).plot(kind='bar')\n",
        "plt.title('Sentiment distribution')\n",
        "plt.ylabel('count')\n",
        "plt.xlabel('type of sentiment')\n",
        "plt.show()"
      ],
      "execution_count": null,
      "outputs": [
        {
          "output_type": "display_data",
          "data": {
            "image/png": "[encoded data removed]",
            "text/plain": [
              "<Figure size 432x288 with 1 Axes>"
            ]
          },
          "metadata": {
            "tags": [],
            "needs_background": "light"
          }
        }
      ]
    },
    {
      "cell_type": "markdown",
      "metadata": {
        "id": "k2Kmmv2Q48q8",
        "colab_type": "text"
      },
      "source": [
        "The data is unbalanced.\n",
        "\n",
        "To counter this the following strategies can be used\n",
        "- cross validation\n",
        "- use small test size\n",
        "- use stratify in train-test split\n",
        "- use SMOTE\n",
        "- up-sampling of data\n",
        "- down-sampling of data\n"
      ]
    },
    {
      "cell_type": "code",
      "metadata": {
        "id": "nWjWhsqO5WKu",
        "colab_type": "code",
        "colab": {}
      },
      "source": [
        ""
      ],
      "execution_count": null,
      "outputs": []
    }
  ]
}