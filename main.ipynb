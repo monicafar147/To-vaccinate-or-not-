{
  "nbformat": 4,
  "nbformat_minor": 0,
  "metadata": {
    "colab": {
      "name": "main.ipynb",
      "provenance": [],
      "toc_visible": true,
      "include_colab_link": true
    },
    "kernelspec": {
      "name": "python3",
      "display_name": "Python 3"
    }
  },
  "cells": [
    {
      "cell_type": "markdown",
      "metadata": {
        "id": "view-in-github",
        "colab_type": "text"
      },
      "source": [
        "<a href=\"https://colab.research.google.com/github/monicafar147/To-vaccinate-or-not-/blob/data-distributions/main.ipynb\" target=\"_parent\"><img src=\"https://colab.research.google.com/assets/colab-badge.svg\" alt=\"Open In Colab\"/></a>"
      ]
    },
    {
      "cell_type": "markdown",
      "metadata": {
        "id": "Y6lfCdsUqWeN",
        "colab_type": "text"
      },
      "source": [
        "# Introduction"
      ]
    },
    {
      "cell_type": "markdown",
      "metadata": {
        "id": "2xbqyq-xqb45",
        "colab_type": "text"
      },
      "source": [
        "In the past decade, tracking health trends using social media data has shown great promise, due to:\n",
        "-  a powerful combination of massive adoption of social media around the world\n",
        "-  increasingly potent hardware and software that enables us to work with these new big data streams. \n",
        "\n",
        "At the same time, many challenging problems have been identified:\n",
        "1. There is often a mismatch between how rapidly online data can change, and how rapidly algorithms are updated, which means that there is limited reusability for algorithms trained on past data as their performance decreases over time.\n",
        "2. Much of the work is focusing on specific issues during a specific past period in time, even though public health institutions would need flexible tools to assess multiple evolving situations in real time. \n",
        "3. Most tools providing such capabilities are proprietary systems with little algorithmic or data transparency, and thus little buy-in from the global public health and research community. \n",
        "\n",
        "The objective of this challenge is to develop a machine learning model to assess if a twitter post that is related to vaccinations is\n",
        "- positive\n",
        "- neutral\n",
        "- negative.\n",
        "\n",
        "Tweets have been classified as\n",
        "-  pro-vaccine (1)\n",
        "-  neutral (0) \n",
        "-  anti-vaccine (-1). \n",
        "The tweets have had usernames and web addresses removed."
      ]
    },
    {
      "cell_type": "markdown",
      "metadata": {
        "id": "bPA4Om5sreO8",
        "colab_type": "text"
      },
      "source": [
        "# Importing the data"
      ]
    },
    {
      "cell_type": "code",
      "metadata": {
        "id": "s6478RM-rgPG",
        "colab_type": "code",
        "colab": {}
      },
      "source": [
        "import pandas as pd\n",
        "import numpy as np\n",
        "train = pd.read_csv(\"https://raw.githubusercontent.com/monicafar147/To-vaccinate-or-not-/master/Train.csv\")\n",
        "test = pd.read_csv(\"https://raw.githubusercontent.com/monicafar147/To-vaccinate-or-not-/master/Test.csv\")"
      ],
      "execution_count": 1,
      "outputs": []
    },
    {
      "cell_type": "markdown",
      "metadata": {
        "id": "CFAAkO9FriCq",
        "colab_type": "text"
      },
      "source": [
        "Variable definition\n",
        "- tweet_id: Unique identifier of the tweet\n",
        "- safe_tweet: Text contained in the tweet. Some sensitive information has been removed like usernames and urls\n",
        "- label: Sentiment of the tweet (-1 for negative, 0 for neutral, 1 for positive)\n",
        "- agreement: The tweets were labeled by three people. Agreement indicates the percentage of the three reviewers that agreed on the given label. You may use this column in your training, but agreement data will not be shared for the test set."
      ]
    },
    {
      "cell_type": "code",
      "metadata": {
        "id": "1Im8WcDkrqRw",
        "colab_type": "code",
        "colab": {
          "base_uri": "https://localhost:8080/",
          "height": 202
        },
        "outputId": "ce28b672-74e4-4417-bb6b-d4d43ee93991"
      },
      "source": [
        "train.head()"
      ],
      "execution_count": 2,
      "outputs": [
        {
          "output_type": "execute_result",
          "data": {
            "text/html": [
              "<div>\n",
              "<style scoped>\n",
              "    .dataframe tbody tr th:only-of-type {\n",
              "        vertical-align: middle;\n",
              "    }\n",
              "\n",
              "    .dataframe tbody tr th {\n",
              "        vertical-align: top;\n",
              "    }\n",
              "\n",
              "    .dataframe thead th {\n",
              "        text-align: right;\n",
              "    }\n",
              "</style>\n",
              "<table border=\"1\" class=\"dataframe\">\n",
              "  <thead>\n",
              "    <tr style=\"text-align: right;\">\n",
              "      <th></th>\n",
              "      <th>tweet_id</th>\n",
              "      <th>safe_text</th>\n",
              "      <th>label</th>\n",
              "      <th>agreement</th>\n",
              "    </tr>\n",
              "  </thead>\n",
              "  <tbody>\n",
              "    <tr>\n",
              "      <th>0</th>\n",
              "      <td>CL1KWCMY</td>\n",
              "      <td>Me &amp;amp; The Big Homie meanboy3000 #MEANBOY #M...</td>\n",
              "      <td>0.0</td>\n",
              "      <td>1.0</td>\n",
              "    </tr>\n",
              "    <tr>\n",
              "      <th>1</th>\n",
              "      <td>E3303EME</td>\n",
              "      <td>I'm 100% thinking of devoting my career to pro...</td>\n",
              "      <td>1.0</td>\n",
              "      <td>1.0</td>\n",
              "    </tr>\n",
              "    <tr>\n",
              "      <th>2</th>\n",
              "      <td>M4IVFSMS</td>\n",
              "      <td>#whatcausesautism VACCINES, DO NOT VACCINATE Y...</td>\n",
              "      <td>-1.0</td>\n",
              "      <td>1.0</td>\n",
              "    </tr>\n",
              "    <tr>\n",
              "      <th>3</th>\n",
              "      <td>1DR6ROZ4</td>\n",
              "      <td>I mean if they immunize my kid with something ...</td>\n",
              "      <td>-1.0</td>\n",
              "      <td>1.0</td>\n",
              "    </tr>\n",
              "    <tr>\n",
              "      <th>4</th>\n",
              "      <td>J77ENIIE</td>\n",
              "      <td>Thanks to &lt;user&gt; Catch me performing at La Nui...</td>\n",
              "      <td>0.0</td>\n",
              "      <td>1.0</td>\n",
              "    </tr>\n",
              "  </tbody>\n",
              "</table>\n",
              "</div>"
            ],
            "text/plain": [
              "   tweet_id  ... agreement\n",
              "0  CL1KWCMY  ...       1.0\n",
              "1  E3303EME  ...       1.0\n",
              "2  M4IVFSMS  ...       1.0\n",
              "3  1DR6ROZ4  ...       1.0\n",
              "4  J77ENIIE  ...       1.0\n",
              "\n",
              "[5 rows x 4 columns]"
            ]
          },
          "metadata": {
            "tags": []
          },
          "execution_count": 2
        }
      ]
    },
    {
      "cell_type": "code",
      "metadata": {
        "id": "aNixnJ8JtFxD",
        "colab_type": "code",
        "colab": {
          "base_uri": "https://localhost:8080/",
          "height": 225
        },
        "outputId": "0fd3ec67-3516-46d0-d7ef-c78884886c7c"
      },
      "source": [
        "# checking null values\n",
        "unique = [row for row in train['safe_text'].unique()]\n",
        "print(\"Number of unique values\")\n",
        "print(train['safe_text'].nunique())\n",
        "print(\"\\nTotal number of values\")\n",
        "print(len(train['tweet_id']))\n",
        "print(\"\\nNumber of null values:\\n\" + str(train.isnull().sum()))"
      ],
      "execution_count": 4,
      "outputs": [
        {
          "output_type": "stream",
          "text": [
            "Number of unique values\n",
            "9658\n",
            "\n",
            "Total number of values\n",
            "10001\n",
            "\n",
            "Number of null values:\n",
            "tweet_id     0\n",
            "safe_text    0\n",
            "label        1\n",
            "agreement    2\n",
            "dtype: int64\n"
          ],
          "name": "stdout"
        }
      ]
    },
    {
      "cell_type": "markdown",
      "metadata": {
        "id": "9bfgtbfbuWrU",
        "colab_type": "text"
      },
      "source": [
        "- There is 1 label that contains a null value\n",
        "- There are 2 agreements that contain a null value"
      ]
    },
    {
      "cell_type": "code",
      "metadata": {
        "id": "g4DkCtXP_4hD",
        "colab_type": "code",
        "colab": {}
      },
      "source": [
        "#drop the nulls\n",
        "train.dropna(inplace=True)\n",
        "test.dropna(inplace=True)"
      ],
      "execution_count": 5,
      "outputs": []
    },
    {
      "cell_type": "code",
      "metadata": {
        "id": "lVUULvOL_9KJ",
        "colab_type": "code",
        "colab": {
          "base_uri": "https://localhost:8080/",
          "height": 416
        },
        "outputId": "47b625d5-a269-4a9f-fb0a-4cb52cf5b9d8"
      },
      "source": [
        "#drop duplicate data\n",
        "train.drop_duplicates(subset=None, keep='first', inplace=False)"
      ],
      "execution_count": 6,
      "outputs": [
        {
          "output_type": "execute_result",
          "data": {
            "text/html": [
              "<div>\n",
              "<style scoped>\n",
              "    .dataframe tbody tr th:only-of-type {\n",
              "        vertical-align: middle;\n",
              "    }\n",
              "\n",
              "    .dataframe tbody tr th {\n",
              "        vertical-align: top;\n",
              "    }\n",
              "\n",
              "    .dataframe thead th {\n",
              "        text-align: right;\n",
              "    }\n",
              "</style>\n",
              "<table border=\"1\" class=\"dataframe\">\n",
              "  <thead>\n",
              "    <tr style=\"text-align: right;\">\n",
              "      <th></th>\n",
              "      <th>tweet_id</th>\n",
              "      <th>safe_text</th>\n",
              "      <th>label</th>\n",
              "      <th>agreement</th>\n",
              "    </tr>\n",
              "  </thead>\n",
              "  <tbody>\n",
              "    <tr>\n",
              "      <th>0</th>\n",
              "      <td>CL1KWCMY</td>\n",
              "      <td>Me &amp;amp; The Big Homie meanboy3000 #MEANBOY #M...</td>\n",
              "      <td>0.0</td>\n",
              "      <td>1.000000</td>\n",
              "    </tr>\n",
              "    <tr>\n",
              "      <th>1</th>\n",
              "      <td>E3303EME</td>\n",
              "      <td>I'm 100% thinking of devoting my career to pro...</td>\n",
              "      <td>1.0</td>\n",
              "      <td>1.000000</td>\n",
              "    </tr>\n",
              "    <tr>\n",
              "      <th>2</th>\n",
              "      <td>M4IVFSMS</td>\n",
              "      <td>#whatcausesautism VACCINES, DO NOT VACCINATE Y...</td>\n",
              "      <td>-1.0</td>\n",
              "      <td>1.000000</td>\n",
              "    </tr>\n",
              "    <tr>\n",
              "      <th>3</th>\n",
              "      <td>1DR6ROZ4</td>\n",
              "      <td>I mean if they immunize my kid with something ...</td>\n",
              "      <td>-1.0</td>\n",
              "      <td>1.000000</td>\n",
              "    </tr>\n",
              "    <tr>\n",
              "      <th>4</th>\n",
              "      <td>J77ENIIE</td>\n",
              "      <td>Thanks to &lt;user&gt; Catch me performing at La Nui...</td>\n",
              "      <td>0.0</td>\n",
              "      <td>1.000000</td>\n",
              "    </tr>\n",
              "    <tr>\n",
              "      <th>...</th>\n",
              "      <td>...</td>\n",
              "      <td>...</td>\n",
              "      <td>...</td>\n",
              "      <td>...</td>\n",
              "    </tr>\n",
              "    <tr>\n",
              "      <th>9996</th>\n",
              "      <td>IU0TIJDI</td>\n",
              "      <td>Living in a time where the sperm I used to was...</td>\n",
              "      <td>1.0</td>\n",
              "      <td>1.000000</td>\n",
              "    </tr>\n",
              "    <tr>\n",
              "      <th>9997</th>\n",
              "      <td>WKKPCJY6</td>\n",
              "      <td>&lt;user&gt; &lt;user&gt;  In spite of all measles outbrea...</td>\n",
              "      <td>1.0</td>\n",
              "      <td>0.666667</td>\n",
              "    </tr>\n",
              "    <tr>\n",
              "      <th>9998</th>\n",
              "      <td>ST3A265H</td>\n",
              "      <td>Interesting trends in child immunization in Ok...</td>\n",
              "      <td>0.0</td>\n",
              "      <td>1.000000</td>\n",
              "    </tr>\n",
              "    <tr>\n",
              "      <th>9999</th>\n",
              "      <td>6Z27IJGD</td>\n",
              "      <td>CDC Says Measles Are At Highest Levels In Deca...</td>\n",
              "      <td>0.0</td>\n",
              "      <td>1.000000</td>\n",
              "    </tr>\n",
              "    <tr>\n",
              "      <th>10000</th>\n",
              "      <td>P6190L3Q</td>\n",
              "      <td>Pneumonia vaccine: for women w risk of pulmona...</td>\n",
              "      <td>1.0</td>\n",
              "      <td>0.666667</td>\n",
              "    </tr>\n",
              "  </tbody>\n",
              "</table>\n",
              "<p>9999 rows × 4 columns</p>\n",
              "</div>"
            ],
            "text/plain": [
              "       tweet_id  ... agreement\n",
              "0      CL1KWCMY  ...  1.000000\n",
              "1      E3303EME  ...  1.000000\n",
              "2      M4IVFSMS  ...  1.000000\n",
              "3      1DR6ROZ4  ...  1.000000\n",
              "4      J77ENIIE  ...  1.000000\n",
              "...         ...  ...       ...\n",
              "9996   IU0TIJDI  ...  1.000000\n",
              "9997   WKKPCJY6  ...  0.666667\n",
              "9998   ST3A265H  ...  1.000000\n",
              "9999   6Z27IJGD  ...  1.000000\n",
              "10000  P6190L3Q  ...  0.666667\n",
              "\n",
              "[9999 rows x 4 columns]"
            ]
          },
          "metadata": {
            "tags": []
          },
          "execution_count": 6
        }
      ]
    },
    {
      "cell_type": "code",
      "metadata": {
        "id": "k9uSML7qzpF9",
        "colab_type": "code",
        "colab": {
          "base_uri": "https://localhost:8080/",
          "height": 225
        },
        "outputId": "e1df643a-320d-4566-fb9d-74d9f7959625"
      },
      "source": [
        "# checking null values\n",
        "unique = [row for row in train['safe_text'].unique()]\n",
        "print(\"Number of unique values\")\n",
        "print(train['tweet_id'].nunique())\n",
        "print(\"\\nTotal number of values\")\n",
        "print(len(train['tweet_id']))\n",
        "print(\"\\nNumber of null values:\\n\" + str(train.isnull().sum()))"
      ],
      "execution_count": 7,
      "outputs": [
        {
          "output_type": "stream",
          "text": [
            "Number of unique values\n",
            "9999\n",
            "\n",
            "Total number of values\n",
            "9999\n",
            "\n",
            "Number of null values:\n",
            "tweet_id     0\n",
            "safe_text    0\n",
            "label        0\n",
            "agreement    0\n",
            "dtype: int64\n"
          ],
          "name": "stdout"
        }
      ]
    },
    {
      "cell_type": "code",
      "metadata": {
        "id": "nxQKOHl4zyxF",
        "colab_type": "code",
        "colab": {}
      },
      "source": [
        "grouped = train[['label', 'safe_text',]].groupby('label').count()"
      ],
      "execution_count": 8,
      "outputs": []
    },
    {
      "cell_type": "code",
      "metadata": {
        "id": "Bg4yKhbk3pcw",
        "colab_type": "code",
        "colab": {
          "base_uri": "https://localhost:8080/",
          "height": 172
        },
        "outputId": "a8200064-e419-4066-dc7a-b2f6225ee5b3"
      },
      "source": [
        "grouped"
      ],
      "execution_count": 9,
      "outputs": [
        {
          "output_type": "execute_result",
          "data": {
            "text/html": [
              "<div>\n",
              "<style scoped>\n",
              "    .dataframe tbody tr th:only-of-type {\n",
              "        vertical-align: middle;\n",
              "    }\n",
              "\n",
              "    .dataframe tbody tr th {\n",
              "        vertical-align: top;\n",
              "    }\n",
              "\n",
              "    .dataframe thead th {\n",
              "        text-align: right;\n",
              "    }\n",
              "</style>\n",
              "<table border=\"1\" class=\"dataframe\">\n",
              "  <thead>\n",
              "    <tr style=\"text-align: right;\">\n",
              "      <th></th>\n",
              "      <th>safe_text</th>\n",
              "    </tr>\n",
              "    <tr>\n",
              "      <th>label</th>\n",
              "      <th></th>\n",
              "    </tr>\n",
              "  </thead>\n",
              "  <tbody>\n",
              "    <tr>\n",
              "      <th>-1.0</th>\n",
              "      <td>1038</td>\n",
              "    </tr>\n",
              "    <tr>\n",
              "      <th>0.0</th>\n",
              "      <td>4908</td>\n",
              "    </tr>\n",
              "    <tr>\n",
              "      <th>1.0</th>\n",
              "      <td>4053</td>\n",
              "    </tr>\n",
              "  </tbody>\n",
              "</table>\n",
              "</div>"
            ],
            "text/plain": [
              "       safe_text\n",
              "label           \n",
              "-1.0        1038\n",
              " 0.0        4908\n",
              " 1.0        4053"
            ]
          },
          "metadata": {
            "tags": []
          },
          "execution_count": 9
        }
      ]
    },
    {
      "cell_type": "markdown",
      "metadata": {
        "id": "y1HrEswL4Z2e",
        "colab_type": "text"
      },
      "source": [
        "Looks a lot better!!!"
      ]
    },
    {
      "cell_type": "code",
      "metadata": {
        "id": "jOlEQaub44iL",
        "colab_type": "code",
        "colab": {
          "base_uri": "https://localhost:8080/",
          "height": 52
        },
        "outputId": "a36df7a3-1f6d-47d9-80a5-e3b44d3268c8"
      },
      "source": [
        "# plotting\n",
        "import matplotlib.pyplot as plt\n",
        "import seaborn as sns\n",
        "plt.style.use('seaborn-deep')"
      ],
      "execution_count": 10,
      "outputs": [
        {
          "output_type": "stream",
          "text": [
            "/usr/local/lib/python3.6/dist-packages/statsmodels/tools/_testing.py:19: FutureWarning: pandas.util.testing is deprecated. Use the functions in the public API at pandas.testing instead.\n",
            "  import pandas.util.testing as tm\n"
          ],
          "name": "stderr"
        }
      ]
    },
    {
      "cell_type": "code",
      "metadata": {
        "id": "aLnu9CnS4dho",
        "colab_type": "code",
        "colab": {
          "base_uri": "https://localhost:8080/",
          "height": 305
        },
        "outputId": "6e63a061-0091-45a5-b2ca-969a35a2a093"
      },
      "source": [
        "grouped.sort_values('safe_text', ascending=True).plot(kind='bar')\n",
        "plt.title('Sentiment distribution')\n",
        "plt.ylabel('count')\n",
        "plt.xlabel('type of sentiment')\n",
        "plt.show()"
      ],
      "execution_count": 11,
      "outputs": [
        {
          "output_type": "display_data",
          "data": {
            "image/png": "[encoded data removed]",
            "text/plain": [
              "<Figure size 432x288 with 1 Axes>"
            ]
          },
          "metadata": {
            "tags": [],
            "needs_background": "light"
          }
        }
      ]
    },
    {
      "cell_type": "markdown",
      "metadata": {
        "id": "k2Kmmv2Q48q8",
        "colab_type": "text"
      },
      "source": [
        "The data is unbalanced.\n",
        "\n",
        "To counter this the following strategies can be used\n",
        "- cross validation\n",
        "- use small test size\n",
        "- use stratify in train-test split\n",
        "- use SMOTE\n",
        "- up-sampling of data\n",
        "- down-sampling of data\n"
      ]
    },
    {
      "cell_type": "code",
      "metadata": {
        "id": "SHWNUqYLIYF3",
        "colab_type": "code",
        "colab": {}
      },
      "source": [
        "train['agreement'] = train['agreement'].round(2)"
      ],
      "execution_count": 12,
      "outputs": []
    },
    {
      "cell_type": "code",
      "metadata": {
        "id": "i5fdqbsdFiu4",
        "colab_type": "code",
        "colab": {
          "base_uri": "https://localhost:8080/",
          "height": 312
        },
        "outputId": "ca51d859-30fc-47d3-a39d-457229d83084"
      },
      "source": [
        "#looking at agreement column\n",
        "plt.hist(train['agreement'], bins = 100, edgecolor = 'k')\n",
        "plt.xlabel('count') \n",
        "plt.title('Distribution of agreement values')"
      ],
      "execution_count": 13,
      "outputs": [
        {
          "output_type": "execute_result",
          "data": {
            "text/plain": [
              "Text(0.5, 1.0, 'Distribution of agreement values')"
            ]
          },
          "metadata": {
            "tags": []
          },
          "execution_count": 13
        },
        {
          "output_type": "display_data",
          "data": {
            "image/png": "[encoded data removed]",
            "text/plain": [
              "<Figure size 432x288 with 1 Axes>"
            ]
          },
          "metadata": {
            "tags": [],
            "needs_background": "light"
          }
        }
      ]
    },
    {
      "cell_type": "code",
      "metadata": {
        "id": "YbJFTZGFGIcM",
        "colab_type": "code",
        "colab": {
          "base_uri": "https://localhost:8080/",
          "height": 172
        },
        "outputId": "12f89255-f15f-4dd8-8126-86d6b8adf3fb"
      },
      "source": [
        "agreed = train[['agreement', 'safe_text',]].groupby('agreement').count()\n",
        "agreed"
      ],
      "execution_count": 14,
      "outputs": [
        {
          "output_type": "execute_result",
          "data": {
            "text/html": [
              "<div>\n",
              "<style scoped>\n",
              "    .dataframe tbody tr th:only-of-type {\n",
              "        vertical-align: middle;\n",
              "    }\n",
              "\n",
              "    .dataframe tbody tr th {\n",
              "        vertical-align: top;\n",
              "    }\n",
              "\n",
              "    .dataframe thead th {\n",
              "        text-align: right;\n",
              "    }\n",
              "</style>\n",
              "<table border=\"1\" class=\"dataframe\">\n",
              "  <thead>\n",
              "    <tr style=\"text-align: right;\">\n",
              "      <th></th>\n",
              "      <th>safe_text</th>\n",
              "    </tr>\n",
              "    <tr>\n",
              "      <th>agreement</th>\n",
              "      <th></th>\n",
              "    </tr>\n",
              "  </thead>\n",
              "  <tbody>\n",
              "    <tr>\n",
              "      <th>0.33</th>\n",
              "      <td>239</td>\n",
              "    </tr>\n",
              "    <tr>\n",
              "      <th>0.67</th>\n",
              "      <td>3894</td>\n",
              "    </tr>\n",
              "    <tr>\n",
              "      <th>1.00</th>\n",
              "      <td>5866</td>\n",
              "    </tr>\n",
              "  </tbody>\n",
              "</table>\n",
              "</div>"
            ],
            "text/plain": [
              "           safe_text\n",
              "agreement           \n",
              "0.33             239\n",
              "0.67            3894\n",
              "1.00            5866"
            ]
          },
          "metadata": {
            "tags": []
          },
          "execution_count": 14
        }
      ]
    },
    {
      "cell_type": "markdown",
      "metadata": {
        "id": "IaKWkbunGW1c",
        "colab_type": "text"
      },
      "source": [
        "To improve the model accuracy\n",
        "- use agreement more than 0.3\n",
        "- only use 100% agreement"
      ]
    },
    {
      "cell_type": "code",
      "metadata": {
        "id": "z9yuheZuG76y",
        "colab_type": "code",
        "colab": {}
      },
      "source": [
        "# Dropping rows where agreement is not 0.67\n",
        "data = train[train['agreement'] > 0.66]"
      ],
      "execution_count": 19,
      "outputs": []
    },
    {
      "cell_type": "code",
      "metadata": {
        "id": "mSN3m6XuHFxf",
        "colab_type": "code",
        "colab": {
          "base_uri": "https://localhost:8080/",
          "height": 416
        },
        "outputId": "2a2eb321-3dd8-434b-b8fc-050f8d06c916"
      },
      "source": [
        "data"
      ],
      "execution_count": 20,
      "outputs": [
        {
          "output_type": "execute_result",
          "data": {
            "text/html": [
              "<div>\n",
              "<style scoped>\n",
              "    .dataframe tbody tr th:only-of-type {\n",
              "        vertical-align: middle;\n",
              "    }\n",
              "\n",
              "    .dataframe tbody tr th {\n",
              "        vertical-align: top;\n",
              "    }\n",
              "\n",
              "    .dataframe thead th {\n",
              "        text-align: right;\n",
              "    }\n",
              "</style>\n",
              "<table border=\"1\" class=\"dataframe\">\n",
              "  <thead>\n",
              "    <tr style=\"text-align: right;\">\n",
              "      <th></th>\n",
              "      <th>tweet_id</th>\n",
              "      <th>safe_text</th>\n",
              "      <th>label</th>\n",
              "      <th>agreement</th>\n",
              "    </tr>\n",
              "  </thead>\n",
              "  <tbody>\n",
              "    <tr>\n",
              "      <th>0</th>\n",
              "      <td>CL1KWCMY</td>\n",
              "      <td>Me &amp;amp; The Big Homie meanboy3000 #MEANBOY #M...</td>\n",
              "      <td>0.0</td>\n",
              "      <td>1.00</td>\n",
              "    </tr>\n",
              "    <tr>\n",
              "      <th>1</th>\n",
              "      <td>E3303EME</td>\n",
              "      <td>I'm 100% thinking of devoting my career to pro...</td>\n",
              "      <td>1.0</td>\n",
              "      <td>1.00</td>\n",
              "    </tr>\n",
              "    <tr>\n",
              "      <th>2</th>\n",
              "      <td>M4IVFSMS</td>\n",
              "      <td>#whatcausesautism VACCINES, DO NOT VACCINATE Y...</td>\n",
              "      <td>-1.0</td>\n",
              "      <td>1.00</td>\n",
              "    </tr>\n",
              "    <tr>\n",
              "      <th>3</th>\n",
              "      <td>1DR6ROZ4</td>\n",
              "      <td>I mean if they immunize my kid with something ...</td>\n",
              "      <td>-1.0</td>\n",
              "      <td>1.00</td>\n",
              "    </tr>\n",
              "    <tr>\n",
              "      <th>4</th>\n",
              "      <td>J77ENIIE</td>\n",
              "      <td>Thanks to &lt;user&gt; Catch me performing at La Nui...</td>\n",
              "      <td>0.0</td>\n",
              "      <td>1.00</td>\n",
              "    </tr>\n",
              "    <tr>\n",
              "      <th>...</th>\n",
              "      <td>...</td>\n",
              "      <td>...</td>\n",
              "      <td>...</td>\n",
              "      <td>...</td>\n",
              "    </tr>\n",
              "    <tr>\n",
              "      <th>9996</th>\n",
              "      <td>IU0TIJDI</td>\n",
              "      <td>Living in a time where the sperm I used to was...</td>\n",
              "      <td>1.0</td>\n",
              "      <td>1.00</td>\n",
              "    </tr>\n",
              "    <tr>\n",
              "      <th>9997</th>\n",
              "      <td>WKKPCJY6</td>\n",
              "      <td>&lt;user&gt; &lt;user&gt;  In spite of all measles outbrea...</td>\n",
              "      <td>1.0</td>\n",
              "      <td>0.67</td>\n",
              "    </tr>\n",
              "    <tr>\n",
              "      <th>9998</th>\n",
              "      <td>ST3A265H</td>\n",
              "      <td>Interesting trends in child immunization in Ok...</td>\n",
              "      <td>0.0</td>\n",
              "      <td>1.00</td>\n",
              "    </tr>\n",
              "    <tr>\n",
              "      <th>9999</th>\n",
              "      <td>6Z27IJGD</td>\n",
              "      <td>CDC Says Measles Are At Highest Levels In Deca...</td>\n",
              "      <td>0.0</td>\n",
              "      <td>1.00</td>\n",
              "    </tr>\n",
              "    <tr>\n",
              "      <th>10000</th>\n",
              "      <td>P6190L3Q</td>\n",
              "      <td>Pneumonia vaccine: for women w risk of pulmona...</td>\n",
              "      <td>1.0</td>\n",
              "      <td>0.67</td>\n",
              "    </tr>\n",
              "  </tbody>\n",
              "</table>\n",
              "<p>9760 rows × 4 columns</p>\n",
              "</div>"
            ],
            "text/plain": [
              "       tweet_id  ... agreement\n",
              "0      CL1KWCMY  ...      1.00\n",
              "1      E3303EME  ...      1.00\n",
              "2      M4IVFSMS  ...      1.00\n",
              "3      1DR6ROZ4  ...      1.00\n",
              "4      J77ENIIE  ...      1.00\n",
              "...         ...  ...       ...\n",
              "9996   IU0TIJDI  ...      1.00\n",
              "9997   WKKPCJY6  ...      0.67\n",
              "9998   ST3A265H  ...      1.00\n",
              "9999   6Z27IJGD  ...      1.00\n",
              "10000  P6190L3Q  ...      0.67\n",
              "\n",
              "[9760 rows x 4 columns]"
            ]
          },
          "metadata": {
            "tags": []
          },
          "execution_count": 20
        }
      ]
    },
    {
      "cell_type": "code",
      "metadata": {
        "id": "cN1h5hGYEIte",
        "colab_type": "code",
        "colab": {
          "base_uri": "https://localhost:8080/",
          "height": 294
        },
        "outputId": "a258f989-942e-4f37-8e41-baee39f962b6"
      },
      "source": [
        "#looking at agreement column\n",
        "plt.hist(data['label'], bins = 100, edgecolor = 'k')\n",
        "plt.xlabel('count') \n",
        "plt.title('Distribution of agreement values')\n",
        "plt.show()"
      ],
      "execution_count": 21,
      "outputs": [
        {
          "output_type": "display_data",
          "data": {
            "image/png": "[encoded data removed]",
            "text/plain": [
              "<Figure size 432x288 with 1 Axes>"
            ]
          },
          "metadata": {
            "tags": [],
            "needs_background": "light"
          }
        }
      ]
    },
    {
      "cell_type": "markdown",
      "metadata": {
        "id": "ICuysHcOEUjF",
        "colab_type": "text"
      },
      "source": [
        "The data is still very imbalanced"
      ]
    },
    {
      "cell_type": "markdown",
      "metadata": {
        "id": "PnxX8rPx_41j",
        "colab_type": "text"
      },
      "source": [
        "# EDA"
      ]
    },
    {
      "cell_type": "code",
      "metadata": {
        "id": "nWjWhsqO5WKu",
        "colab_type": "code",
        "colab": {}
      },
      "source": [
        "from nltk.tokenize import TweetTokenizer"
      ],
      "execution_count": 22,
      "outputs": []
    },
    {
      "cell_type": "code",
      "metadata": {
        "id": "khY8AHccAgi6",
        "colab_type": "code",
        "colab": {}
      },
      "source": [
        "\n",
        "def bag_of_words_count(words, word_dict={}):\n",
        "    \"\"\" this function takes in a list of words and returns a dictionary \n",
        "        with each word as a key, and the value represents the number of \n",
        "        times that word appeared\"\"\"\n",
        "    for word in words:\n",
        "        if word in word_dict.keys():\n",
        "            word_dict[word] += 1\n",
        "        else:\n",
        "            word_dict[word] = 1\n",
        "    return word_dict"
      ],
      "execution_count": 23,
      "outputs": []
    },
    {
      "cell_type": "code",
      "metadata": {
        "id": "zrsekUf9_7tf",
        "colab_type": "code",
        "colab": {
          "base_uri": "https://localhost:8080/",
          "height": 121
        },
        "outputId": "2ccbaf84-3ddd-4cdf-946e-56f6d4a6cfc9"
      },
      "source": [
        "tokeniser = TweetTokenizer()\n",
        "data['tokens'] = data['safe_text'].apply(tokeniser.tokenize)\n",
        "sentiment_labels = list(set(data['label'].values))\n",
        "sentiment = {}\n",
        "for sent in sentiment_labels:\n",
        "    df = data.groupby('label')\n",
        "    sentiment[sent] = {}\n",
        "    for row in df.get_group(sent)['tokens']:\n",
        "        sentiment[sent] = bag_of_words_count(row, sentiment[sent])"
      ],
      "execution_count": 24,
      "outputs": [
        {
          "output_type": "stream",
          "text": [
            "/usr/local/lib/python3.6/dist-packages/ipykernel_launcher.py:2: SettingWithCopyWarning: \n",
            "A value is trying to be set on a copy of a slice from a DataFrame.\n",
            "Try using .loc[row_indexer,col_indexer] = value instead\n",
            "\n",
            "See the caveats in the documentation: https://pandas.pydata.org/pandas-docs/stable/user_guide/indexing.html#returning-a-view-versus-a-copy\n",
            "  \n"
          ],
          "name": "stderr"
        }
      ]
    },
    {
      "cell_type": "code",
      "metadata": {
        "id": "GXRmxP3fANFv",
        "colab_type": "code",
        "colab": {}
      },
      "source": [
        "anti = {key: value for key, value in sorted(sentiment[-1].items(), key=lambda item: item[1], reverse=True)}\n",
        "neutral = {key: value for key, value in sorted(sentiment[0].items(), key=lambda item: item[1], reverse=True)}\n",
        "pro = {key: value for key, value in sorted(sentiment[1].items(), key=lambda item: item[1], reverse=True)}"
      ],
      "execution_count": 25,
      "outputs": []
    },
    {
      "cell_type": "code",
      "metadata": {
        "id": "iEHykvUTJZkA",
        "colab_type": "code",
        "colab": {
          "base_uri": "https://localhost:8080/",
          "height": 86
        },
        "outputId": "69be113b-1a45-47f6-e066-ce3a9e2472d8"
      },
      "source": [
        "from string import punctuation\n",
        "import nltk\n",
        "nltk.download(['stopwords','punkt'])\n",
        "from nltk.corpus import stopwords"
      ],
      "execution_count": 26,
      "outputs": [
        {
          "output_type": "stream",
          "text": [
            "[nltk_data] Downloading package stopwords to /root/nltk_data...\n",
            "[nltk_data]   Package stopwords is already up-to-date!\n",
            "[nltk_data] Downloading package punkt to /root/nltk_data...\n",
            "[nltk_data]   Package punkt is already up-to-date!\n"
          ],
          "name": "stdout"
        }
      ]
    },
    {
      "cell_type": "code",
      "metadata": {
        "id": "YfZsU8d0J1hp",
        "colab_type": "code",
        "colab": {}
      },
      "source": [
        "random = set(stopwords.words('english') + list(punctuation)+[\"<user>\",\"<url>\"])"
      ],
      "execution_count": 27,
      "outputs": []
    },
    {
      "cell_type": "code",
      "metadata": {
        "id": "VgnsZck-BAM-",
        "colab_type": "code",
        "colab": {}
      },
      "source": [
        "# anti\n",
        "anti_keys = [key for key in anti.keys() if key not in random]\n",
        "anti_values = [value[1] for value in anti.items() if value[0] not in random]\n",
        "# neutral\n",
        "neutral_keys = [key for key in neutral.keys() if key not in random]\n",
        "neutral_values = [value[1] for value in neutral.items() if value[0] not in random]\n",
        "# pro\n",
        "pro_keys = [key for key in pro.keys() if key not in random]\n",
        "pro_values = [value[1] for value in pro.items() if value[0] not in random]\n"
      ],
      "execution_count": 29,
      "outputs": []
    },
    {
      "cell_type": "code",
      "metadata": {
        "id": "TKGthEYQBp8S",
        "colab_type": "code",
        "colab": {
          "base_uri": "https://localhost:8080/",
          "height": 893
        },
        "outputId": "1cbf6872-085b-4898-872c-5ab5a8bc1cc5"
      },
      "source": [
        "f, ax = plt.subplots(figsize=(6, 15))\n",
        "sns.barplot(anti_values[0:20],anti_keys[0:20])\n",
        "# Add a legend and informative axis label\n",
        "ax.set(ylabel=\"\",\n",
        "       xlabel=\"counts\")\n",
        "ax.title.set_text('The most common words in anti tweets.')\n",
        "sns.despine(left=True, bottom=True)"
      ],
      "execution_count": 30,
      "outputs": [
        {
          "output_type": "display_data",
          "data": {
            "image/png": "[encoded data removed]",
            "text/plain": [
              "<Figure size 432x1080 with 1 Axes>"
            ]
          },
          "metadata": {
            "tags": [],
            "needs_background": "light"
          }
        }
      ]
    },
    {
      "cell_type": "code",
      "metadata": {
        "id": "F_zDJVSUB4Zu",
        "colab_type": "code",
        "colab": {
          "base_uri": "https://localhost:8080/",
          "height": 893
        },
        "outputId": "161e1968-476f-436e-a8d5-da6f003be820"
      },
      "source": [
        "f, ax = plt.subplots(figsize=(6, 15))\n",
        "sns.barplot(neutral_values[0:20],neutral_keys[0:20])\n",
        "# Add a legend and informative axis label\n",
        "ax.set(ylabel=\"\",\n",
        "       xlabel=\"counts\")\n",
        "ax.title.set_text('The most common words in neutral tweets.')\n",
        "sns.despine(left=True, bottom=True)"
      ],
      "execution_count": 31,
      "outputs": [
        {
          "output_type": "display_data",
          "data": {
            "image/png": "[encoded data removed]",
            "text/plain": [
              "<Figure size 432x1080 with 1 Axes>"
            ]
          },
          "metadata": {
            "tags": [],
            "needs_background": "light"
          }
        }
      ]
    },
    {
      "cell_type": "code",
      "metadata": {
        "id": "afmVv86TB_a_",
        "colab_type": "code",
        "colab": {
          "base_uri": "https://localhost:8080/",
          "height": 893
        },
        "outputId": "08c061a6-bcc6-4e54-a7f7-5661507ac5b0"
      },
      "source": [
        "f, ax = plt.subplots(figsize=(6, 15))\n",
        "sns.barplot(pro_values[0:20],pro_keys[0:20])\n",
        "# Add a legend and informative axis label\n",
        "ax.set(ylabel=\"\",\n",
        "       xlabel=\"counts\")\n",
        "ax.title.set_text('The most common words in pro tweets.')\n",
        "sns.despine(left=True, bottom=True)"
      ],
      "execution_count": 32,
      "outputs": [
        {
          "output_type": "display_data",
          "data": {
            "image/png": "[encoded data removed]",
            "text/plain": [
              "<Figure size 432x1080 with 1 Axes>"
            ]
          },
          "metadata": {
            "tags": [],
            "needs_background": "light"
          }
        }
      ]
    },
    {
      "cell_type": "markdown",
      "metadata": {
        "id": "szVDlTqILInf",
        "colab_type": "text"
      },
      "source": [
        "Look into the words user and URL"
      ]
    },
    {
      "cell_type": "code",
      "metadata": {
        "id": "DDVr51wPLv7Q",
        "colab_type": "code",
        "colab": {}
      },
      "source": [
        "anti_tweets = data['safe_text'][data['label']==-1]\n",
        "neutral_tweets = data['safe_text'][data['label']==0]\n",
        "pro_tweets = data['safe_text'][data['label']==1]"
      ],
      "execution_count": 33,
      "outputs": []
    },
    {
      "cell_type": "code",
      "metadata": {
        "id": "ckqXKuffLOMa",
        "colab_type": "code",
        "colab": {}
      },
      "source": [
        "anti_hashtags = anti_tweets.str.extractall(r'(\\#\\w+)')[0].value_counts()\n",
        "neutral_hashtags = neutral_tweets.str.extractall(r'(\\#\\w+)')[0].value_counts()\n",
        "pro_hashtags = pro_tweets.str.extractall(r'(\\#\\w+)')[0].value_counts()"
      ],
      "execution_count": 34,
      "outputs": []
    },
    {
      "cell_type": "code",
      "metadata": {
        "id": "BlttOe4mLnyc",
        "colab_type": "code",
        "colab": {
          "base_uri": "https://localhost:8080/",
          "height": 242
        },
        "outputId": "8d1c8488-7d57-4821-cdd6-40a05120d52f"
      },
      "source": [
        "print(\"\\033[1mAnti hastags\\033[0m\\n\" + str(anti_hashtags))"
      ],
      "execution_count": 35,
      "outputs": [
        {
          "output_type": "stream",
          "text": [
            "\u001b[1mAnti hastags\u001b[0m\n",
            "#CDCwhistleblower               65\n",
            "#autism                         20\n",
            "#vaccines                       19\n",
            "#vaccine                        16\n",
            "#VaxTruth                       10\n",
            "                                ..\n",
            "#GuillamBared                    1\n",
            "#fearmongers                     1\n",
            "#healthfreedom                   1\n",
            "#pediatrics                      1\n",
            "#ConfessYourUnpopularOpinion     1\n",
            "Name: 0, Length: 233, dtype: int64\n"
          ],
          "name": "stdout"
        }
      ]
    },
    {
      "cell_type": "code",
      "metadata": {
        "id": "OYjauZVhOsiI",
        "colab_type": "code",
        "colab": {
          "base_uri": "https://localhost:8080/",
          "height": 242
        },
        "outputId": "c5e79ebb-63e2-4c17-8cbf-5f4b98ae67bb"
      },
      "source": [
        "print(\"\\033[1mNeutral hastags\\033[0m\\n\" + str(neutral_hashtags))"
      ],
      "execution_count": 36,
      "outputs": [
        {
          "output_type": "stream",
          "text": [
            "\u001b[1mNeutral hastags\u001b[0m\n",
            "#MMR                 210\n",
            "#measles             162\n",
            "#mmr                 140\n",
            "#Ebola                53\n",
            "#dc                   48\n",
            "                    ... \n",
            "#patriotism            1\n",
            "#peg                   1\n",
            "#thingsoverheard       1\n",
            "#greens                1\n",
            "#sightbeyondsight      1\n",
            "Name: 0, Length: 1533, dtype: int64\n"
          ],
          "name": "stdout"
        }
      ]
    },
    {
      "cell_type": "code",
      "metadata": {
        "id": "yLFZHZIfPKqR",
        "colab_type": "code",
        "colab": {
          "base_uri": "https://localhost:8080/",
          "height": 242
        },
        "outputId": "24ea675c-c076-4d13-fcb9-ab6971c17d58"
      },
      "source": [
        "print(\"\\033[1mPro hastags\\033[0m\\n\" + str(pro_hashtags))"
      ],
      "execution_count": 37,
      "outputs": [
        {
          "output_type": "stream",
          "text": [
            "\u001b[1mPro hastags\u001b[0m\n",
            "#vaccineswork        118\n",
            "#measles             101\n",
            "#vaccines             50\n",
            "#vaccine              45\n",
            "#vaccinate            42\n",
            "                    ... \n",
            "#hateantivaxxers       1\n",
            "#AspenIdeas            1\n",
            "#Dogtism               1\n",
            "#onetime               1\n",
            "#ColorMeImpressed      1\n",
            "Name: 0, Length: 941, dtype: int64\n"
          ],
          "name": "stdout"
        }
      ]
    },
    {
      "cell_type": "code",
      "metadata": {
        "id": "4R1n0NhTbo3E",
        "colab_type": "code",
        "colab": {}
      },
      "source": [
        "eda = pd.DataFrame()\n",
        "eda['pro_hashtags'] = list(pro_hashtags.index)[0:20]\n",
        "eda['pro_counts'] = list(pro_hashtags.values)[0:20]\n",
        "eda['neutral_hashtags'] = list(neutral_hashtags.index)[0:20]\n",
        "eda['neutral_counts'] = list(neutral_hashtags.values)[0:20]\n",
        "eda['anti_hashtags'] = list(anti_hashtags.index)[0:20]\n",
        "eda['anti_counts'] = list(anti_hashtags.values)[0:20]\n"
      ],
      "execution_count": 38,
      "outputs": []
    },
    {
      "cell_type": "code",
      "metadata": {
        "id": "EFafSOjScJQW",
        "colab_type": "code",
        "colab": {
          "base_uri": "https://localhost:8080/",
          "height": 202
        },
        "outputId": "dee550a2-78f9-498f-c9d7-aec959e79255"
      },
      "source": [
        "eda.head()"
      ],
      "execution_count": 39,
      "outputs": [
        {
          "output_type": "execute_result",
          "data": {
            "text/html": [
              "<div>\n",
              "<style scoped>\n",
              "    .dataframe tbody tr th:only-of-type {\n",
              "        vertical-align: middle;\n",
              "    }\n",
              "\n",
              "    .dataframe tbody tr th {\n",
              "        vertical-align: top;\n",
              "    }\n",
              "\n",
              "    .dataframe thead th {\n",
              "        text-align: right;\n",
              "    }\n",
              "</style>\n",
              "<table border=\"1\" class=\"dataframe\">\n",
              "  <thead>\n",
              "    <tr style=\"text-align: right;\">\n",
              "      <th></th>\n",
              "      <th>pro_hashtags</th>\n",
              "      <th>pro_counts</th>\n",
              "      <th>neutral_hashtags</th>\n",
              "      <th>neutral_counts</th>\n",
              "      <th>anti_hashtags</th>\n",
              "      <th>anti_counts</th>\n",
              "    </tr>\n",
              "  </thead>\n",
              "  <tbody>\n",
              "    <tr>\n",
              "      <th>0</th>\n",
              "      <td>#vaccineswork</td>\n",
              "      <td>118</td>\n",
              "      <td>#MMR</td>\n",
              "      <td>210</td>\n",
              "      <td>#CDCwhistleblower</td>\n",
              "      <td>65</td>\n",
              "    </tr>\n",
              "    <tr>\n",
              "      <th>1</th>\n",
              "      <td>#measles</td>\n",
              "      <td>101</td>\n",
              "      <td>#measles</td>\n",
              "      <td>162</td>\n",
              "      <td>#autism</td>\n",
              "      <td>20</td>\n",
              "    </tr>\n",
              "    <tr>\n",
              "      <th>2</th>\n",
              "      <td>#vaccines</td>\n",
              "      <td>50</td>\n",
              "      <td>#mmr</td>\n",
              "      <td>140</td>\n",
              "      <td>#vaccines</td>\n",
              "      <td>19</td>\n",
              "    </tr>\n",
              "    <tr>\n",
              "      <th>3</th>\n",
              "      <td>#vaccine</td>\n",
              "      <td>45</td>\n",
              "      <td>#Ebola</td>\n",
              "      <td>53</td>\n",
              "      <td>#vaccine</td>\n",
              "      <td>16</td>\n",
              "    </tr>\n",
              "    <tr>\n",
              "      <th>4</th>\n",
              "      <td>#vaccinate</td>\n",
              "      <td>42</td>\n",
              "      <td>#dc</td>\n",
              "      <td>48</td>\n",
              "      <td>#VaxTruth</td>\n",
              "      <td>10</td>\n",
              "    </tr>\n",
              "  </tbody>\n",
              "</table>\n",
              "</div>"
            ],
            "text/plain": [
              "    pro_hashtags  pro_counts  ...      anti_hashtags  anti_counts\n",
              "0  #vaccineswork         118  ...  #CDCwhistleblower           65\n",
              "1       #measles         101  ...            #autism           20\n",
              "2      #vaccines          50  ...          #vaccines           19\n",
              "3       #vaccine          45  ...           #vaccine           16\n",
              "4     #vaccinate          42  ...          #VaxTruth           10\n",
              "\n",
              "[5 rows x 6 columns]"
            ]
          },
          "metadata": {
            "tags": []
          },
          "execution_count": 39
        }
      ]
    },
    {
      "cell_type": "code",
      "metadata": {
        "id": "L0AK3y2jacIN",
        "colab_type": "code",
        "colab": {
          "base_uri": "https://localhost:8080/",
          "height": 404
        },
        "outputId": "032813fd-4905-438c-e8b8-fe397f675871"
      },
      "source": [
        "#plot these findings\n",
        "f, ax = plt.subplots(figsize=(6, 6))\n",
        "anti_hashtags[0:20].plot(kind='barh')\n",
        "# Add a legend and informative axis label\n",
        "ax.set(ylabel=\"\",\n",
        "       xlabel=\"counts\")\n",
        "ax.title.set_text('Top 20 hashtags for anti tweets')\n",
        "sns.despine(left=True, bottom=True)\n",
        "plt.show()\n"
      ],
      "execution_count": 40,
      "outputs": [
        {
          "output_type": "display_data",
          "data": {
            "image/png": "[encoded data removed]",
            "text/plain": [
              "<Figure size 432x432 with 1 Axes>"
            ]
          },
          "metadata": {
            "tags": [],
            "needs_background": "light"
          }
        }
      ]
    },
    {
      "cell_type": "code",
      "metadata": {
        "id": "ZjphAw08fIyI",
        "colab_type": "code",
        "colab": {
          "base_uri": "https://localhost:8080/",
          "height": 404
        },
        "outputId": "cc33f255-469c-4a0a-e8d7-310f82bae32e"
      },
      "source": [
        "#plot these findings\n",
        "f, ax = plt.subplots(figsize=(6, 6))\n",
        "neutral_hashtags[0:20].plot(kind='barh')\n",
        "# Add a legend and informative axis label\n",
        "ax.set(ylabel=\"\",\n",
        "       xlabel=\"counts\")\n",
        "ax.title.set_text('Top 20 hashtags for neutral tweets')\n",
        "sns.despine(left=True, bottom=True)\n",
        "plt.show()"
      ],
      "execution_count": 41,
      "outputs": [
        {
          "output_type": "display_data",
          "data": {
            "image/png": "[encoded data removed]",
            "text/plain": [
              "<Figure size 432x432 with 1 Axes>"
            ]
          },
          "metadata": {
            "tags": [],
            "needs_background": "light"
          }
        }
      ]
    },
    {
      "cell_type": "code",
      "metadata": {
        "id": "4UTsGt-ghzOb",
        "colab_type": "code",
        "colab": {
          "base_uri": "https://localhost:8080/",
          "height": 404
        },
        "outputId": "b1420ae2-932e-413f-b2a4-3ab8b916a374"
      },
      "source": [
        "#plot these findings\n",
        "f, ax = plt.subplots(figsize=(6, 6))\n",
        "pro_hashtags[0:20].plot(kind='barh')\n",
        "# Add a legend and informative axis label\n",
        "ax.set(ylabel=\"\",\n",
        "       xlabel=\"counts\")\n",
        "ax.title.set_text('Top 20 hashtags for pro tweets')\n",
        "sns.despine(left=True, bottom=True)\n",
        "plt.show()"
      ],
      "execution_count": 42,
      "outputs": [
        {
          "output_type": "display_data",
          "data": {
            "image/png": "[encoded data removed]",
            "text/plain": [
              "<Figure size 432x432 with 1 Axes>"
            ]
          },
          "metadata": {
            "tags": [],
            "needs_background": "light"
          }
        }
      ]
    },
    {
      "cell_type": "markdown",
      "metadata": {
        "id": "l5fB3frCixtp",
        "colab_type": "text"
      },
      "source": [
        "#Text cleaning"
      ]
    },
    {
      "cell_type": "markdown",
      "metadata": {
        "id": "qHEiarwxkL3B",
        "colab_type": "text"
      },
      "source": [
        "How many times do retweets occur?"
      ]
    },
    {
      "cell_type": "code",
      "metadata": {
        "id": "JEhEdi7tizvr",
        "colab_type": "code",
        "colab": {
          "base_uri": "https://localhost:8080/",
          "height": 104
        },
        "outputId": "f5bfcf60-86dd-49a7-8af5-7002f44d3eac"
      },
      "source": [
        "#how many times does retweet occur?\n",
        "rts = [0]\n",
        "op =[]\n",
        "for i in data['safe_text']:\n",
        "  if 'RT' in i:\n",
        "    rts.append(i)\n",
        "  else:\n",
        "    op.append(i)\n",
        "\n",
        "print(\"Number of Original Tweets: \" + str(len(op)))\n",
        "print(\"\\nNumber of Retweets: \" + str(len(rts)))\n",
        "print(\"\\nRatio of Orignal Tweets to retweets: \" + str(round(len(rts)/len(op),2)))"
      ],
      "execution_count": 43,
      "outputs": [
        {
          "output_type": "stream",
          "text": [
            "Number of Original Tweets: 9458\n",
            "\n",
            "Number of Retweets: 303\n",
            "\n",
            "Ratio of Orignal Tweets to retweets: 0.03\n"
          ],
          "name": "stdout"
        }
      ]
    },
    {
      "cell_type": "markdown",
      "metadata": {
        "id": "bPf0wRMxkXaI",
        "colab_type": "text"
      },
      "source": [
        "Even though the retweet ratio is really small, it is best to drop the retweets do have more balanced data"
      ]
    },
    {
      "cell_type": "code",
      "metadata": {
        "id": "gXIB1n7fkfk1",
        "colab_type": "code",
        "colab": {
          "base_uri": "https://localhost:8080/",
          "height": 404
        },
        "outputId": "bfaa0f01-886c-42e3-a986-2563f5585a47"
      },
      "source": [
        "lengths = [len(op),len(rts)]\n",
        "values = ['Original Tweets', 'Retweets']\n",
        "f, ax = plt.subplots(figsize=(6, 6))\n",
        "sns.barplot(values,lengths)\n",
        "# Add a legend and informative axis label\n",
        "ax.set(ylabel=\"\",\n",
        "       xlabel=\"counts\")\n",
        "ax.title.set_text('The amount of origial tweets and retweets')\n",
        "sns.despine(left=True, bottom=True)\n",
        "plt.show()"
      ],
      "execution_count": 44,
      "outputs": [
        {
          "output_type": "display_data",
          "data": {
            "image/png": "[encoded data removed]",
            "text/plain": [
              "<Figure size 432x432 with 1 Axes>"
            ]
          },
          "metadata": {
            "tags": [],
            "needs_background": "light"
          }
        }
      ]
    },
    {
      "cell_type": "markdown",
      "metadata": {
        "id": "3jdkhjhIm3fJ",
        "colab_type": "text"
      },
      "source": [
        "lets look at a tweet and the features of a tweet:\n",
        "- Me &amp; The Big Homie meanboy3000 #MEANBOY #MB #MBS #MMR #STEGMANLIFE @ Stegman St. <url>\n",
        "- I'm 100% thinking of devoting my career to proving autism isn't caused by vaccines due to the IDIOTIC posts I've seen about World Autism Day\n",
        "- Measles in the 717 😳😳😳😳😳😷😷😷\n",
        "\n",
        "1. lowercase the words\n",
        "2. remove # but keep the word\n",
        "3. remove @ but keep the word\n",
        "4. remove punctuation\n",
        "5. keep emojis\n"
      ]
    },
    {
      "cell_type": "code",
      "metadata": {
        "id": "ld1fNOJ8rsXo",
        "colab_type": "code",
        "colab": {}
      },
      "source": [
        "import re"
      ],
      "execution_count": 39,
      "outputs": []
    },
    {
      "cell_type": "code",
      "metadata": {
        "id": "sNZdGPHhnasO",
        "colab_type": "code",
        "colab": {}
      },
      "source": [
        "def clean_tweets(tweet):\n",
        "  '''takes string as input and returns a string that has been cleaned'''\n",
        "  tweet = tweet.lower()\n",
        "  #tweet = tweet.replace('<url>',\"\")\n",
        "  #tweet = tweet.replace('<user>',\"\")\n",
        "  #tokenizer = TweetTokenizer(reduce_len=True)\n",
        "  #tokens = tokenizer.tokenize(tweet)\n",
        "  #garbage = set(stopwords.words('english') + list(punctuation))\n",
        "  #tweet = [word for word in tokens if word not in garbage]\n",
        "  #tweet = re.sub(r'#([^\\s]+)', r'\\1', \" \".join(tweet))\n",
        "  #tweet = re.sub(r'@([^\\s]+)', r'\\1', \"\".join(tweet)) \n",
        "  return tweet  "
      ],
      "execution_count": 45,
      "outputs": []
    },
    {
      "cell_type": "code",
      "metadata": {
        "id": "wn_QMSpvo5sa",
        "colab_type": "code",
        "colab": {}
      },
      "source": [
        "tweet = 'Me &amp; !!!! 😳 The Big Homie meanboy3000 #MEANBOY #MB #MBS #MMR #STEGMANLIFE @ Stegman St.... <url> <user>'"
      ],
      "execution_count": 46,
      "outputs": []
    },
    {
      "cell_type": "code",
      "metadata": {
        "id": "0e-b0MwepA9Y",
        "colab_type": "code",
        "colab": {
          "base_uri": "https://localhost:8080/",
          "height": 34
        },
        "outputId": "1d39fce3-044e-4533-d475-077e403bbfdb"
      },
      "source": [
        "print(clean_tweets(tweet))"
      ],
      "execution_count": 47,
      "outputs": [
        {
          "output_type": "stream",
          "text": [
            "me &amp; !!!! 😳 the big homie meanboy3000 #meanboy #mb #mbs #mmr #stegmanlife @ stegman st.... <url> <user>\n"
          ],
          "name": "stdout"
        }
      ]
    },
    {
      "cell_type": "code",
      "metadata": {
        "id": "d3Tqaz5HpGgt",
        "colab_type": "code",
        "colab": {
          "base_uri": "https://localhost:8080/",
          "height": 121
        },
        "outputId": "91e432a7-8c8e-4fb9-8e20-5a607c3a89fd"
      },
      "source": [
        "#apply cleaning process to train and test data\n",
        "data['cleaned'] = data['safe_text'].apply(clean_tweets)\n",
        "test['cleaned'] = test['safe_text'].apply(clean_tweets)"
      ],
      "execution_count": 48,
      "outputs": [
        {
          "output_type": "stream",
          "text": [
            "/usr/local/lib/python3.6/dist-packages/ipykernel_launcher.py:2: SettingWithCopyWarning: \n",
            "A value is trying to be set on a copy of a slice from a DataFrame.\n",
            "Try using .loc[row_indexer,col_indexer] = value instead\n",
            "\n",
            "See the caveats in the documentation: https://pandas.pydata.org/pandas-docs/stable/user_guide/indexing.html#returning-a-view-versus-a-copy\n",
            "  \n"
          ],
          "name": "stderr"
        }
      ]
    },
    {
      "cell_type": "markdown",
      "metadata": {
        "id": "gKeWr9_RxwUo",
        "colab_type": "text"
      },
      "source": [
        "# Modelling"
      ]
    },
    {
      "cell_type": "code",
      "metadata": {
        "id": "kQBsrbT3x8uY",
        "colab_type": "code",
        "colab": {}
      },
      "source": [
        "from sklearn.model_selection import train_test_split"
      ],
      "execution_count": 49,
      "outputs": []
    },
    {
      "cell_type": "code",
      "metadata": {
        "id": "K_JNgz_6yFux",
        "colab_type": "code",
        "colab": {}
      },
      "source": [
        "X = data['cleaned'].values\n",
        "y = data['label'].values"
      ],
      "execution_count": 50,
      "outputs": []
    },
    {
      "cell_type": "code",
      "metadata": {
        "id": "0sz33e7Xxxch",
        "colab_type": "code",
        "colab": {}
      },
      "source": [
        "# Splitting the labels and fetures into training and testing sets\n",
        "X_train, X_test, y_train, y_test = train_test_split(X, y, test_size=0.02,random_state=42,stratify=y)"
      ],
      "execution_count": 51,
      "outputs": []
    },
    {
      "cell_type": "code",
      "metadata": {
        "id": "42fsGLl3yDWt",
        "colab_type": "code",
        "colab": {}
      },
      "source": [
        "from sklearn.pipeline import Pipeline\n",
        "from sklearn.feature_extraction.text import TfidfVectorizer\n",
        "from sklearn.svm import LinearSVC"
      ],
      "execution_count": 52,
      "outputs": []
    },
    {
      "cell_type": "code",
      "metadata": {
        "id": "oarhkWM_y2PR",
        "colab_type": "code",
        "colab": {}
      },
      "source": [
        "#creating a pipeline with the tfid vectorizer and a linear svc model\n",
        "svc = Pipeline([('tfidf',TfidfVectorizer()),('classify',LinearSVC(C=1))])\n",
        "\n",
        "#fitting the model\n",
        "svc.fit(X_train, y_train)\n",
        "\n",
        "#apply model on test data\n",
        "y_pred_svc = svc.predict(X_test)"
      ],
      "execution_count": 53,
      "outputs": []
    },
    {
      "cell_type": "code",
      "metadata": {
        "id": "eJyZn9rpy959",
        "colab_type": "code",
        "colab": {}
      },
      "source": [
        "from sklearn.metrics import mean_squared_error\n",
        "from sklearn.metrics import classification_report\n",
        "RMSE = mean_squared_error(y_test, y_pred_svc)**0.5"
      ],
      "execution_count": 54,
      "outputs": []
    },
    {
      "cell_type": "code",
      "metadata": {
        "id": "M9A068VszO9v",
        "colab_type": "code",
        "colab": {
          "base_uri": "https://localhost:8080/",
          "height": 34
        },
        "outputId": "b8719202-acae-48f4-8668-de40b23943bc"
      },
      "source": [
        "print(RMSE)"
      ],
      "execution_count": 55,
      "outputs": [
        {
          "output_type": "stream",
          "text": [
            "0.6813851438692469\n"
          ],
          "name": "stdout"
        }
      ]
    },
    {
      "cell_type": "code",
      "metadata": {
        "id": "9TSQ9ibk3IMC",
        "colab_type": "code",
        "colab": {
          "base_uri": "https://localhost:8080/",
          "height": 190
        },
        "outputId": "b40bef8a-fcc3-4a97-91ee-5df19c37208c"
      },
      "source": [
        "print(classification_report(y_test, y_pred_svc))"
      ],
      "execution_count": 56,
      "outputs": [
        {
          "output_type": "stream",
          "text": [
            "              precision    recall  f1-score   support\n",
            "\n",
            "        -1.0       0.50      0.19      0.27        16\n",
            "         0.0       0.79      0.82      0.81        99\n",
            "         1.0       0.68      0.74      0.71        81\n",
            "\n",
            "    accuracy                           0.73       196\n",
            "   macro avg       0.66      0.58      0.60       196\n",
            "weighted avg       0.72      0.73      0.72       196\n",
            "\n"
          ],
          "name": "stdout"
        }
      ]
    },
    {
      "cell_type": "code",
      "metadata": {
        "id": "ad1Fd0n0I99v",
        "colab_type": "code",
        "colab": {}
      },
      "source": [
        "#use predictproba\n",
        "from sklearn.linear_model import LogisticRegression\n",
        "#clf = Pipeline([('tfidf',TfidfVectorizer()),('classify',LogisticRegression(solver='liblinear', penalty='l1', C=0.1, class_weight='balanced'))])\n",
        "\n",
        "#creating a pipeline with a tfidf vectorizer and a logistic regression model\n",
        "LR_model = Pipeline([('tfidf',TfidfVectorizer()),('classify',(LogisticRegression(C=1.0,solver='lbfgs',random_state=42,max_iter=200, class_weight='balanced')))])\n",
        "\n",
        "#fitting the model\n",
        "LR_model.fit(X_train, y_train)\n",
        "\n",
        "#Apply model on test data\n",
        "y_pred_lr = LR_model.predict(X_test)"
      ],
      "execution_count": 57,
      "outputs": []
    },
    {
      "cell_type": "code",
      "metadata": {
        "id": "3WHiz0eFKXW6",
        "colab_type": "code",
        "colab": {}
      },
      "source": [
        "y_pred = LR_model.predict_proba(X_test)"
      ],
      "execution_count": 58,
      "outputs": []
    },
    {
      "cell_type": "code",
      "metadata": {
        "id": "yOI3I0fSM1d4",
        "colab_type": "code",
        "colab": {}
      },
      "source": [
        "predictions = []\n",
        "for row in y_pred:\n",
        "  maximum = np.max(row)\n",
        "  if maximum == row[0]: #if anti\n",
        "    maximum = maximum*-1\n",
        "  if maximum == row[1]: #if neutral\n",
        "    maximum = 0\n",
        "  predictions.append(maximum)"
      ],
      "execution_count": 59,
      "outputs": []
    },
    {
      "cell_type": "code",
      "metadata": {
        "id": "FJ_KW7f-Q5fs",
        "colab_type": "code",
        "colab": {}
      },
      "source": [
        "predictions"
      ],
      "execution_count": null,
      "outputs": []
    },
    {
      "cell_type": "code",
      "metadata": {
        "id": "GbyZvRdvzPze",
        "colab_type": "code",
        "colab": {}
      },
      "source": [
        "# Linear SVC\n",
        "x_unseen = test['cleaned'].values\n",
        "zindi_svc = svc.predict(x_unseen) # SVC model"
      ],
      "execution_count": 61,
      "outputs": []
    },
    {
      "cell_type": "code",
      "metadata": {
        "id": "_-FajSATREwL",
        "colab_type": "code",
        "colab": {}
      },
      "source": [
        "# Logistic Regression\n",
        "x_unseen = test['cleaned'].values\n",
        "zindi_LR = LR_model.predict_proba(x_unseen)"
      ],
      "execution_count": 62,
      "outputs": []
    },
    {
      "cell_type": "code",
      "metadata": {
        "colab_type": "code",
        "id": "mkDxAfcnRNnl",
        "colab": {}
      },
      "source": [
        "submissions = []\n",
        "for row in zindi_LR:\n",
        "  maximum = np.max(row)\n",
        "  if maximum == row[0]: #if anti\n",
        "    maximum = maximum*-1\n",
        "  if maximum == row[1]: #if neutral\n",
        "    maximum = 0\n",
        "  submissions.append(maximum)"
      ],
      "execution_count": 63,
      "outputs": []
    },
    {
      "cell_type": "code",
      "metadata": {
        "id": "3FMXMR_kzhbN",
        "colab_type": "code",
        "colab": {
          "base_uri": "https://localhost:8080/",
          "height": 202
        },
        "outputId": "414a6e46-8782-4863-9ba6-57d4faa21ffa"
      },
      "source": [
        "# create table to submit as .csv file\n",
        "Table = {'tweet_id': test['tweet_id'], 'label':submissions} #choose a model\n",
        "submission = pd.DataFrame(data=Table)\n",
        "submission.set_index('tweet_id')\n",
        "submission.head()"
      ],
      "execution_count": 64,
      "outputs": [
        {
          "output_type": "execute_result",
          "data": {
            "text/html": [
              "<div>\n",
              "<style scoped>\n",
              "    .dataframe tbody tr th:only-of-type {\n",
              "        vertical-align: middle;\n",
              "    }\n",
              "\n",
              "    .dataframe tbody tr th {\n",
              "        vertical-align: top;\n",
              "    }\n",
              "\n",
              "    .dataframe thead th {\n",
              "        text-align: right;\n",
              "    }\n",
              "</style>\n",
              "<table border=\"1\" class=\"dataframe\">\n",
              "  <thead>\n",
              "    <tr style=\"text-align: right;\">\n",
              "      <th></th>\n",
              "      <th>tweet_id</th>\n",
              "      <th>label</th>\n",
              "    </tr>\n",
              "  </thead>\n",
              "  <tbody>\n",
              "    <tr>\n",
              "      <th>0</th>\n",
              "      <td>00BHHHP1</td>\n",
              "      <td>-0.591093</td>\n",
              "    </tr>\n",
              "    <tr>\n",
              "      <th>1</th>\n",
              "      <td>00UNMD0E</td>\n",
              "      <td>0.641562</td>\n",
              "    </tr>\n",
              "    <tr>\n",
              "      <th>2</th>\n",
              "      <td>01AXPTJF</td>\n",
              "      <td>0.000000</td>\n",
              "    </tr>\n",
              "    <tr>\n",
              "      <th>3</th>\n",
              "      <td>01HOEQJW</td>\n",
              "      <td>0.705373</td>\n",
              "    </tr>\n",
              "    <tr>\n",
              "      <th>4</th>\n",
              "      <td>01JUKMAO</td>\n",
              "      <td>0.000000</td>\n",
              "    </tr>\n",
              "  </tbody>\n",
              "</table>\n",
              "</div>"
            ],
            "text/plain": [
              "   tweet_id     label\n",
              "0  00BHHHP1 -0.591093\n",
              "1  00UNMD0E  0.641562\n",
              "2  01AXPTJF  0.000000\n",
              "3  01HOEQJW  0.705373\n",
              "4  01JUKMAO  0.000000"
            ]
          },
          "metadata": {
            "tags": []
          },
          "execution_count": 64
        }
      ]
    },
    {
      "cell_type": "code",
      "metadata": {
        "id": "2CD3YxRsznZN",
        "colab_type": "code",
        "colab": {}
      },
      "source": [
        "submission.to_csv(\"not_cleaned.csv\",index  = False)"
      ],
      "execution_count": 65,
      "outputs": []
    },
    {
      "cell_type": "code",
      "metadata": {
        "id": "Mqbx1uuP542O",
        "colab_type": "code",
        "colab": {
          "base_uri": "https://localhost:8080/",
          "height": 416
        },
        "outputId": "cf8f2720-8a45-4ed7-9681-a4689d9ab4cf"
      },
      "source": [
        "submission"
      ],
      "execution_count": 66,
      "outputs": [
        {
          "output_type": "execute_result",
          "data": {
            "text/html": [
              "<div>\n",
              "<style scoped>\n",
              "    .dataframe tbody tr th:only-of-type {\n",
              "        vertical-align: middle;\n",
              "    }\n",
              "\n",
              "    .dataframe tbody tr th {\n",
              "        vertical-align: top;\n",
              "    }\n",
              "\n",
              "    .dataframe thead th {\n",
              "        text-align: right;\n",
              "    }\n",
              "</style>\n",
              "<table border=\"1\" class=\"dataframe\">\n",
              "  <thead>\n",
              "    <tr style=\"text-align: right;\">\n",
              "      <th></th>\n",
              "      <th>tweet_id</th>\n",
              "      <th>label</th>\n",
              "    </tr>\n",
              "  </thead>\n",
              "  <tbody>\n",
              "    <tr>\n",
              "      <th>0</th>\n",
              "      <td>00BHHHP1</td>\n",
              "      <td>-0.591093</td>\n",
              "    </tr>\n",
              "    <tr>\n",
              "      <th>1</th>\n",
              "      <td>00UNMD0E</td>\n",
              "      <td>0.641562</td>\n",
              "    </tr>\n",
              "    <tr>\n",
              "      <th>2</th>\n",
              "      <td>01AXPTJF</td>\n",
              "      <td>0.000000</td>\n",
              "    </tr>\n",
              "    <tr>\n",
              "      <th>3</th>\n",
              "      <td>01HOEQJW</td>\n",
              "      <td>0.705373</td>\n",
              "    </tr>\n",
              "    <tr>\n",
              "      <th>4</th>\n",
              "      <td>01JUKMAO</td>\n",
              "      <td>0.000000</td>\n",
              "    </tr>\n",
              "    <tr>\n",
              "      <th>...</th>\n",
              "      <td>...</td>\n",
              "      <td>...</td>\n",
              "    </tr>\n",
              "    <tr>\n",
              "      <th>5172</th>\n",
              "      <td>ZXVVNC5O</td>\n",
              "      <td>0.756743</td>\n",
              "    </tr>\n",
              "    <tr>\n",
              "      <th>5173</th>\n",
              "      <td>ZYIANVI8</td>\n",
              "      <td>0.000000</td>\n",
              "    </tr>\n",
              "    <tr>\n",
              "      <th>5174</th>\n",
              "      <td>ZYITEHAH</td>\n",
              "      <td>0.000000</td>\n",
              "    </tr>\n",
              "    <tr>\n",
              "      <th>5175</th>\n",
              "      <td>ZZ3BMBTG</td>\n",
              "      <td>0.924031</td>\n",
              "    </tr>\n",
              "    <tr>\n",
              "      <th>5176</th>\n",
              "      <td>ZZIYCVNH</td>\n",
              "      <td>-0.437127</td>\n",
              "    </tr>\n",
              "  </tbody>\n",
              "</table>\n",
              "<p>5176 rows × 2 columns</p>\n",
              "</div>"
            ],
            "text/plain": [
              "      tweet_id     label\n",
              "0     00BHHHP1 -0.591093\n",
              "1     00UNMD0E  0.641562\n",
              "2     01AXPTJF  0.000000\n",
              "3     01HOEQJW  0.705373\n",
              "4     01JUKMAO  0.000000\n",
              "...        ...       ...\n",
              "5172  ZXVVNC5O  0.756743\n",
              "5173  ZYIANVI8  0.000000\n",
              "5174  ZYITEHAH  0.000000\n",
              "5175  ZZ3BMBTG  0.924031\n",
              "5176  ZZIYCVNH -0.437127\n",
              "\n",
              "[5176 rows x 2 columns]"
            ]
          },
          "metadata": {
            "tags": []
          },
          "execution_count": 66
        }
      ]
    },
    {
      "cell_type": "code",
      "metadata": {
        "id": "jZRP-NtB-omD",
        "colab_type": "code",
        "colab": {}
      },
      "source": [
        "train_labels = data[['label', 'safe_text',]].groupby('label').count()\n",
        "test_labels = submission[['label', 'tweet_id',]].groupby('label').count()"
      ],
      "execution_count": 67,
      "outputs": []
    },
    {
      "cell_type": "code",
      "metadata": {
        "id": "Z22wkHiz0ITX",
        "colab_type": "code",
        "colab": {
          "base_uri": "https://localhost:8080/",
          "height": 294
        },
        "outputId": "529f30c7-bf78-441e-f980-bfbd61f828f3"
      },
      "source": [
        "#looking at agreement column\n",
        "plt.hist(data['label'], bins = 100, edgecolor = 'k')\n",
        "plt.xlabel('count') \n",
        "plt.title('Distribution of data')\n",
        "plt.show()"
      ],
      "execution_count": 68,
      "outputs": [
        {
          "output_type": "display_data",
          "data": {
            "image/png": "[encoded data removed]",
            "text/plain": [
              "<Figure size 432x288 with 1 Axes>"
            ]
          },
          "metadata": {
            "tags": [],
            "needs_background": "light"
          }
        }
      ]
    },
    {
      "cell_type": "code",
      "metadata": {
        "id": "4_-DZAsRS9Uq",
        "colab_type": "code",
        "colab": {
          "base_uri": "https://localhost:8080/",
          "height": 294
        },
        "outputId": "53e85f18-0f81-4147-8f75-a6a71b487ad3"
      },
      "source": [
        "#looking at train data\n",
        "plt.hist(y_train, bins = 100, edgecolor = 'k')\n",
        "plt.xlabel('count') \n",
        "plt.title('Distribution of train')\n",
        "plt.show()"
      ],
      "execution_count": 69,
      "outputs": [
        {
          "output_type": "display_data",
          "data": {
            "image/png": "[encoded data removed]",
            "text/plain": [
              "<Figure size 432x288 with 1 Axes>"
            ]
          },
          "metadata": {
            "tags": [],
            "needs_background": "light"
          }
        }
      ]
    },
    {
      "cell_type": "code",
      "metadata": {
        "id": "oVuWiqaUULyO",
        "colab_type": "code",
        "colab": {
          "base_uri": "https://localhost:8080/",
          "height": 294
        },
        "outputId": "f46cfde8-0f2b-4a7b-ae59-6be90ffd0e7a"
      },
      "source": [
        "#looking at train data\n",
        "plt.hist(y_test, bins = 100, edgecolor = 'k')\n",
        "plt.xlabel('count') \n",
        "plt.title('Distribution of test')\n",
        "plt.show()"
      ],
      "execution_count": 70,
      "outputs": [
        {
          "output_type": "display_data",
          "data": {
            "image/png": "[encoded data removed]",
            "text/plain": [
              "<Figure size 432x288 with 1 Axes>"
            ]
          },
          "metadata": {
            "tags": [],
            "needs_background": "light"
          }
        }
      ]
    },
    {
      "cell_type": "code",
      "metadata": {
        "id": "1wckGqDw5PH3",
        "colab_type": "code",
        "colab": {}
      },
      "source": [
        " from sklearn.metrics import precision_recall_curve,cohen_kappa_score"
      ],
      "execution_count": 71,
      "outputs": []
    },
    {
      "cell_type": "code",
      "metadata": {
        "id": "yUaht7Fu8mk4",
        "colab_type": "code",
        "colab": {
          "base_uri": "https://localhost:8080/",
          "height": 34
        },
        "outputId": "57415f54-a58b-4990-8cb9-fcee3937b1cd"
      },
      "source": [
        "print(cohen_kappa_score(y_test,y_pred_svc))"
      ],
      "execution_count": 72,
      "outputs": [
        {
          "output_type": "stream",
          "text": [
            "0.5168294301697165\n"
          ],
          "name": "stdout"
        }
      ]
    },
    {
      "cell_type": "code",
      "metadata": {
        "id": "Qt5tWH1PBn9g",
        "colab_type": "code",
        "colab": {
          "base_uri": "https://localhost:8080/",
          "height": 34
        },
        "outputId": "97ee8570-8ef9-4700-f40d-4a9ff3007972"
      },
      "source": [
        "tweet = \"vaccines give kids autism\"\n",
        "input = clean_tweets(tweet)\n",
        "print(svc.predict([input]))"
      ],
      "execution_count": 73,
      "outputs": [
        {
          "output_type": "stream",
          "text": [
            "[1.]\n"
          ],
          "name": "stdout"
        }
      ]
    }
  ]
}