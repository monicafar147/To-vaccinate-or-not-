{
  "nbformat": 4,
  "nbformat_minor": 0,
  "metadata": {
    "colab": {
      "name": "main.ipynb",
      "provenance": [],
      "toc_visible": true,
      "authorship_tag": "ABX9TyPvZdgWAJfx8tXv+xlz3CPm",
      "include_colab_link": true
    },
    "kernelspec": {
      "name": "python3",
      "display_name": "Python 3"
    }
  },
  "cells": [
    {
      "cell_type": "markdown",
      "metadata": {
        "id": "view-in-github",
        "colab_type": "text"
      },
      "source": [
        "<a href=\"https://colab.research.google.com/github/monicafar147/To-vaccinate-or-not-/blob/cleaning/main.ipynb\" target=\"_parent\"><img src=\"https://colab.research.google.com/assets/colab-badge.svg\" alt=\"Open In Colab\"/></a>"
      ]
    },
    {
      "cell_type": "markdown",
      "metadata": {
        "id": "Y6lfCdsUqWeN",
        "colab_type": "text"
      },
      "source": [
        "# Introduction"
      ]
    },
    {
      "cell_type": "markdown",
      "metadata": {
        "id": "2xbqyq-xqb45",
        "colab_type": "text"
      },
      "source": [
        "In the past decade, tracking health trends using social media data has shown great promise, due to:\n",
        "-  a powerful combination of massive adoption of social media around the world\n",
        "-  increasingly potent hardware and software that enables us to work with these new big data streams. \n",
        "\n",
        "At the same time, many challenging problems have been identified:\n",
        "1. There is often a mismatch between how rapidly online data can change, and how rapidly algorithms are updated, which means that there is limited reusability for algorithms trained on past data as their performance decreases over time.\n",
        "2. Much of the work is focusing on specific issues during a specific past period in time, even though public health institutions would need flexible tools to assess multiple evolving situations in real time. \n",
        "3. Most tools providing such capabilities are proprietary systems with little algorithmic or data transparency, and thus little buy-in from the global public health and research community. \n",
        "\n",
        "The objective of this challenge is to develop a machine learning model to assess if a twitter post that is related to vaccinations is\n",
        "- positive\n",
        "- neutral\n",
        "- negative.\n",
        "\n",
        "Tweets have been classified as\n",
        "-  pro-vaccine (1)\n",
        "-  neutral (0) \n",
        "-  anti-vaccine (-1). \n",
        "The tweets have had usernames and web addresses removed."
      ]
    },
    {
      "cell_type": "markdown",
      "metadata": {
        "id": "bPA4Om5sreO8",
        "colab_type": "text"
      },
      "source": [
        "# Importing the data"
      ]
    },
    {
      "cell_type": "code",
      "metadata": {
        "id": "s6478RM-rgPG",
        "colab_type": "code",
        "colab": {}
      },
      "source": [
        "import pandas as pd\n",
        "import numpy as np\n",
        "train = pd.read_csv(\"https://raw.githubusercontent.com/monicafar147/To-vaccinate-or-not-/master/Train.csv\")\n",
        "test = pd.read_csv(\"https://raw.githubusercontent.com/monicafar147/To-vaccinate-or-not-/master/Test.csv\")"
      ],
      "execution_count": 1,
      "outputs": []
    },
    {
      "cell_type": "markdown",
      "metadata": {
        "id": "CFAAkO9FriCq",
        "colab_type": "text"
      },
      "source": [
        "Variable definition\n",
        "- tweet_id: Unique identifier of the tweet\n",
        "- safe_tweet: Text contained in the tweet. Some sensitive information has been removed like usernames and urls\n",
        "- label: Sentiment of the tweet (-1 for negative, 0 for neutral, 1 for positive)\n",
        "- agreement: The tweets were labeled by three people. Agreement indicates the percentage of the three reviewers that agreed on the given label. You may use this column in your training, but agreement data will not be shared for the test set."
      ]
    },
    {
      "cell_type": "code",
      "metadata": {
        "id": "1Im8WcDkrqRw",
        "colab_type": "code",
        "colab": {
          "base_uri": "https://localhost:8080/",
          "height": 202
        },
        "outputId": "77b00782-7e51-4030-dc27-5ed1878ffe7b"
      },
      "source": [
        "train.head()"
      ],
      "execution_count": 2,
      "outputs": [
        {
          "output_type": "execute_result",
          "data": {
            "text/html": [
              "<div>\n",
              "<style scoped>\n",
              "    .dataframe tbody tr th:only-of-type {\n",
              "        vertical-align: middle;\n",
              "    }\n",
              "\n",
              "    .dataframe tbody tr th {\n",
              "        vertical-align: top;\n",
              "    }\n",
              "\n",
              "    .dataframe thead th {\n",
              "        text-align: right;\n",
              "    }\n",
              "</style>\n",
              "<table border=\"1\" class=\"dataframe\">\n",
              "  <thead>\n",
              "    <tr style=\"text-align: right;\">\n",
              "      <th></th>\n",
              "      <th>tweet_id</th>\n",
              "      <th>safe_text</th>\n",
              "      <th>label</th>\n",
              "      <th>agreement</th>\n",
              "    </tr>\n",
              "  </thead>\n",
              "  <tbody>\n",
              "    <tr>\n",
              "      <th>0</th>\n",
              "      <td>CL1KWCMY</td>\n",
              "      <td>Me &amp;amp; The Big Homie meanboy3000 #MEANBOY #M...</td>\n",
              "      <td>0.0</td>\n",
              "      <td>1.0</td>\n",
              "    </tr>\n",
              "    <tr>\n",
              "      <th>1</th>\n",
              "      <td>E3303EME</td>\n",
              "      <td>I'm 100% thinking of devoting my career to pro...</td>\n",
              "      <td>1.0</td>\n",
              "      <td>1.0</td>\n",
              "    </tr>\n",
              "    <tr>\n",
              "      <th>2</th>\n",
              "      <td>M4IVFSMS</td>\n",
              "      <td>#whatcausesautism VACCINES, DO NOT VACCINATE Y...</td>\n",
              "      <td>-1.0</td>\n",
              "      <td>1.0</td>\n",
              "    </tr>\n",
              "    <tr>\n",
              "      <th>3</th>\n",
              "      <td>1DR6ROZ4</td>\n",
              "      <td>I mean if they immunize my kid with something ...</td>\n",
              "      <td>-1.0</td>\n",
              "      <td>1.0</td>\n",
              "    </tr>\n",
              "    <tr>\n",
              "      <th>4</th>\n",
              "      <td>J77ENIIE</td>\n",
              "      <td>Thanks to &lt;user&gt; Catch me performing at La Nui...</td>\n",
              "      <td>0.0</td>\n",
              "      <td>1.0</td>\n",
              "    </tr>\n",
              "  </tbody>\n",
              "</table>\n",
              "</div>"
            ],
            "text/plain": [
              "   tweet_id  ... agreement\n",
              "0  CL1KWCMY  ...       1.0\n",
              "1  E3303EME  ...       1.0\n",
              "2  M4IVFSMS  ...       1.0\n",
              "3  1DR6ROZ4  ...       1.0\n",
              "4  J77ENIIE  ...       1.0\n",
              "\n",
              "[5 rows x 4 columns]"
            ]
          },
          "metadata": {
            "tags": []
          },
          "execution_count": 2
        }
      ]
    },
    {
      "cell_type": "code",
      "metadata": {
        "id": "aNixnJ8JtFxD",
        "colab_type": "code",
        "colab": {
          "base_uri": "https://localhost:8080/",
          "height": 225
        },
        "outputId": "943caac2-949d-45cf-e9b7-6ea72fc5db6a"
      },
      "source": [
        "# checking null values\n",
        "unique = [row for row in train['tweet_id'].unique()]\n",
        "print(\"Number of unique values\")\n",
        "print(train['tweet_id'].nunique())\n",
        "print(\"\\nTotal number of values\")\n",
        "print(len(train['tweet_id']))\n",
        "print(\"\\nNumber of null values:\\n\" + str(train.isnull().sum()))"
      ],
      "execution_count": 3,
      "outputs": [
        {
          "output_type": "stream",
          "text": [
            "Number of unique values\n",
            "10001\n",
            "\n",
            "Total number of values\n",
            "10001\n",
            "\n",
            "Number of null values:\n",
            "tweet_id     0\n",
            "safe_text    0\n",
            "label        1\n",
            "agreement    2\n",
            "dtype: int64\n"
          ],
          "name": "stdout"
        }
      ]
    },
    {
      "cell_type": "markdown",
      "metadata": {
        "id": "9bfgtbfbuWrU",
        "colab_type": "text"
      },
      "source": [
        "- There is 1 label that contains a null value\n",
        "- There are 2 agreements that contain a null value"
      ]
    },
    {
      "cell_type": "code",
      "metadata": {
        "id": "SDAiWsO-2FZk",
        "colab_type": "code",
        "colab": {}
      },
      "source": [
        "train.dropna(inplace=True)"
      ],
      "execution_count": 4,
      "outputs": []
    },
    {
      "cell_type": "code",
      "metadata": {
        "id": "k9uSML7qzpF9",
        "colab_type": "code",
        "colab": {
          "base_uri": "https://localhost:8080/",
          "height": 225
        },
        "outputId": "4d9f6d65-954c-4a0a-c7e4-ac4ff0fbb89b"
      },
      "source": [
        "# checking null values\n",
        "unique = [row for row in train['safe_text'].unique()]\n",
        "print(\"Number of unique values\")\n",
        "print(train['tweet_id'].nunique())\n",
        "print(\"\\nTotal number of values\")\n",
        "print(len(train['tweet_id']))\n",
        "print(\"\\nNumber of null values:\\n\" + str(train.isnull().sum()))"
      ],
      "execution_count": 5,
      "outputs": [
        {
          "output_type": "stream",
          "text": [
            "Number of unique values\n",
            "9999\n",
            "\n",
            "Total number of values\n",
            "9999\n",
            "\n",
            "Number of null values:\n",
            "tweet_id     0\n",
            "safe_text    0\n",
            "label        0\n",
            "agreement    0\n",
            "dtype: int64\n"
          ],
          "name": "stdout"
        }
      ]
    },
    {
      "cell_type": "code",
      "metadata": {
        "id": "nxQKOHl4zyxF",
        "colab_type": "code",
        "colab": {}
      },
      "source": [
        "grouped = train[['label', 'safe_text',]].groupby('label').count()"
      ],
      "execution_count": 6,
      "outputs": []
    },
    {
      "cell_type": "code",
      "metadata": {
        "id": "Bg4yKhbk3pcw",
        "colab_type": "code",
        "colab": {
          "base_uri": "https://localhost:8080/",
          "height": 172
        },
        "outputId": "f8151335-8f13-4a3c-a7ab-cee1e0cf74c3"
      },
      "source": [
        "grouped"
      ],
      "execution_count": 7,
      "outputs": [
        {
          "output_type": "execute_result",
          "data": {
            "text/html": [
              "<div>\n",
              "<style scoped>\n",
              "    .dataframe tbody tr th:only-of-type {\n",
              "        vertical-align: middle;\n",
              "    }\n",
              "\n",
              "    .dataframe tbody tr th {\n",
              "        vertical-align: top;\n",
              "    }\n",
              "\n",
              "    .dataframe thead th {\n",
              "        text-align: right;\n",
              "    }\n",
              "</style>\n",
              "<table border=\"1\" class=\"dataframe\">\n",
              "  <thead>\n",
              "    <tr style=\"text-align: right;\">\n",
              "      <th></th>\n",
              "      <th>safe_text</th>\n",
              "    </tr>\n",
              "    <tr>\n",
              "      <th>label</th>\n",
              "      <th></th>\n",
              "    </tr>\n",
              "  </thead>\n",
              "  <tbody>\n",
              "    <tr>\n",
              "      <th>-1.0</th>\n",
              "      <td>1038</td>\n",
              "    </tr>\n",
              "    <tr>\n",
              "      <th>0.0</th>\n",
              "      <td>4908</td>\n",
              "    </tr>\n",
              "    <tr>\n",
              "      <th>1.0</th>\n",
              "      <td>4053</td>\n",
              "    </tr>\n",
              "  </tbody>\n",
              "</table>\n",
              "</div>"
            ],
            "text/plain": [
              "       safe_text\n",
              "label           \n",
              "-1.0        1038\n",
              " 0.0        4908\n",
              " 1.0        4053"
            ]
          },
          "metadata": {
            "tags": []
          },
          "execution_count": 7
        }
      ]
    },
    {
      "cell_type": "markdown",
      "metadata": {
        "id": "y1HrEswL4Z2e",
        "colab_type": "text"
      },
      "source": [
        "Looks a lot better!!!"
      ]
    },
    {
      "cell_type": "code",
      "metadata": {
        "id": "jOlEQaub44iL",
        "colab_type": "code",
        "colab": {
          "base_uri": "https://localhost:8080/",
          "height": 52
        },
        "outputId": "9f04735c-107f-47e2-9b3a-59fc333f38c5"
      },
      "source": [
        "# plotting\n",
        "import matplotlib.pyplot as plt\n",
        "import seaborn as sns\n",
        "plt.style.use('seaborn-deep')"
      ],
      "execution_count": 8,
      "outputs": [
        {
          "output_type": "stream",
          "text": [
            "/usr/local/lib/python3.6/dist-packages/statsmodels/tools/_testing.py:19: FutureWarning: pandas.util.testing is deprecated. Use the functions in the public API at pandas.testing instead.\n",
            "  import pandas.util.testing as tm\n"
          ],
          "name": "stderr"
        }
      ]
    },
    {
      "cell_type": "code",
      "metadata": {
        "id": "aLnu9CnS4dho",
        "colab_type": "code",
        "colab": {
          "base_uri": "https://localhost:8080/",
          "height": 305
        },
        "outputId": "32579a73-170c-42dd-b1ea-15022eda7f8e"
      },
      "source": [
        "grouped.sort_values('safe_text', ascending=True).plot(kind='bar')\n",
        "plt.title('Sentiment distribution')\n",
        "plt.ylabel('count')\n",
        "plt.xlabel('type of sentiment')\n",
        "plt.show()"
      ],
      "execution_count": 9,
      "outputs": [
        {
          "output_type": "display_data",
          "data": {
            "image/png": "[encoded data removed]",
            "text/plain": [
              "<Figure size 432x288 with 1 Axes>"
            ]
          },
          "metadata": {
            "tags": [],
            "needs_background": "light"
          }
        }
      ]
    },
    {
      "cell_type": "markdown",
      "metadata": {
        "id": "k2Kmmv2Q48q8",
        "colab_type": "text"
      },
      "source": [
        "The data is unbalanced.\n",
        "\n",
        "To counter this the following strategies can be used\n",
        "- cross validation\n",
        "- use small test size\n",
        "- use stratify in train-test split\n",
        "- use SMOTE\n",
        "- up-sampling of data\n",
        "- down-sampling of data\n"
      ]
    },
    {
      "cell_type": "code",
      "metadata": {
        "id": "SHWNUqYLIYF3",
        "colab_type": "code",
        "colab": {}
      },
      "source": [
        "train['agreement'] = train['agreement'].round(2)"
      ],
      "execution_count": 10,
      "outputs": []
    },
    {
      "cell_type": "code",
      "metadata": {
        "id": "i5fdqbsdFiu4",
        "colab_type": "code",
        "colab": {
          "base_uri": "https://localhost:8080/",
          "height": 312
        },
        "outputId": "ac727ec4-5f0f-4920-f9d2-aa0a392cc68d"
      },
      "source": [
        "#looking at agreement column\n",
        "plt.hist(train['agreement'], bins = 100, edgecolor = 'k')\n",
        "plt.xlabel('count') \n",
        "plt.title('Distribution of agreement values')"
      ],
      "execution_count": 11,
      "outputs": [
        {
          "output_type": "execute_result",
          "data": {
            "text/plain": [
              "Text(0.5, 1.0, 'Distribution of agreement values')"
            ]
          },
          "metadata": {
            "tags": []
          },
          "execution_count": 11
        },
        {
          "output_type": "display_data",
          "data": {
            "image/png": "[encoded data removed]",
            "text/plain": [
              "<Figure size 432x288 with 1 Axes>"
            ]
          },
          "metadata": {
            "tags": [],
            "needs_background": "light"
          }
        }
      ]
    },
    {
      "cell_type": "code",
      "metadata": {
        "id": "YbJFTZGFGIcM",
        "colab_type": "code",
        "colab": {
          "base_uri": "https://localhost:8080/",
          "height": 172
        },
        "outputId": "24ed2aab-4b4c-4a22-b404-f72ffb252f74"
      },
      "source": [
        "agreed = train[['agreement', 'safe_text',]].groupby('agreement').count()\n",
        "agreed"
      ],
      "execution_count": 12,
      "outputs": [
        {
          "output_type": "execute_result",
          "data": {
            "text/html": [
              "<div>\n",
              "<style scoped>\n",
              "    .dataframe tbody tr th:only-of-type {\n",
              "        vertical-align: middle;\n",
              "    }\n",
              "\n",
              "    .dataframe tbody tr th {\n",
              "        vertical-align: top;\n",
              "    }\n",
              "\n",
              "    .dataframe thead th {\n",
              "        text-align: right;\n",
              "    }\n",
              "</style>\n",
              "<table border=\"1\" class=\"dataframe\">\n",
              "  <thead>\n",
              "    <tr style=\"text-align: right;\">\n",
              "      <th></th>\n",
              "      <th>safe_text</th>\n",
              "    </tr>\n",
              "    <tr>\n",
              "      <th>agreement</th>\n",
              "      <th></th>\n",
              "    </tr>\n",
              "  </thead>\n",
              "  <tbody>\n",
              "    <tr>\n",
              "      <th>0.33</th>\n",
              "      <td>239</td>\n",
              "    </tr>\n",
              "    <tr>\n",
              "      <th>0.67</th>\n",
              "      <td>3894</td>\n",
              "    </tr>\n",
              "    <tr>\n",
              "      <th>1.00</th>\n",
              "      <td>5866</td>\n",
              "    </tr>\n",
              "  </tbody>\n",
              "</table>\n",
              "</div>"
            ],
            "text/plain": [
              "           safe_text\n",
              "agreement           \n",
              "0.33             239\n",
              "0.67            3894\n",
              "1.00            5866"
            ]
          },
          "metadata": {
            "tags": []
          },
          "execution_count": 12
        }
      ]
    },
    {
      "cell_type": "markdown",
      "metadata": {
        "id": "IaKWkbunGW1c",
        "colab_type": "text"
      },
      "source": [
        "To improve the model accuracy\n",
        "- use agreement more than 0.3\n",
        "- only use 100% agreement"
      ]
    },
    {
      "cell_type": "code",
      "metadata": {
        "id": "z9yuheZuG76y",
        "colab_type": "code",
        "colab": {}
      },
      "source": [
        "# Dropping rows where agreement is not 1.00\n",
        "data = train[train['agreement'] == 1.00]"
      ],
      "execution_count": 13,
      "outputs": []
    },
    {
      "cell_type": "code",
      "metadata": {
        "id": "mSN3m6XuHFxf",
        "colab_type": "code",
        "colab": {
          "base_uri": "https://localhost:8080/",
          "height": 416
        },
        "outputId": "8e15ad15-aa0f-4dd5-e6b2-c3b39f8d3cd6"
      },
      "source": [
        "data"
      ],
      "execution_count": 14,
      "outputs": [
        {
          "output_type": "execute_result",
          "data": {
            "text/html": [
              "<div>\n",
              "<style scoped>\n",
              "    .dataframe tbody tr th:only-of-type {\n",
              "        vertical-align: middle;\n",
              "    }\n",
              "\n",
              "    .dataframe tbody tr th {\n",
              "        vertical-align: top;\n",
              "    }\n",
              "\n",
              "    .dataframe thead th {\n",
              "        text-align: right;\n",
              "    }\n",
              "</style>\n",
              "<table border=\"1\" class=\"dataframe\">\n",
              "  <thead>\n",
              "    <tr style=\"text-align: right;\">\n",
              "      <th></th>\n",
              "      <th>tweet_id</th>\n",
              "      <th>safe_text</th>\n",
              "      <th>label</th>\n",
              "      <th>agreement</th>\n",
              "    </tr>\n",
              "  </thead>\n",
              "  <tbody>\n",
              "    <tr>\n",
              "      <th>0</th>\n",
              "      <td>CL1KWCMY</td>\n",
              "      <td>Me &amp;amp; The Big Homie meanboy3000 #MEANBOY #M...</td>\n",
              "      <td>0.0</td>\n",
              "      <td>1.0</td>\n",
              "    </tr>\n",
              "    <tr>\n",
              "      <th>1</th>\n",
              "      <td>E3303EME</td>\n",
              "      <td>I'm 100% thinking of devoting my career to pro...</td>\n",
              "      <td>1.0</td>\n",
              "      <td>1.0</td>\n",
              "    </tr>\n",
              "    <tr>\n",
              "      <th>2</th>\n",
              "      <td>M4IVFSMS</td>\n",
              "      <td>#whatcausesautism VACCINES, DO NOT VACCINATE Y...</td>\n",
              "      <td>-1.0</td>\n",
              "      <td>1.0</td>\n",
              "    </tr>\n",
              "    <tr>\n",
              "      <th>3</th>\n",
              "      <td>1DR6ROZ4</td>\n",
              "      <td>I mean if they immunize my kid with something ...</td>\n",
              "      <td>-1.0</td>\n",
              "      <td>1.0</td>\n",
              "    </tr>\n",
              "    <tr>\n",
              "      <th>4</th>\n",
              "      <td>J77ENIIE</td>\n",
              "      <td>Thanks to &lt;user&gt; Catch me performing at La Nui...</td>\n",
              "      <td>0.0</td>\n",
              "      <td>1.0</td>\n",
              "    </tr>\n",
              "    <tr>\n",
              "      <th>...</th>\n",
              "      <td>...</td>\n",
              "      <td>...</td>\n",
              "      <td>...</td>\n",
              "      <td>...</td>\n",
              "    </tr>\n",
              "    <tr>\n",
              "      <th>9993</th>\n",
              "      <td>CMG700N8</td>\n",
              "      <td>One half hour? Isa that it? #pdx #mmr</td>\n",
              "      <td>0.0</td>\n",
              "      <td>1.0</td>\n",
              "    </tr>\n",
              "    <tr>\n",
              "      <th>9995</th>\n",
              "      <td>X8B650Z4</td>\n",
              "      <td>I'll say I am glad Mom gave me the MMR vaccina...</td>\n",
              "      <td>1.0</td>\n",
              "      <td>1.0</td>\n",
              "    </tr>\n",
              "    <tr>\n",
              "      <th>9996</th>\n",
              "      <td>IU0TIJDI</td>\n",
              "      <td>Living in a time where the sperm I used to was...</td>\n",
              "      <td>1.0</td>\n",
              "      <td>1.0</td>\n",
              "    </tr>\n",
              "    <tr>\n",
              "      <th>9998</th>\n",
              "      <td>ST3A265H</td>\n",
              "      <td>Interesting trends in child immunization in Ok...</td>\n",
              "      <td>0.0</td>\n",
              "      <td>1.0</td>\n",
              "    </tr>\n",
              "    <tr>\n",
              "      <th>9999</th>\n",
              "      <td>6Z27IJGD</td>\n",
              "      <td>CDC Says Measles Are At Highest Levels In Deca...</td>\n",
              "      <td>0.0</td>\n",
              "      <td>1.0</td>\n",
              "    </tr>\n",
              "  </tbody>\n",
              "</table>\n",
              "<p>5866 rows × 4 columns</p>\n",
              "</div>"
            ],
            "text/plain": [
              "      tweet_id  ... agreement\n",
              "0     CL1KWCMY  ...       1.0\n",
              "1     E3303EME  ...       1.0\n",
              "2     M4IVFSMS  ...       1.0\n",
              "3     1DR6ROZ4  ...       1.0\n",
              "4     J77ENIIE  ...       1.0\n",
              "...        ...  ...       ...\n",
              "9993  CMG700N8  ...       1.0\n",
              "9995  X8B650Z4  ...       1.0\n",
              "9996  IU0TIJDI  ...       1.0\n",
              "9998  ST3A265H  ...       1.0\n",
              "9999  6Z27IJGD  ...       1.0\n",
              "\n",
              "[5866 rows x 4 columns]"
            ]
          },
          "metadata": {
            "tags": []
          },
          "execution_count": 14
        }
      ]
    },
    {
      "cell_type": "markdown",
      "metadata": {
        "id": "PnxX8rPx_41j",
        "colab_type": "text"
      },
      "source": [
        "# EDA"
      ]
    },
    {
      "cell_type": "code",
      "metadata": {
        "id": "nWjWhsqO5WKu",
        "colab_type": "code",
        "colab": {}
      },
      "source": [
        "from nltk.tokenize import TweetTokenizer"
      ],
      "execution_count": 15,
      "outputs": []
    },
    {
      "cell_type": "code",
      "metadata": {
        "id": "khY8AHccAgi6",
        "colab_type": "code",
        "colab": {}
      },
      "source": [
        "\n",
        "def bag_of_words_count(words, word_dict={}):\n",
        "    \"\"\" this function takes in a list of words and returns a dictionary \n",
        "        with each word as a key, and the value represents the number of \n",
        "        times that word appeared\"\"\"\n",
        "    for word in words:\n",
        "        if word in word_dict.keys():\n",
        "            word_dict[word] += 1\n",
        "        else:\n",
        "            word_dict[word] = 1\n",
        "    return word_dict"
      ],
      "execution_count": 16,
      "outputs": []
    },
    {
      "cell_type": "code",
      "metadata": {
        "id": "zrsekUf9_7tf",
        "colab_type": "code",
        "colab": {
          "base_uri": "https://localhost:8080/",
          "height": 121
        },
        "outputId": "0c8026c3-d738-471c-f409-5d859df05224"
      },
      "source": [
        "tokeniser = TweetTokenizer()\n",
        "data['tokens'] = data['safe_text'].apply(tokeniser.tokenize)\n",
        "sentiment_labels = list(set(data['label'].values))\n",
        "sentiment = {}\n",
        "for sent in sentiment_labels:\n",
        "    df = data.groupby('label')\n",
        "    sentiment[sent] = {}\n",
        "    for row in df.get_group(sent)['tokens']:\n",
        "        sentiment[sent] = bag_of_words_count(row, sentiment[sent])"
      ],
      "execution_count": 17,
      "outputs": [
        {
          "output_type": "stream",
          "text": [
            "/usr/local/lib/python3.6/dist-packages/ipykernel_launcher.py:2: SettingWithCopyWarning: \n",
            "A value is trying to be set on a copy of a slice from a DataFrame.\n",
            "Try using .loc[row_indexer,col_indexer] = value instead\n",
            "\n",
            "See the caveats in the documentation: https://pandas.pydata.org/pandas-docs/stable/user_guide/indexing.html#returning-a-view-versus-a-copy\n",
            "  \n"
          ],
          "name": "stderr"
        }
      ]
    },
    {
      "cell_type": "code",
      "metadata": {
        "id": "GXRmxP3fANFv",
        "colab_type": "code",
        "colab": {}
      },
      "source": [
        "anti = {key: value for key, value in sorted(sentiment[-1].items(), key=lambda item: item[1], reverse=True)}\n",
        "neutral = {key: value for key, value in sorted(sentiment[0].items(), key=lambda item: item[1], reverse=True)}\n",
        "pro = {key: value for key, value in sorted(sentiment[1].items(), key=lambda item: item[1], reverse=True)}"
      ],
      "execution_count": 18,
      "outputs": []
    },
    {
      "cell_type": "code",
      "metadata": {
        "id": "iEHykvUTJZkA",
        "colab_type": "code",
        "colab": {
          "base_uri": "https://localhost:8080/",
          "height": 86
        },
        "outputId": "36bd1951-b6f3-431e-ef9a-8b8a76377307"
      },
      "source": [
        "from string import punctuation\n",
        "import nltk\n",
        "nltk.download(['stopwords','punkt'])\n",
        "from nltk.corpus import stopwords"
      ],
      "execution_count": 19,
      "outputs": [
        {
          "output_type": "stream",
          "text": [
            "[nltk_data] Downloading package stopwords to /root/nltk_data...\n",
            "[nltk_data]   Package stopwords is already up-to-date!\n",
            "[nltk_data] Downloading package punkt to /root/nltk_data...\n",
            "[nltk_data]   Package punkt is already up-to-date!\n"
          ],
          "name": "stdout"
        }
      ]
    },
    {
      "cell_type": "code",
      "metadata": {
        "id": "YfZsU8d0J1hp",
        "colab_type": "code",
        "colab": {}
      },
      "source": [
        "random = set(stopwords.words('english') + list(punctuation)+[\"<user>\",\"<url>\"])"
      ],
      "execution_count": 20,
      "outputs": []
    },
    {
      "cell_type": "code",
      "metadata": {
        "id": "VgnsZck-BAM-",
        "colab_type": "code",
        "colab": {}
      },
      "source": [
        "# anti\n",
        "anti_keys = [key for key in anti.keys() if key not in random]\n",
        "anti_values = [value[1] for value in anti.items() if value[0] not in random]\n",
        "# neutral\n",
        "neutral_keys = [key for key in neutral.keys() if key not in random]\n",
        "neutral_values = [value[1] for value in neutral.items() if value[0] not in random]\n",
        "# pro\n",
        "pro_keys = [key for key in pro.keys() if key not in random]\n",
        "pro_values = [value[1] for value in pro.items() if value[0] not in random]\n"
      ],
      "execution_count": 21,
      "outputs": []
    },
    {
      "cell_type": "code",
      "metadata": {
        "id": "TKGthEYQBp8S",
        "colab_type": "code",
        "colab": {
          "base_uri": "https://localhost:8080/",
          "height": 893
        },
        "outputId": "6f158c09-2a58-4132-81f6-2a7d021496f7"
      },
      "source": [
        "f, ax = plt.subplots(figsize=(6, 15))\n",
        "sns.barplot(anti_values[0:20],anti_keys[0:20])\n",
        "# Add a legend and informative axis label\n",
        "ax.set(ylabel=\"\",\n",
        "       xlabel=\"counts\")\n",
        "ax.title.set_text('The most common words in anti tweets.')\n",
        "sns.despine(left=True, bottom=True)"
      ],
      "execution_count": 22,
      "outputs": [
        {
          "output_type": "display_data",
          "data": {
            "image/png": "[encoded data removed]",
            "text/plain": [
              "<Figure size 432x1080 with 1 Axes>"
            ]
          },
          "metadata": {
            "tags": [],
            "needs_background": "light"
          }
        }
      ]
    },
    {
      "cell_type": "code",
      "metadata": {
        "id": "F_zDJVSUB4Zu",
        "colab_type": "code",
        "colab": {
          "base_uri": "https://localhost:8080/",
          "height": 893
        },
        "outputId": "9924b952-e757-4fdf-b6ad-448ed9e1a6e9"
      },
      "source": [
        "f, ax = plt.subplots(figsize=(6, 15))\n",
        "sns.barplot(neutral_values[0:20],neutral_keys[0:20])\n",
        "# Add a legend and informative axis label\n",
        "ax.set(ylabel=\"\",\n",
        "       xlabel=\"counts\")\n",
        "ax.title.set_text('The most common words in neutral tweets.')\n",
        "sns.despine(left=True, bottom=True)"
      ],
      "execution_count": 23,
      "outputs": [
        {
          "output_type": "display_data",
          "data": {
            "image/png": "[encoded data removed]",
            "text/plain": [
              "<Figure size 432x1080 with 1 Axes>"
            ]
          },
          "metadata": {
            "tags": [],
            "needs_background": "light"
          }
        }
      ]
    },
    {
      "cell_type": "code",
      "metadata": {
        "id": "afmVv86TB_a_",
        "colab_type": "code",
        "colab": {
          "base_uri": "https://localhost:8080/",
          "height": 893
        },
        "outputId": "3a8b364f-0dad-4c05-cb1b-9fe24b7cf421"
      },
      "source": [
        "f, ax = plt.subplots(figsize=(6, 15))\n",
        "sns.barplot(pro_values[0:20],pro_keys[0:20])\n",
        "# Add a legend and informative axis label\n",
        "ax.set(ylabel=\"\",\n",
        "       xlabel=\"counts\")\n",
        "ax.title.set_text('The most common words in pro tweets.')\n",
        "sns.despine(left=True, bottom=True)"
      ],
      "execution_count": 24,
      "outputs": [
        {
          "output_type": "display_data",
          "data": {
            "image/png": "[encoded data removed]",
            "text/plain": [
              "<Figure size 432x1080 with 1 Axes>"
            ]
          },
          "metadata": {
            "tags": [],
            "needs_background": "light"
          }
        }
      ]
    },
    {
      "cell_type": "markdown",
      "metadata": {
        "id": "szVDlTqILInf",
        "colab_type": "text"
      },
      "source": [
        "Look into the words user and URL"
      ]
    },
    {
      "cell_type": "code",
      "metadata": {
        "id": "DDVr51wPLv7Q",
        "colab_type": "code",
        "colab": {}
      },
      "source": [
        "anti_tweets = data['safe_text'][data['label']==-1]\n",
        "neutral_tweets = data['safe_text'][data['label']==0]\n",
        "pro_tweets = data['safe_text'][data['label']==1]"
      ],
      "execution_count": 25,
      "outputs": []
    },
    {
      "cell_type": "code",
      "metadata": {
        "id": "ckqXKuffLOMa",
        "colab_type": "code",
        "colab": {}
      },
      "source": [
        "anti_hashtags = anti_tweets.str.extractall(r'(\\#\\w+)')[0].value_counts()\n",
        "neutral_hashtags = neutral_tweets.str.extractall(r'(\\#\\w+)')[0].value_counts()\n",
        "pro_hashtags = pro_tweets.str.extractall(r'(\\#\\w+)')[0].value_counts()"
      ],
      "execution_count": 26,
      "outputs": []
    },
    {
      "cell_type": "code",
      "metadata": {
        "id": "BlttOe4mLnyc",
        "colab_type": "code",
        "colab": {
          "base_uri": "https://localhost:8080/",
          "height": 242
        },
        "outputId": "a3b8c575-4d51-498d-9972-5713924a72ba"
      },
      "source": [
        "print(\"\\033[1mAnti hastags\\033[0m\\n\" + str(anti_hashtags))"
      ],
      "execution_count": 27,
      "outputs": [
        {
          "output_type": "stream",
          "text": [
            "\u001b[1mAnti hastags\u001b[0m\n",
            "#CDCwhistleblower         39\n",
            "#autism                   14\n",
            "#vaccine                  10\n",
            "#vaccines                 10\n",
            "#VaxTruth                  8\n",
            "                          ..\n",
            "#measles                   1\n",
            "#saynotoshots              1\n",
            "#vaccineexemption          1\n",
            "#reasonstonotvaccinate     1\n",
            "#vaccinate                 1\n",
            "Name: 0, Length: 126, dtype: int64\n"
          ],
          "name": "stdout"
        }
      ]
    },
    {
      "cell_type": "code",
      "metadata": {
        "id": "OYjauZVhOsiI",
        "colab_type": "code",
        "colab": {
          "base_uri": "https://localhost:8080/",
          "height": 242
        },
        "outputId": "df2edb21-9cb9-40cb-9e92-8b366ca5f557"
      },
      "source": [
        "print(\"\\033[1mNeutral hastags\\033[0m\\n\" + str(neutral_hashtags))"
      ],
      "execution_count": 28,
      "outputs": [
        {
          "output_type": "stream",
          "text": [
            "\u001b[1mNeutral hastags\u001b[0m\n",
            "#MMR                   193\n",
            "#mmr                   132\n",
            "#measles               101\n",
            "#dc                     42\n",
            "#dj                     40\n",
            "                      ... \n",
            "#ifyouknowmeyouknow      1\n",
            "#Barbara                 1\n",
            "#ILoveObama              1\n",
            "#blessed                 1\n",
            "#djculture               1\n",
            "Name: 0, Length: 1164, dtype: int64\n"
          ],
          "name": "stdout"
        }
      ]
    },
    {
      "cell_type": "code",
      "metadata": {
        "id": "yLFZHZIfPKqR",
        "colab_type": "code",
        "colab": {
          "base_uri": "https://localhost:8080/",
          "height": 242
        },
        "outputId": "a1cec5ed-82a9-4f94-e236-5f83d03dd69e"
      },
      "source": [
        "print(\"\\033[1mPro hastags\\033[0m\\n\" + str(pro_hashtags))"
      ],
      "execution_count": 29,
      "outputs": [
        {
          "output_type": "stream",
          "text": [
            "\u001b[1mPro hastags\u001b[0m\n",
            "#vaccineswork               88\n",
            "#measles                    51\n",
            "#vaccinate                  33\n",
            "#VaccinateYourKids          26\n",
            "#vaccine                    24\n",
            "                            ..\n",
            "#Measles2015                 1\n",
            "#EveryChildCounts            1\n",
            "#NY                          1\n",
            "#Immunization                1\n",
            "#extremeguidetoparenting     1\n",
            "Name: 0, Length: 580, dtype: int64\n"
          ],
          "name": "stdout"
        }
      ]
    },
    {
      "cell_type": "code",
      "metadata": {
        "id": "qD9MJXZ-bU5C",
        "colab_type": "code",
        "colab": {
          "base_uri": "https://localhost:8080/",
          "height": 54
        },
        "outputId": "3944f0da-5110-4d23-c764-2574816de526"
      },
      "source": [
        "print(list(anti_hashtags.index))"
      ],
      "execution_count": 30,
      "outputs": [
        {
          "output_type": "stream",
          "text": [
            "['#CDCwhistleblower', '#autism', '#vaccine', '#vaccines', '#VaxTruth', '#CDC', '#CDCwhisleblower', '#Autism', '#Vaccines', '#tcot', '#truth', '#hearthiswell', '#flushot', '#Vaccine', '#health', '#BigPharma', '#vaccinations', '#VaccineDebate', '#medicine', '#vaccineswork', '#GMO', '#justice', '#SB277', '#immunity', '#MMR', '#life', '#Gardasil', '#CDCvax', '#Nationwide', '#vaxtruth', '#UniteBlue', '#nomandates', '#vaccineworks', '#BlackLivesMatter', '#anthrax', '#suckers', '#1', '#grandmothersnotalwaysright', '#AustinPrimerMatters', '#beinformed', '#America', '#storytelling', '#fearmongers', '#leanux15', '#medicaltyranny', '#Vaccinate', '#Cuba', '#pediatrics', '#overcoming', '#rights', '#EndMediaBlackout', '#Farrakhan', '#VaccinesWork', '#BoughtMovie', '#AutismSucks', '#fuckedup', '#BreakABillion', '#GuillamBared', '#phps12', '#whatcausesautism', '#timminchin', '#NeverGiveUp', '#genius', '#Vaxxed', '#HPV', '#50', '#choice', '#conspiracy', '#beasts', '#VaccinescauseAutism', '#HearThisWell', '#BlackParents', '#BillGates', '#BlackBoys', '#VETOsb277', '#shortsightedstupidity', '#DIE', '#fAilure', '#medicalexam', '#CDCwhisteblower', '#everythingischemical', '#Cancer', '#securityoverfreedom', '#ChildrensEPA', '#ConfessYourUnpopularOpinion', '#OpposeSB277', '#tmlt', '#Monsanto', '#vaccineinjured', '#special', '#B1Less', '#VaccineInjured', '#WeAreNotGoingAway', '#b1less', '#pharmacist', '#sick', '#HilaryClinton', '#SisterPatriots', '#justsaying', '#Austism', '#children', '#African', '#ThingsMyDoctorSays', '#pregnancy', '#Cuban', '#meningitis', '#AgainstAllOdds', '#awareness', '#GB', '#UMNSO13', '#ObamaSpeech', '#flu', '#NotGoingAway', '#CDCwhistlblower', '#thefence', '#FluVaccine', '#WTF', '#CDCfraud', '#idiots', '#TheTime', '#notachance', '#measles', '#saynotoshots', '#vaccineexemption', '#reasonstonotvaccinate', '#vaccinate']\n"
          ],
          "name": "stdout"
        }
      ]
    },
    {
      "cell_type": "code",
      "metadata": {
        "id": "4R1n0NhTbo3E",
        "colab_type": "code",
        "colab": {}
      },
      "source": [
        "eda = pd.DataFrame()\n",
        "eda['pro_hashtags'] = list(pro_hashtags.index)[0:20]\n",
        "eda['pro_counts'] = list(pro_hashtags.values)[0:20]\n",
        "eda['neutral_hashtags'] = list(neutral_hashtags.index)[0:20]\n",
        "eda['neutral_counts'] = list(neutral_hashtags.values)[0:20]\n",
        "eda['anti_hashtags'] = list(anti_hashtags.index)[0:20]\n",
        "eda['anti_counts'] = list(anti_hashtags.values)[0:20]\n"
      ],
      "execution_count": 31,
      "outputs": []
    },
    {
      "cell_type": "code",
      "metadata": {
        "id": "EFafSOjScJQW",
        "colab_type": "code",
        "colab": {
          "base_uri": "https://localhost:8080/",
          "height": 202
        },
        "outputId": "cfa1757b-dc98-4785-a38b-81d5650fdb56"
      },
      "source": [
        "eda.head()"
      ],
      "execution_count": 32,
      "outputs": [
        {
          "output_type": "execute_result",
          "data": {
            "text/html": [
              "<div>\n",
              "<style scoped>\n",
              "    .dataframe tbody tr th:only-of-type {\n",
              "        vertical-align: middle;\n",
              "    }\n",
              "\n",
              "    .dataframe tbody tr th {\n",
              "        vertical-align: top;\n",
              "    }\n",
              "\n",
              "    .dataframe thead th {\n",
              "        text-align: right;\n",
              "    }\n",
              "</style>\n",
              "<table border=\"1\" class=\"dataframe\">\n",
              "  <thead>\n",
              "    <tr style=\"text-align: right;\">\n",
              "      <th></th>\n",
              "      <th>pro_hashtags</th>\n",
              "      <th>pro_counts</th>\n",
              "      <th>neutral_hashtags</th>\n",
              "      <th>neutral_counts</th>\n",
              "      <th>anti_hashtags</th>\n",
              "      <th>anti_counts</th>\n",
              "    </tr>\n",
              "  </thead>\n",
              "  <tbody>\n",
              "    <tr>\n",
              "      <th>0</th>\n",
              "      <td>#vaccineswork</td>\n",
              "      <td>88</td>\n",
              "      <td>#MMR</td>\n",
              "      <td>193</td>\n",
              "      <td>#CDCwhistleblower</td>\n",
              "      <td>39</td>\n",
              "    </tr>\n",
              "    <tr>\n",
              "      <th>1</th>\n",
              "      <td>#measles</td>\n",
              "      <td>51</td>\n",
              "      <td>#mmr</td>\n",
              "      <td>132</td>\n",
              "      <td>#autism</td>\n",
              "      <td>14</td>\n",
              "    </tr>\n",
              "    <tr>\n",
              "      <th>2</th>\n",
              "      <td>#vaccinate</td>\n",
              "      <td>33</td>\n",
              "      <td>#measles</td>\n",
              "      <td>101</td>\n",
              "      <td>#vaccine</td>\n",
              "      <td>10</td>\n",
              "    </tr>\n",
              "    <tr>\n",
              "      <th>3</th>\n",
              "      <td>#VaccinateYourKids</td>\n",
              "      <td>26</td>\n",
              "      <td>#dc</td>\n",
              "      <td>42</td>\n",
              "      <td>#vaccines</td>\n",
              "      <td>10</td>\n",
              "    </tr>\n",
              "    <tr>\n",
              "      <th>4</th>\n",
              "      <td>#vaccine</td>\n",
              "      <td>24</td>\n",
              "      <td>#dj</td>\n",
              "      <td>40</td>\n",
              "      <td>#VaxTruth</td>\n",
              "      <td>8</td>\n",
              "    </tr>\n",
              "  </tbody>\n",
              "</table>\n",
              "</div>"
            ],
            "text/plain": [
              "         pro_hashtags  pro_counts  ...      anti_hashtags  anti_counts\n",
              "0       #vaccineswork          88  ...  #CDCwhistleblower           39\n",
              "1            #measles          51  ...            #autism           14\n",
              "2          #vaccinate          33  ...           #vaccine           10\n",
              "3  #VaccinateYourKids          26  ...          #vaccines           10\n",
              "4            #vaccine          24  ...          #VaxTruth            8\n",
              "\n",
              "[5 rows x 6 columns]"
            ]
          },
          "metadata": {
            "tags": []
          },
          "execution_count": 32
        }
      ]
    },
    {
      "cell_type": "code",
      "metadata": {
        "id": "L0AK3y2jacIN",
        "colab_type": "code",
        "colab": {
          "base_uri": "https://localhost:8080/",
          "height": 404
        },
        "outputId": "1d2db87f-e918-4e6a-f627-3089374ad3a1"
      },
      "source": [
        "#plot these findings\n",
        "f, ax = plt.subplots(figsize=(6, 6))\n",
        "anti_hashtags[0:20].plot(kind='barh')\n",
        "# Add a legend and informative axis label\n",
        "ax.set(ylabel=\"\",\n",
        "       xlabel=\"counts\")\n",
        "ax.title.set_text('Top 20 hashtags for anti tweets')\n",
        "sns.despine(left=True, bottom=True)\n",
        "plt.show()\n"
      ],
      "execution_count": 33,
      "outputs": [
        {
          "output_type": "display_data",
          "data": {
            "image/png": "[encoded data removed]",
            "text/plain": [
              "<Figure size 432x432 with 1 Axes>"
            ]
          },
          "metadata": {
            "tags": [],
            "needs_background": "light"
          }
        }
      ]
    },
    {
      "cell_type": "code",
      "metadata": {
        "id": "ZjphAw08fIyI",
        "colab_type": "code",
        "colab": {
          "base_uri": "https://localhost:8080/",
          "height": 404
        },
        "outputId": "1c07ada4-7a28-4d4b-9f98-b57d3a5936b3"
      },
      "source": [
        "#plot these findings\n",
        "f, ax = plt.subplots(figsize=(6, 6))\n",
        "neutral_hashtags[0:20].plot(kind='barh')\n",
        "# Add a legend and informative axis label\n",
        "ax.set(ylabel=\"\",\n",
        "       xlabel=\"counts\")\n",
        "ax.title.set_text('Top 20 hashtags for neutral tweets')\n",
        "sns.despine(left=True, bottom=True)\n",
        "plt.show()"
      ],
      "execution_count": 34,
      "outputs": [
        {
          "output_type": "display_data",
          "data": {
            "image/png": "[encoded data removed]",
            "text/plain": [
              "<Figure size 432x432 with 1 Axes>"
            ]
          },
          "metadata": {
            "tags": [],
            "needs_background": "light"
          }
        }
      ]
    },
    {
      "cell_type": "code",
      "metadata": {
        "id": "4UTsGt-ghzOb",
        "colab_type": "code",
        "colab": {
          "base_uri": "https://localhost:8080/",
          "height": 404
        },
        "outputId": "065354f8-4bec-4b14-d2b1-7a229399ebc3"
      },
      "source": [
        "#plot these findings\n",
        "f, ax = plt.subplots(figsize=(6, 6))\n",
        "pro_hashtags[0:20].plot(kind='barh')\n",
        "# Add a legend and informative axis label\n",
        "ax.set(ylabel=\"\",\n",
        "       xlabel=\"counts\")\n",
        "ax.title.set_text('Top 20 hashtags for pro tweets')\n",
        "sns.despine(left=True, bottom=True)\n",
        "plt.show()"
      ],
      "execution_count": 35,
      "outputs": [
        {
          "output_type": "display_data",
          "data": {
            "image/png": "[encoded data removed]",
            "text/plain": [
              "<Figure size 432x432 with 1 Axes>"
            ]
          },
          "metadata": {
            "tags": [],
            "needs_background": "light"
          }
        }
      ]
    },
    {
      "cell_type": "markdown",
      "metadata": {
        "id": "l5fB3frCixtp",
        "colab_type": "text"
      },
      "source": [
        "#Text cleaning"
      ]
    },
    {
      "cell_type": "markdown",
      "metadata": {
        "id": "qHEiarwxkL3B",
        "colab_type": "text"
      },
      "source": [
        "How many times do retweets occur?"
      ]
    },
    {
      "cell_type": "code",
      "metadata": {
        "id": "JEhEdi7tizvr",
        "colab_type": "code",
        "colab": {
          "base_uri": "https://localhost:8080/",
          "height": 104
        },
        "outputId": "bf192ef6-6767-4f75-f81a-fd50e15138f1"
      },
      "source": [
        "#how many times does retweet occur?\n",
        "rts = [0]\n",
        "op =[]\n",
        "for i in data['safe_text']:\n",
        "  if 'RT' in i:\n",
        "    rts.append(i)\n",
        "  else:\n",
        "    op.append(i)\n",
        "\n",
        "print(\"Number of Original Tweets: \" + str(len(op)))\n",
        "print(\"\\nNumber of Retweets: \" + str(len(rts)))\n",
        "print(\"\\nRatio of Orignal Tweets to retweets: \" + str(round(len(rts)/len(op),2)))"
      ],
      "execution_count": 38,
      "outputs": [
        {
          "output_type": "stream",
          "text": [
            "Number of Original Tweets: 5676\n",
            "\n",
            "Number of Retweets: 191\n",
            "\n",
            "Ratio of Orignal Tweets to retweets: 0.03\n"
          ],
          "name": "stdout"
        }
      ]
    },
    {
      "cell_type": "markdown",
      "metadata": {
        "id": "bPf0wRMxkXaI",
        "colab_type": "text"
      },
      "source": [
        "Even though the retweet ratio is really small, it is best to drop the retweets do have more balanced data"
      ]
    },
    {
      "cell_type": "code",
      "metadata": {
        "id": "gXIB1n7fkfk1",
        "colab_type": "code",
        "colab": {
          "base_uri": "https://localhost:8080/",
          "height": 404
        },
        "outputId": "723217d7-c975-401b-d873-52c360c2ed9e"
      },
      "source": [
        "lengths = [len(op),len(rts)]\n",
        "values = ['Original Tweets', 'Retweets']\n",
        "f, ax = plt.subplots(figsize=(6, 6))\n",
        "sns.barplot(values,lengths)\n",
        "# Add a legend and informative axis label\n",
        "ax.set(ylabel=\"\",\n",
        "       xlabel=\"counts\")\n",
        "ax.title.set_text('The amount of origial tweets and retweets')\n",
        "sns.despine(left=True, bottom=True)\n",
        "plt.show()"
      ],
      "execution_count": 42,
      "outputs": [
        {
          "output_type": "display_data",
          "data": {
            "image/png": "[encoded data removed]",
            "text/plain": [
              "<Figure size 432x432 with 1 Axes>"
            ]
          },
          "metadata": {
            "tags": [],
            "needs_background": "light"
          }
        }
      ]
    },
    {
      "cell_type": "markdown",
      "metadata": {
        "id": "3jdkhjhIm3fJ",
        "colab_type": "text"
      },
      "source": [
        "lets look at a tweet and the features of a tweet:\n",
        "- Me &amp; The Big Homie meanboy3000 #MEANBOY #MB #MBS #MMR #STEGMANLIFE @ Stegman St. <url>\n",
        "- I'm 100% thinking of devoting my career to proving autism isn't caused by vaccines due to the IDIOTIC posts I've seen about World Autism Day\n",
        "- Measles in the 717 😳😳😳😳😳😷😷😷\n",
        "\n",
        "1. lowercase the words\n",
        "2. remove # but keep the word\n",
        "3. remove @ but keep the word\n",
        "4. remove punctuation\n",
        "5. keep emojis\n"
      ]
    },
    {
      "cell_type": "code",
      "metadata": {
        "id": "ld1fNOJ8rsXo",
        "colab_type": "code",
        "colab": {}
      },
      "source": [
        "import re"
      ],
      "execution_count": 85,
      "outputs": []
    },
    {
      "cell_type": "code",
      "metadata": {
        "id": "sNZdGPHhnasO",
        "colab_type": "code",
        "colab": {}
      },
      "source": [
        "def clean_tweets(tweet):\n",
        "  '''takes string as input and returns a string that has been cleaned'''\n",
        "  tweet = tweet.lower()\n",
        "  tweet = tweet.replace('<url>',\"\")\n",
        "  tweet = tweet.replace('<user>',\"\")\n",
        "  tokenizer = TweetTokenizer(reduce_len=True)\n",
        "  tokens = tokenizer.tokenize(tweet)\n",
        "  garbage = set(stopwords.words('english') + list(punctuation))\n",
        "  tweet = [word for word in tokens if word not in garbage]\n",
        "  print(tweet)\n",
        "  tweet = re.sub(r'#([^\\s]+)', r'\\1', \" \".join(tweet))\n",
        "  tweet = re.sub(r'@([^\\s]+)', r'\\1', \"\".join(tweet)) \n",
        "  return tweet  "
      ],
      "execution_count": 109,
      "outputs": []
    },
    {
      "cell_type": "code",
      "metadata": {
        "id": "wn_QMSpvo5sa",
        "colab_type": "code",
        "colab": {}
      },
      "source": [
        "tweet = 'Me &amp; !!!! 😳 The Big Homie meanboy3000 #MEANBOY #MB #MBS #MMR #STEGMANLIFE @ Stegman St.... <url> <user>'"
      ],
      "execution_count": 110,
      "outputs": []
    },
    {
      "cell_type": "code",
      "metadata": {
        "id": "0e-b0MwepA9Y",
        "colab_type": "code",
        "colab": {
          "base_uri": "https://localhost:8080/",
          "height": 52
        },
        "outputId": "17435d76-9fc9-4cc5-eec3-0cfd2cdab0df"
      },
      "source": [
        "print(clean_tweets(tweet))"
      ],
      "execution_count": 111,
      "outputs": [
        {
          "output_type": "stream",
          "text": [
            "['😳', 'big', 'homie', 'meanboy', '3000', '#meanboy', '#mb', '#mbs', '#mmr', '#stegmanlife', 'stegman', 'st', '...']\n",
            "😳 big homie meanboy 3000 meanboy mb mbs mmr stegmanlife stegman st ...\n"
          ],
          "name": "stdout"
        }
      ]
    },
    {
      "cell_type": "code",
      "metadata": {
        "id": "d3Tqaz5HpGgt",
        "colab_type": "code",
        "colab": {}
      },
      "source": [
        ""
      ],
      "execution_count": null,
      "outputs": []
    }
  ]
}