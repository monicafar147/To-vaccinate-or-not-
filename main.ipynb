{
  "nbformat": 4,
  "nbformat_minor": 0,
  "metadata": {
    "colab": {
      "name": "main.ipynb",
      "provenance": [],
      "toc_visible": true,
      "include_colab_link": true
    },
    "kernelspec": {
      "name": "python3",
      "display_name": "Python 3"
    }
  },
  "cells": [
    {
      "cell_type": "markdown",
      "metadata": {
        "id": "view-in-github",
        "colab_type": "text"
      },
      "source": [
        "<a href=\"https://colab.research.google.com/github/monicafar147/To-vaccinate-or-not-/blob/data-distributions/main.ipynb\" target=\"_parent\"><img src=\"https://colab.research.google.com/assets/colab-badge.svg\" alt=\"Open In Colab\"/></a>"
      ]
    },
    {
      "cell_type": "markdown",
      "metadata": {
        "id": "Y6lfCdsUqWeN",
        "colab_type": "text"
      },
      "source": [
        "# Introduction"
      ]
    },
    {
      "cell_type": "markdown",
      "metadata": {
        "id": "2xbqyq-xqb45",
        "colab_type": "text"
      },
      "source": [
        "In the past decade, tracking health trends using social media data has shown great promise, due to:\n",
        "-  a powerful combination of massive adoption of social media around the world\n",
        "-  increasingly potent hardware and software that enables us to work with these new big data streams. \n",
        "\n",
        "At the same time, many challenging problems have been identified:\n",
        "1. There is often a mismatch between how rapidly online data can change, and how rapidly algorithms are updated, which means that there is limited reusability for algorithms trained on past data as their performance decreases over time.\n",
        "2. Much of the work is focusing on specific issues during a specific past period in time, even though public health institutions would need flexible tools to assess multiple evolving situations in real time. \n",
        "3. Most tools providing such capabilities are proprietary systems with little algorithmic or data transparency, and thus little buy-in from the global public health and research community. \n",
        "\n",
        "The objective of this challenge is to develop a machine learning model to assess if a twitter post that is related to vaccinations is\n",
        "- positive\n",
        "- neutral\n",
        "- negative.\n",
        "\n",
        "Tweets have been classified as\n",
        "-  pro-vaccine (1)\n",
        "-  neutral (0) \n",
        "-  anti-vaccine (-1). \n",
        "The tweets have had usernames and web addresses removed."
      ]
    },
    {
      "cell_type": "markdown",
      "metadata": {
        "id": "bPA4Om5sreO8",
        "colab_type": "text"
      },
      "source": [
        "# Importing the data"
      ]
    },
    {
      "cell_type": "code",
      "metadata": {
        "id": "s6478RM-rgPG",
        "colab_type": "code",
        "colab": {}
      },
      "source": [
        "import pandas as pd\n",
        "import numpy as np\n",
        "train = pd.read_csv(\"https://raw.githubusercontent.com/monicafar147/To-vaccinate-or-not-/master/Train.csv\")\n",
        "test = pd.read_csv(\"https://raw.githubusercontent.com/monicafar147/To-vaccinate-or-not-/master/Test.csv\")"
      ],
      "execution_count": 1,
      "outputs": []
    },
    {
      "cell_type": "markdown",
      "metadata": {
        "id": "CFAAkO9FriCq",
        "colab_type": "text"
      },
      "source": [
        "Variable definition\n",
        "- tweet_id: Unique identifier of the tweet\n",
        "- safe_tweet: Text contained in the tweet. Some sensitive information has been removed like usernames and urls\n",
        "- label: Sentiment of the tweet (-1 for negative, 0 for neutral, 1 for positive)\n",
        "- agreement: The tweets were labeled by three people. Agreement indicates the percentage of the three reviewers that agreed on the given label. You may use this column in your training, but agreement data will not be shared for the test set."
      ]
    },
    {
      "cell_type": "code",
      "metadata": {
        "id": "1Im8WcDkrqRw",
        "colab_type": "code",
        "colab": {
          "base_uri": "https://localhost:8080/",
          "height": 202
        },
        "outputId": "0513dd6d-f83e-4486-af9c-9dc79fd54098"
      },
      "source": [
        "train.head()"
      ],
      "execution_count": 2,
      "outputs": [
        {
          "output_type": "execute_result",
          "data": {
            "text/html": [
              "<div>\n",
              "<style scoped>\n",
              "    .dataframe tbody tr th:only-of-type {\n",
              "        vertical-align: middle;\n",
              "    }\n",
              "\n",
              "    .dataframe tbody tr th {\n",
              "        vertical-align: top;\n",
              "    }\n",
              "\n",
              "    .dataframe thead th {\n",
              "        text-align: right;\n",
              "    }\n",
              "</style>\n",
              "<table border=\"1\" class=\"dataframe\">\n",
              "  <thead>\n",
              "    <tr style=\"text-align: right;\">\n",
              "      <th></th>\n",
              "      <th>tweet_id</th>\n",
              "      <th>safe_text</th>\n",
              "      <th>label</th>\n",
              "      <th>agreement</th>\n",
              "    </tr>\n",
              "  </thead>\n",
              "  <tbody>\n",
              "    <tr>\n",
              "      <th>0</th>\n",
              "      <td>CL1KWCMY</td>\n",
              "      <td>Me &amp;amp; The Big Homie meanboy3000 #MEANBOY #M...</td>\n",
              "      <td>0.0</td>\n",
              "      <td>1.0</td>\n",
              "    </tr>\n",
              "    <tr>\n",
              "      <th>1</th>\n",
              "      <td>E3303EME</td>\n",
              "      <td>I'm 100% thinking of devoting my career to pro...</td>\n",
              "      <td>1.0</td>\n",
              "      <td>1.0</td>\n",
              "    </tr>\n",
              "    <tr>\n",
              "      <th>2</th>\n",
              "      <td>M4IVFSMS</td>\n",
              "      <td>#whatcausesautism VACCINES, DO NOT VACCINATE Y...</td>\n",
              "      <td>-1.0</td>\n",
              "      <td>1.0</td>\n",
              "    </tr>\n",
              "    <tr>\n",
              "      <th>3</th>\n",
              "      <td>1DR6ROZ4</td>\n",
              "      <td>I mean if they immunize my kid with something ...</td>\n",
              "      <td>-1.0</td>\n",
              "      <td>1.0</td>\n",
              "    </tr>\n",
              "    <tr>\n",
              "      <th>4</th>\n",
              "      <td>J77ENIIE</td>\n",
              "      <td>Thanks to &lt;user&gt; Catch me performing at La Nui...</td>\n",
              "      <td>0.0</td>\n",
              "      <td>1.0</td>\n",
              "    </tr>\n",
              "  </tbody>\n",
              "</table>\n",
              "</div>"
            ],
            "text/plain": [
              "   tweet_id  ... agreement\n",
              "0  CL1KWCMY  ...       1.0\n",
              "1  E3303EME  ...       1.0\n",
              "2  M4IVFSMS  ...       1.0\n",
              "3  1DR6ROZ4  ...       1.0\n",
              "4  J77ENIIE  ...       1.0\n",
              "\n",
              "[5 rows x 4 columns]"
            ]
          },
          "metadata": {
            "tags": []
          },
          "execution_count": 2
        }
      ]
    },
    {
      "cell_type": "code",
      "metadata": {
        "id": "aNixnJ8JtFxD",
        "colab_type": "code",
        "colab": {
          "base_uri": "https://localhost:8080/",
          "height": 225
        },
        "outputId": "6c1c6a40-12aa-47cf-e62b-b39d3beee34c"
      },
      "source": [
        "# checking null values\n",
        "unique = [row for row in train['safe_text'].unique()]\n",
        "print(\"Number of unique values\")\n",
        "print(train['safe_text'].nunique())\n",
        "print(\"\\nTotal number of values\")\n",
        "print(len(train['tweet_id']))\n",
        "print(\"\\nNumber of null values:\\n\" + str(train.isnull().sum()))"
      ],
      "execution_count": 3,
      "outputs": [
        {
          "output_type": "stream",
          "text": [
            "Number of unique values\n",
            "9658\n",
            "\n",
            "Total number of values\n",
            "10001\n",
            "\n",
            "Number of null values:\n",
            "tweet_id     0\n",
            "safe_text    0\n",
            "label        1\n",
            "agreement    2\n",
            "dtype: int64\n"
          ],
          "name": "stdout"
        }
      ]
    },
    {
      "cell_type": "markdown",
      "metadata": {
        "id": "9bfgtbfbuWrU",
        "colab_type": "text"
      },
      "source": [
        "- There is 1 label that contains a null value\n",
        "- There are 2 agreements that contain a null value"
      ]
    },
    {
      "cell_type": "code",
      "metadata": {
        "id": "g4DkCtXP_4hD",
        "colab_type": "code",
        "colab": {}
      },
      "source": [
        "#drop the nulls\n",
        "train.dropna(inplace=True)\n",
        "test.dropna(inplace=True)"
      ],
      "execution_count": 4,
      "outputs": []
    },
    {
      "cell_type": "code",
      "metadata": {
        "id": "lVUULvOL_9KJ",
        "colab_type": "code",
        "colab": {
          "base_uri": "https://localhost:8080/",
          "height": 416
        },
        "outputId": "efe15442-fadd-4005-949f-a913060b6220"
      },
      "source": [
        "#drop duplicate data\n",
        "train.drop_duplicates(subset=None, keep='first', inplace=False)"
      ],
      "execution_count": 5,
      "outputs": [
        {
          "output_type": "execute_result",
          "data": {
            "text/html": [
              "<div>\n",
              "<style scoped>\n",
              "    .dataframe tbody tr th:only-of-type {\n",
              "        vertical-align: middle;\n",
              "    }\n",
              "\n",
              "    .dataframe tbody tr th {\n",
              "        vertical-align: top;\n",
              "    }\n",
              "\n",
              "    .dataframe thead th {\n",
              "        text-align: right;\n",
              "    }\n",
              "</style>\n",
              "<table border=\"1\" class=\"dataframe\">\n",
              "  <thead>\n",
              "    <tr style=\"text-align: right;\">\n",
              "      <th></th>\n",
              "      <th>tweet_id</th>\n",
              "      <th>safe_text</th>\n",
              "      <th>label</th>\n",
              "      <th>agreement</th>\n",
              "    </tr>\n",
              "  </thead>\n",
              "  <tbody>\n",
              "    <tr>\n",
              "      <th>0</th>\n",
              "      <td>CL1KWCMY</td>\n",
              "      <td>Me &amp;amp; The Big Homie meanboy3000 #MEANBOY #M...</td>\n",
              "      <td>0.0</td>\n",
              "      <td>1.000000</td>\n",
              "    </tr>\n",
              "    <tr>\n",
              "      <th>1</th>\n",
              "      <td>E3303EME</td>\n",
              "      <td>I'm 100% thinking of devoting my career to pro...</td>\n",
              "      <td>1.0</td>\n",
              "      <td>1.000000</td>\n",
              "    </tr>\n",
              "    <tr>\n",
              "      <th>2</th>\n",
              "      <td>M4IVFSMS</td>\n",
              "      <td>#whatcausesautism VACCINES, DO NOT VACCINATE Y...</td>\n",
              "      <td>-1.0</td>\n",
              "      <td>1.000000</td>\n",
              "    </tr>\n",
              "    <tr>\n",
              "      <th>3</th>\n",
              "      <td>1DR6ROZ4</td>\n",
              "      <td>I mean if they immunize my kid with something ...</td>\n",
              "      <td>-1.0</td>\n",
              "      <td>1.000000</td>\n",
              "    </tr>\n",
              "    <tr>\n",
              "      <th>4</th>\n",
              "      <td>J77ENIIE</td>\n",
              "      <td>Thanks to &lt;user&gt; Catch me performing at La Nui...</td>\n",
              "      <td>0.0</td>\n",
              "      <td>1.000000</td>\n",
              "    </tr>\n",
              "    <tr>\n",
              "      <th>...</th>\n",
              "      <td>...</td>\n",
              "      <td>...</td>\n",
              "      <td>...</td>\n",
              "      <td>...</td>\n",
              "    </tr>\n",
              "    <tr>\n",
              "      <th>9996</th>\n",
              "      <td>IU0TIJDI</td>\n",
              "      <td>Living in a time where the sperm I used to was...</td>\n",
              "      <td>1.0</td>\n",
              "      <td>1.000000</td>\n",
              "    </tr>\n",
              "    <tr>\n",
              "      <th>9997</th>\n",
              "      <td>WKKPCJY6</td>\n",
              "      <td>&lt;user&gt; &lt;user&gt;  In spite of all measles outbrea...</td>\n",
              "      <td>1.0</td>\n",
              "      <td>0.666667</td>\n",
              "    </tr>\n",
              "    <tr>\n",
              "      <th>9998</th>\n",
              "      <td>ST3A265H</td>\n",
              "      <td>Interesting trends in child immunization in Ok...</td>\n",
              "      <td>0.0</td>\n",
              "      <td>1.000000</td>\n",
              "    </tr>\n",
              "    <tr>\n",
              "      <th>9999</th>\n",
              "      <td>6Z27IJGD</td>\n",
              "      <td>CDC Says Measles Are At Highest Levels In Deca...</td>\n",
              "      <td>0.0</td>\n",
              "      <td>1.000000</td>\n",
              "    </tr>\n",
              "    <tr>\n",
              "      <th>10000</th>\n",
              "      <td>P6190L3Q</td>\n",
              "      <td>Pneumonia vaccine: for women w risk of pulmona...</td>\n",
              "      <td>1.0</td>\n",
              "      <td>0.666667</td>\n",
              "    </tr>\n",
              "  </tbody>\n",
              "</table>\n",
              "<p>9999 rows × 4 columns</p>\n",
              "</div>"
            ],
            "text/plain": [
              "       tweet_id  ... agreement\n",
              "0      CL1KWCMY  ...  1.000000\n",
              "1      E3303EME  ...  1.000000\n",
              "2      M4IVFSMS  ...  1.000000\n",
              "3      1DR6ROZ4  ...  1.000000\n",
              "4      J77ENIIE  ...  1.000000\n",
              "...         ...  ...       ...\n",
              "9996   IU0TIJDI  ...  1.000000\n",
              "9997   WKKPCJY6  ...  0.666667\n",
              "9998   ST3A265H  ...  1.000000\n",
              "9999   6Z27IJGD  ...  1.000000\n",
              "10000  P6190L3Q  ...  0.666667\n",
              "\n",
              "[9999 rows x 4 columns]"
            ]
          },
          "metadata": {
            "tags": []
          },
          "execution_count": 5
        }
      ]
    },
    {
      "cell_type": "code",
      "metadata": {
        "id": "k9uSML7qzpF9",
        "colab_type": "code",
        "colab": {
          "base_uri": "https://localhost:8080/",
          "height": 225
        },
        "outputId": "6fc2c840-7639-4f74-e0f8-a803e39321aa"
      },
      "source": [
        "# checking null values\n",
        "unique = [row for row in train['safe_text'].unique()]\n",
        "print(\"Number of unique values\")\n",
        "print(train['tweet_id'].nunique())\n",
        "print(\"\\nTotal number of values\")\n",
        "print(len(train['tweet_id']))\n",
        "print(\"\\nNumber of null values:\\n\" + str(train.isnull().sum()))"
      ],
      "execution_count": 6,
      "outputs": [
        {
          "output_type": "stream",
          "text": [
            "Number of unique values\n",
            "9999\n",
            "\n",
            "Total number of values\n",
            "9999\n",
            "\n",
            "Number of null values:\n",
            "tweet_id     0\n",
            "safe_text    0\n",
            "label        0\n",
            "agreement    0\n",
            "dtype: int64\n"
          ],
          "name": "stdout"
        }
      ]
    },
    {
      "cell_type": "code",
      "metadata": {
        "id": "nxQKOHl4zyxF",
        "colab_type": "code",
        "colab": {}
      },
      "source": [
        "grouped = train[['label', 'safe_text',]].groupby('label').count()"
      ],
      "execution_count": 7,
      "outputs": []
    },
    {
      "cell_type": "code",
      "metadata": {
        "id": "Bg4yKhbk3pcw",
        "colab_type": "code",
        "colab": {
          "base_uri": "https://localhost:8080/",
          "height": 172
        },
        "outputId": "b8fb398a-56bb-4e4e-a54d-4159abae78ba"
      },
      "source": [
        "grouped"
      ],
      "execution_count": 8,
      "outputs": [
        {
          "output_type": "execute_result",
          "data": {
            "text/html": [
              "<div>\n",
              "<style scoped>\n",
              "    .dataframe tbody tr th:only-of-type {\n",
              "        vertical-align: middle;\n",
              "    }\n",
              "\n",
              "    .dataframe tbody tr th {\n",
              "        vertical-align: top;\n",
              "    }\n",
              "\n",
              "    .dataframe thead th {\n",
              "        text-align: right;\n",
              "    }\n",
              "</style>\n",
              "<table border=\"1\" class=\"dataframe\">\n",
              "  <thead>\n",
              "    <tr style=\"text-align: right;\">\n",
              "      <th></th>\n",
              "      <th>safe_text</th>\n",
              "    </tr>\n",
              "    <tr>\n",
              "      <th>label</th>\n",
              "      <th></th>\n",
              "    </tr>\n",
              "  </thead>\n",
              "  <tbody>\n",
              "    <tr>\n",
              "      <th>-1.0</th>\n",
              "      <td>1038</td>\n",
              "    </tr>\n",
              "    <tr>\n",
              "      <th>0.0</th>\n",
              "      <td>4908</td>\n",
              "    </tr>\n",
              "    <tr>\n",
              "      <th>1.0</th>\n",
              "      <td>4053</td>\n",
              "    </tr>\n",
              "  </tbody>\n",
              "</table>\n",
              "</div>"
            ],
            "text/plain": [
              "       safe_text\n",
              "label           \n",
              "-1.0        1038\n",
              " 0.0        4908\n",
              " 1.0        4053"
            ]
          },
          "metadata": {
            "tags": []
          },
          "execution_count": 8
        }
      ]
    },
    {
      "cell_type": "markdown",
      "metadata": {
        "id": "y1HrEswL4Z2e",
        "colab_type": "text"
      },
      "source": [
        "Looks a lot better!!!"
      ]
    },
    {
      "cell_type": "code",
      "metadata": {
        "id": "jOlEQaub44iL",
        "colab_type": "code",
        "colab": {
          "base_uri": "https://localhost:8080/",
          "height": 52
        },
        "outputId": "1eac2e8d-0c28-43f8-8f33-c10ed798a77d"
      },
      "source": [
        "# plotting\n",
        "import matplotlib.pyplot as plt\n",
        "import seaborn as sns\n",
        "plt.style.use('seaborn-deep')"
      ],
      "execution_count": 9,
      "outputs": [
        {
          "output_type": "stream",
          "text": [
            "/usr/local/lib/python3.6/dist-packages/statsmodels/tools/_testing.py:19: FutureWarning: pandas.util.testing is deprecated. Use the functions in the public API at pandas.testing instead.\n",
            "  import pandas.util.testing as tm\n"
          ],
          "name": "stderr"
        }
      ]
    },
    {
      "cell_type": "code",
      "metadata": {
        "id": "aLnu9CnS4dho",
        "colab_type": "code",
        "colab": {
          "base_uri": "https://localhost:8080/",
          "height": 294
        },
        "outputId": "c7f8b289-df10-40d1-bc59-263c96b561f1"
      },
      "source": [
        "col = sns.color_palette(\"Blues\")\n",
        "sns.countplot(x=train['label'], palette = sns.cubehelix_palette(8, start=1, rot=-.75))\n",
        "plt.title('raw data distribution')\n",
        "plt.show()"
      ],
      "execution_count": 10,
      "outputs": [
        {
          "output_type": "display_data",
          "data": {
            "image/png": "[encoded data removed]",
            "text/plain": [
              "<Figure size 432x288 with 1 Axes>"
            ]
          },
          "metadata": {
            "tags": [],
            "needs_background": "light"
          }
        }
      ]
    },
    {
      "cell_type": "markdown",
      "metadata": {
        "id": "k2Kmmv2Q48q8",
        "colab_type": "text"
      },
      "source": [
        "The data is unbalanced.\n",
        "\n",
        "To counter this the following strategies can be used\n",
        "- cross validation\n",
        "- use small test size\n",
        "- use stratify in train-test split\n",
        "- use SMOTE\n",
        "- up-sampling of data\n",
        "- down-sampling of data\n"
      ]
    },
    {
      "cell_type": "code",
      "metadata": {
        "id": "SHWNUqYLIYF3",
        "colab_type": "code",
        "colab": {}
      },
      "source": [
        "train['agreement'] = train['agreement'].round(2)"
      ],
      "execution_count": 11,
      "outputs": []
    },
    {
      "cell_type": "code",
      "metadata": {
        "id": "i5fdqbsdFiu4",
        "colab_type": "code",
        "colab": {
          "base_uri": "https://localhost:8080/",
          "height": 294
        },
        "outputId": "a8fe4fd5-d2fa-4daf-cf68-ef955e184675"
      },
      "source": [
        "#looking at agreement column\n",
        "col = sns.color_palette(\"Blues\")\n",
        "sns.countplot(x=train['agreement'], palette = sns.cubehelix_palette(8, start=1, rot=-.75))\n",
        "plt.title('Distribution of agreement')\n",
        "plt.show()"
      ],
      "execution_count": 12,
      "outputs": [
        {
          "output_type": "display_data",
          "data": {
            "image/png": "[encoded data removed]",
            "text/plain": [
              "<Figure size 432x288 with 1 Axes>"
            ]
          },
          "metadata": {
            "tags": [],
            "needs_background": "light"
          }
        }
      ]
    },
    {
      "cell_type": "code",
      "metadata": {
        "id": "YbJFTZGFGIcM",
        "colab_type": "code",
        "colab": {
          "base_uri": "https://localhost:8080/",
          "height": 172
        },
        "outputId": "87b8c1c8-ed6b-4db0-8971-61bfb02932f9"
      },
      "source": [
        "agreed = train[['agreement', 'safe_text',]].groupby('agreement').count()\n",
        "agreed"
      ],
      "execution_count": 13,
      "outputs": [
        {
          "output_type": "execute_result",
          "data": {
            "text/html": [
              "<div>\n",
              "<style scoped>\n",
              "    .dataframe tbody tr th:only-of-type {\n",
              "        vertical-align: middle;\n",
              "    }\n",
              "\n",
              "    .dataframe tbody tr th {\n",
              "        vertical-align: top;\n",
              "    }\n",
              "\n",
              "    .dataframe thead th {\n",
              "        text-align: right;\n",
              "    }\n",
              "</style>\n",
              "<table border=\"1\" class=\"dataframe\">\n",
              "  <thead>\n",
              "    <tr style=\"text-align: right;\">\n",
              "      <th></th>\n",
              "      <th>safe_text</th>\n",
              "    </tr>\n",
              "    <tr>\n",
              "      <th>agreement</th>\n",
              "      <th></th>\n",
              "    </tr>\n",
              "  </thead>\n",
              "  <tbody>\n",
              "    <tr>\n",
              "      <th>0.33</th>\n",
              "      <td>239</td>\n",
              "    </tr>\n",
              "    <tr>\n",
              "      <th>0.67</th>\n",
              "      <td>3894</td>\n",
              "    </tr>\n",
              "    <tr>\n",
              "      <th>1.00</th>\n",
              "      <td>5866</td>\n",
              "    </tr>\n",
              "  </tbody>\n",
              "</table>\n",
              "</div>"
            ],
            "text/plain": [
              "           safe_text\n",
              "agreement           \n",
              "0.33             239\n",
              "0.67            3894\n",
              "1.00            5866"
            ]
          },
          "metadata": {
            "tags": []
          },
          "execution_count": 13
        }
      ]
    },
    {
      "cell_type": "markdown",
      "metadata": {
        "id": "IaKWkbunGW1c",
        "colab_type": "text"
      },
      "source": [
        "To improve the model accuracy\n",
        "- use agreement more than 0.3\n",
        "- only use 100% agreement"
      ]
    },
    {
      "cell_type": "code",
      "metadata": {
        "id": "z9yuheZuG76y",
        "colab_type": "code",
        "colab": {}
      },
      "source": [
        "# Dropping rows where agreement is not 0.67\n",
        "data = train[train['agreement'] == 1]"
      ],
      "execution_count": 14,
      "outputs": []
    },
    {
      "cell_type": "code",
      "metadata": {
        "id": "cN1h5hGYEIte",
        "colab_type": "code",
        "colab": {
          "base_uri": "https://localhost:8080/",
          "height": 294
        },
        "outputId": "02d1bb77-88e8-4899-df16-cfd64dfe320d"
      },
      "source": [
        "#looking at agreement column\n",
        "col = sns.color_palette(\"Blues\")\n",
        "sns.countplot(x=data['label'], palette = sns.cubehelix_palette(8, start=1, rot=-.75))\n",
        "plt.title('Distribution of data after selecting agreement==1')\n",
        "plt.show()"
      ],
      "execution_count": 15,
      "outputs": [
        {
          "output_type": "display_data",
          "data": {
            "image/png": "[encoded data removed]",
            "text/plain": [
              "<Figure size 432x288 with 1 Axes>"
            ]
          },
          "metadata": {
            "tags": [],
            "needs_background": "light"
          }
        }
      ]
    },
    {
      "cell_type": "markdown",
      "metadata": {
        "id": "PnxX8rPx_41j",
        "colab_type": "text"
      },
      "source": [
        "# EDA"
      ]
    },
    {
      "cell_type": "code",
      "metadata": {
        "id": "nWjWhsqO5WKu",
        "colab_type": "code",
        "colab": {}
      },
      "source": [
        "from nltk.tokenize import TweetTokenizer"
      ],
      "execution_count": 16,
      "outputs": []
    },
    {
      "cell_type": "code",
      "metadata": {
        "id": "khY8AHccAgi6",
        "colab_type": "code",
        "colab": {}
      },
      "source": [
        "\n",
        "def bag_of_words_count(words, word_dict={}):\n",
        "    \"\"\" this function takes in a list of words and returns a dictionary \n",
        "        with each word as a key, and the value represents the number of \n",
        "        times that word appeared\"\"\"\n",
        "    for word in words:\n",
        "        if word in word_dict.keys():\n",
        "            word_dict[word] += 1\n",
        "        else:\n",
        "            word_dict[word] = 1\n",
        "    return word_dict"
      ],
      "execution_count": 17,
      "outputs": []
    },
    {
      "cell_type": "code",
      "metadata": {
        "id": "zrsekUf9_7tf",
        "colab_type": "code",
        "colab": {
          "base_uri": "https://localhost:8080/",
          "height": 0
        },
        "outputId": "0c96cef0-e952-41b8-de36-0e53356257ab"
      },
      "source": [
        "tokeniser = TweetTokenizer()\n",
        "data['tokens'] = data['safe_text'].apply(tokeniser.tokenize)\n",
        "sentiment_labels = list(set(data['label'].values))\n",
        "sentiment = {}\n",
        "for sent in sentiment_labels:\n",
        "    df = data.groupby('label')\n",
        "    sentiment[sent] = {}\n",
        "    for row in df.get_group(sent)['tokens']:\n",
        "        sentiment[sent] = bag_of_words_count(row, sentiment[sent])"
      ],
      "execution_count": 18,
      "outputs": [
        {
          "output_type": "stream",
          "text": [
            "/usr/local/lib/python3.6/dist-packages/ipykernel_launcher.py:2: SettingWithCopyWarning: \n",
            "A value is trying to be set on a copy of a slice from a DataFrame.\n",
            "Try using .loc[row_indexer,col_indexer] = value instead\n",
            "\n",
            "See the caveats in the documentation: https://pandas.pydata.org/pandas-docs/stable/user_guide/indexing.html#returning-a-view-versus-a-copy\n",
            "  \n"
          ],
          "name": "stderr"
        }
      ]
    },
    {
      "cell_type": "code",
      "metadata": {
        "id": "GXRmxP3fANFv",
        "colab_type": "code",
        "colab": {}
      },
      "source": [
        "anti = {key: value for key, value in sorted(sentiment[-1].items(), key=lambda item: item[1], reverse=True)}\n",
        "neutral = {key: value for key, value in sorted(sentiment[0].items(), key=lambda item: item[1], reverse=True)}\n",
        "pro = {key: value for key, value in sorted(sentiment[1].items(), key=lambda item: item[1], reverse=True)}"
      ],
      "execution_count": 19,
      "outputs": []
    },
    {
      "cell_type": "code",
      "metadata": {
        "id": "iEHykvUTJZkA",
        "colab_type": "code",
        "colab": {
          "base_uri": "https://localhost:8080/",
          "height": 0
        },
        "outputId": "1cef40aa-3134-412c-e3e0-26c253d13158"
      },
      "source": [
        "from string import punctuation\n",
        "import nltk\n",
        "nltk.download(['stopwords','punkt'])\n",
        "from nltk.corpus import stopwords"
      ],
      "execution_count": 20,
      "outputs": [
        {
          "output_type": "stream",
          "text": [
            "[nltk_data] Downloading package stopwords to /root/nltk_data...\n",
            "[nltk_data]   Package stopwords is already up-to-date!\n",
            "[nltk_data] Downloading package punkt to /root/nltk_data...\n",
            "[nltk_data]   Package punkt is already up-to-date!\n"
          ],
          "name": "stdout"
        }
      ]
    },
    {
      "cell_type": "code",
      "metadata": {
        "id": "YfZsU8d0J1hp",
        "colab_type": "code",
        "colab": {}
      },
      "source": [
        "random = set(stopwords.words('english') + list(punctuation)+[\"<user>\",\"<url>\"])"
      ],
      "execution_count": 21,
      "outputs": []
    },
    {
      "cell_type": "code",
      "metadata": {
        "id": "VgnsZck-BAM-",
        "colab_type": "code",
        "colab": {}
      },
      "source": [
        "# anti\n",
        "anti_keys = [key for key in anti.keys() if key not in random]\n",
        "anti_values = [value[1] for value in anti.items() if value[0] not in random]\n",
        "# neutral\n",
        "neutral_keys = [key for key in neutral.keys() if key not in random]\n",
        "neutral_values = [value[1] for value in neutral.items() if value[0] not in random]\n",
        "# pro\n",
        "pro_keys = [key for key in pro.keys() if key not in random]\n",
        "pro_values = [value[1] for value in pro.items() if value[0] not in random]\n"
      ],
      "execution_count": 22,
      "outputs": []
    },
    {
      "cell_type": "code",
      "metadata": {
        "id": "TKGthEYQBp8S",
        "colab_type": "code",
        "colab": {
          "base_uri": "https://localhost:8080/",
          "height": 0
        },
        "outputId": "11c9ef19-b6dc-4879-96bd-a3498149805d"
      },
      "source": [
        "f, ax = plt.subplots(figsize=(6, 15))\n",
        "sns.barplot(anti_values[0:20],anti_keys[0:20])\n",
        "# Add a legend and informative axis label\n",
        "ax.set(ylabel=\"\",\n",
        "       xlabel=\"counts\")\n",
        "ax.title.set_text('The most common words in anti tweets.')\n",
        "sns.despine(left=True, bottom=True)"
      ],
      "execution_count": 23,
      "outputs": [
        {
          "output_type": "display_data",
          "data": {
            "image/png": "[encoded data removed]",
            "text/plain": [
              "<Figure size 432x1080 with 1 Axes>"
            ]
          },
          "metadata": {
            "tags": [],
            "needs_background": "light"
          }
        }
      ]
    },
    {
      "cell_type": "code",
      "metadata": {
        "id": "F_zDJVSUB4Zu",
        "colab_type": "code",
        "colab": {
          "base_uri": "https://localhost:8080/",
          "height": 0
        },
        "outputId": "08115d4c-600b-49c6-a663-441f78aee7b9"
      },
      "source": [
        "f, ax = plt.subplots(figsize=(6, 15))\n",
        "sns.barplot(neutral_values[0:20],neutral_keys[0:20])\n",
        "# Add a legend and informative axis label\n",
        "ax.set(ylabel=\"\",\n",
        "       xlabel=\"counts\")\n",
        "ax.title.set_text('The most common words in neutral tweets.')\n",
        "sns.despine(left=True, bottom=True)"
      ],
      "execution_count": 24,
      "outputs": [
        {
          "output_type": "display_data",
          "data": {
            "image/png": "[encoded data removed]",
            "text/plain": [
              "<Figure size 432x1080 with 1 Axes>"
            ]
          },
          "metadata": {
            "tags": [],
            "needs_background": "light"
          }
        }
      ]
    },
    {
      "cell_type": "code",
      "metadata": {
        "id": "afmVv86TB_a_",
        "colab_type": "code",
        "colab": {
          "base_uri": "https://localhost:8080/",
          "height": 0
        },
        "outputId": "879ddc63-2c4a-48ad-9069-37f281d61bb8"
      },
      "source": [
        "f, ax = plt.subplots(figsize=(6, 15))\n",
        "sns.barplot(pro_values[0:20],pro_keys[0:20])\n",
        "# Add a legend and informative axis label\n",
        "ax.set(ylabel=\"\",\n",
        "       xlabel=\"counts\")\n",
        "ax.title.set_text('The most common words in pro tweets.')\n",
        "sns.despine(left=True, bottom=True)"
      ],
      "execution_count": 25,
      "outputs": [
        {
          "output_type": "display_data",
          "data": {
            "image/png": "[encoded data removed]",
            "text/plain": [
              "<Figure size 432x1080 with 1 Axes>"
            ]
          },
          "metadata": {
            "tags": [],
            "needs_background": "light"
          }
        }
      ]
    },
    {
      "cell_type": "markdown",
      "metadata": {
        "id": "szVDlTqILInf",
        "colab_type": "text"
      },
      "source": [
        "Look into the words user and URL"
      ]
    },
    {
      "cell_type": "code",
      "metadata": {
        "id": "DDVr51wPLv7Q",
        "colab_type": "code",
        "colab": {}
      },
      "source": [
        "anti_tweets = data['safe_text'][data['label']==-1]\n",
        "neutral_tweets = data['safe_text'][data['label']==0]\n",
        "pro_tweets = data['safe_text'][data['label']==1]"
      ],
      "execution_count": 26,
      "outputs": []
    },
    {
      "cell_type": "code",
      "metadata": {
        "id": "ckqXKuffLOMa",
        "colab_type": "code",
        "colab": {}
      },
      "source": [
        "anti_hashtags = anti_tweets.str.extractall(r'(\\#\\w+)')[0].value_counts()\n",
        "neutral_hashtags = neutral_tweets.str.extractall(r'(\\#\\w+)')[0].value_counts()\n",
        "pro_hashtags = pro_tweets.str.extractall(r'(\\#\\w+)')[0].value_counts()"
      ],
      "execution_count": 27,
      "outputs": []
    },
    {
      "cell_type": "code",
      "metadata": {
        "id": "BlttOe4mLnyc",
        "colab_type": "code",
        "colab": {
          "base_uri": "https://localhost:8080/",
          "height": 0
        },
        "outputId": "d24fad9d-246a-4a87-d734-2a4104daf766"
      },
      "source": [
        "print(\"\\033[1mAnti hastags\\033[0m\\n\" + str(anti_hashtags))"
      ],
      "execution_count": 28,
      "outputs": [
        {
          "output_type": "stream",
          "text": [
            "\u001b[1mAnti hastags\u001b[0m\n",
            "#CDCwhistleblower    39\n",
            "#autism              14\n",
            "#vaccines            10\n",
            "#vaccine             10\n",
            "#VaxTruth             8\n",
            "                     ..\n",
            "#EndMediaBlackout     1\n",
            "#BlackLivesMatter     1\n",
            "#WTF                  1\n",
            "#Austism              1\n",
            "#Cuba                 1\n",
            "Name: 0, Length: 126, dtype: int64\n"
          ],
          "name": "stdout"
        }
      ]
    },
    {
      "cell_type": "code",
      "metadata": {
        "id": "OYjauZVhOsiI",
        "colab_type": "code",
        "colab": {
          "base_uri": "https://localhost:8080/",
          "height": 0
        },
        "outputId": "7c42cdb4-9199-443f-c916-6dac29e5a8bc"
      },
      "source": [
        "print(\"\\033[1mNeutral hastags\\033[0m\\n\" + str(neutral_hashtags))"
      ],
      "execution_count": 29,
      "outputs": [
        {
          "output_type": "stream",
          "text": [
            "\u001b[1mNeutral hastags\u001b[0m\n",
            "#MMR                193\n",
            "#mmr                132\n",
            "#measles            101\n",
            "#dc                  42\n",
            "#dj                  40\n",
            "                   ... \n",
            "#momcongress          1\n",
            "#mb                   1\n",
            "#MedicalASong         1\n",
            "#MIKEYMOUSE           1\n",
            "#MOOutdoorSummit      1\n",
            "Name: 0, Length: 1164, dtype: int64\n"
          ],
          "name": "stdout"
        }
      ]
    },
    {
      "cell_type": "code",
      "metadata": {
        "id": "yLFZHZIfPKqR",
        "colab_type": "code",
        "colab": {
          "base_uri": "https://localhost:8080/",
          "height": 0
        },
        "outputId": "4c568316-69d0-482a-aba1-1a1a6481e274"
      },
      "source": [
        "print(\"\\033[1mPro hastags\\033[0m\\n\" + str(pro_hashtags))"
      ],
      "execution_count": 30,
      "outputs": [
        {
          "output_type": "stream",
          "text": [
            "\u001b[1mPro hastags\u001b[0m\n",
            "#vaccineswork         88\n",
            "#measles              51\n",
            "#vaccinate            33\n",
            "#VaccinateYourKids    26\n",
            "#vaccine              24\n",
            "                      ..\n",
            "#AAP                   1\n",
            "#Telemundo47           1\n",
            "#babysalazar           1\n",
            "#pethealth             1\n",
            "#Chicago               1\n",
            "Name: 0, Length: 580, dtype: int64\n"
          ],
          "name": "stdout"
        }
      ]
    },
    {
      "cell_type": "code",
      "metadata": {
        "id": "4R1n0NhTbo3E",
        "colab_type": "code",
        "colab": {}
      },
      "source": [
        "eda = pd.DataFrame()\n",
        "eda['pro_hashtags'] = list(pro_hashtags.index)[0:20]\n",
        "eda['pro_counts'] = list(pro_hashtags.values)[0:20]\n",
        "eda['neutral_hashtags'] = list(neutral_hashtags.index)[0:20]\n",
        "eda['neutral_counts'] = list(neutral_hashtags.values)[0:20]\n",
        "eda['anti_hashtags'] = list(anti_hashtags.index)[0:20]\n",
        "eda['anti_counts'] = list(anti_hashtags.values)[0:20]\n"
      ],
      "execution_count": 31,
      "outputs": []
    },
    {
      "cell_type": "code",
      "metadata": {
        "id": "EFafSOjScJQW",
        "colab_type": "code",
        "colab": {
          "base_uri": "https://localhost:8080/",
          "height": 0
        },
        "outputId": "27eae4fc-a198-400f-bd06-69e01f0039b9"
      },
      "source": [
        "eda.head()"
      ],
      "execution_count": 32,
      "outputs": [
        {
          "output_type": "execute_result",
          "data": {
            "text/html": [
              "<div>\n",
              "<style scoped>\n",
              "    .dataframe tbody tr th:only-of-type {\n",
              "        vertical-align: middle;\n",
              "    }\n",
              "\n",
              "    .dataframe tbody tr th {\n",
              "        vertical-align: top;\n",
              "    }\n",
              "\n",
              "    .dataframe thead th {\n",
              "        text-align: right;\n",
              "    }\n",
              "</style>\n",
              "<table border=\"1\" class=\"dataframe\">\n",
              "  <thead>\n",
              "    <tr style=\"text-align: right;\">\n",
              "      <th></th>\n",
              "      <th>pro_hashtags</th>\n",
              "      <th>pro_counts</th>\n",
              "      <th>neutral_hashtags</th>\n",
              "      <th>neutral_counts</th>\n",
              "      <th>anti_hashtags</th>\n",
              "      <th>anti_counts</th>\n",
              "    </tr>\n",
              "  </thead>\n",
              "  <tbody>\n",
              "    <tr>\n",
              "      <th>0</th>\n",
              "      <td>#vaccineswork</td>\n",
              "      <td>88</td>\n",
              "      <td>#MMR</td>\n",
              "      <td>193</td>\n",
              "      <td>#CDCwhistleblower</td>\n",
              "      <td>39</td>\n",
              "    </tr>\n",
              "    <tr>\n",
              "      <th>1</th>\n",
              "      <td>#measles</td>\n",
              "      <td>51</td>\n",
              "      <td>#mmr</td>\n",
              "      <td>132</td>\n",
              "      <td>#autism</td>\n",
              "      <td>14</td>\n",
              "    </tr>\n",
              "    <tr>\n",
              "      <th>2</th>\n",
              "      <td>#vaccinate</td>\n",
              "      <td>33</td>\n",
              "      <td>#measles</td>\n",
              "      <td>101</td>\n",
              "      <td>#vaccines</td>\n",
              "      <td>10</td>\n",
              "    </tr>\n",
              "    <tr>\n",
              "      <th>3</th>\n",
              "      <td>#VaccinateYourKids</td>\n",
              "      <td>26</td>\n",
              "      <td>#dc</td>\n",
              "      <td>42</td>\n",
              "      <td>#vaccine</td>\n",
              "      <td>10</td>\n",
              "    </tr>\n",
              "    <tr>\n",
              "      <th>4</th>\n",
              "      <td>#vaccine</td>\n",
              "      <td>24</td>\n",
              "      <td>#dj</td>\n",
              "      <td>40</td>\n",
              "      <td>#VaxTruth</td>\n",
              "      <td>8</td>\n",
              "    </tr>\n",
              "  </tbody>\n",
              "</table>\n",
              "</div>"
            ],
            "text/plain": [
              "         pro_hashtags  pro_counts  ...      anti_hashtags  anti_counts\n",
              "0       #vaccineswork          88  ...  #CDCwhistleblower           39\n",
              "1            #measles          51  ...            #autism           14\n",
              "2          #vaccinate          33  ...          #vaccines           10\n",
              "3  #VaccinateYourKids          26  ...           #vaccine           10\n",
              "4            #vaccine          24  ...          #VaxTruth            8\n",
              "\n",
              "[5 rows x 6 columns]"
            ]
          },
          "metadata": {
            "tags": []
          },
          "execution_count": 32
        }
      ]
    },
    {
      "cell_type": "code",
      "metadata": {
        "id": "L0AK3y2jacIN",
        "colab_type": "code",
        "colab": {
          "base_uri": "https://localhost:8080/",
          "height": 0
        },
        "outputId": "99e403d2-87a6-41fc-cae5-c6e9aeb43279"
      },
      "source": [
        "#plot these findings\n",
        "f, ax = plt.subplots(figsize=(6, 6))\n",
        "anti_hashtags[0:20].plot(kind='barh')\n",
        "# Add a legend and informative axis label\n",
        "ax.set(ylabel=\"\",\n",
        "       xlabel=\"counts\")\n",
        "ax.title.set_text('Top 20 hashtags for anti tweets')\n",
        "sns.despine(left=True, bottom=True)\n",
        "plt.show()\n"
      ],
      "execution_count": 33,
      "outputs": [
        {
          "output_type": "display_data",
          "data": {
            "image/png": "[encoded data removed]",
            "text/plain": [
              "<Figure size 432x432 with 1 Axes>"
            ]
          },
          "metadata": {
            "tags": [],
            "needs_background": "light"
          }
        }
      ]
    },
    {
      "cell_type": "code",
      "metadata": {
        "id": "ZjphAw08fIyI",
        "colab_type": "code",
        "colab": {
          "base_uri": "https://localhost:8080/",
          "height": 0
        },
        "outputId": "4223cf71-2535-44a2-db65-40f0513c7b5f"
      },
      "source": [
        "#plot these findings\n",
        "f, ax = plt.subplots(figsize=(6, 6))\n",
        "neutral_hashtags[0:20].plot(kind='barh')\n",
        "# Add a legend and informative axis label\n",
        "ax.set(ylabel=\"\",\n",
        "       xlabel=\"counts\")\n",
        "ax.title.set_text('Top 20 hashtags for neutral tweets')\n",
        "sns.despine(left=True, bottom=True)\n",
        "plt.show()"
      ],
      "execution_count": 34,
      "outputs": [
        {
          "output_type": "display_data",
          "data": {
            "image/png": "[encoded data removed]",
            "text/plain": [
              "<Figure size 432x432 with 1 Axes>"
            ]
          },
          "metadata": {
            "tags": [],
            "needs_background": "light"
          }
        }
      ]
    },
    {
      "cell_type": "code",
      "metadata": {
        "id": "4UTsGt-ghzOb",
        "colab_type": "code",
        "colab": {
          "base_uri": "https://localhost:8080/",
          "height": 0
        },
        "outputId": "58a7d4b9-9801-4d66-864e-79e1b1026e5f"
      },
      "source": [
        "#plot these findings\n",
        "f, ax = plt.subplots(figsize=(6, 6))\n",
        "pro_hashtags[0:20].plot(kind='barh')\n",
        "# Add a legend and informative axis label\n",
        "ax.set(ylabel=\"\",\n",
        "       xlabel=\"counts\")\n",
        "ax.title.set_text('Top 20 hashtags for pro tweets')\n",
        "sns.despine(left=True, bottom=True)\n",
        "plt.show()"
      ],
      "execution_count": 35,
      "outputs": [
        {
          "output_type": "display_data",
          "data": {
            "image/png": "[encoded data removed]",
            "text/plain": [
              "<Figure size 432x432 with 1 Axes>"
            ]
          },
          "metadata": {
            "tags": [],
            "needs_background": "light"
          }
        }
      ]
    },
    {
      "cell_type": "markdown",
      "metadata": {
        "id": "l5fB3frCixtp",
        "colab_type": "text"
      },
      "source": [
        "#Text cleaning"
      ]
    },
    {
      "cell_type": "markdown",
      "metadata": {
        "id": "qHEiarwxkL3B",
        "colab_type": "text"
      },
      "source": [
        "How many times do retweets occur?"
      ]
    },
    {
      "cell_type": "code",
      "metadata": {
        "id": "JEhEdi7tizvr",
        "colab_type": "code",
        "colab": {
          "base_uri": "https://localhost:8080/",
          "height": 0
        },
        "outputId": "b87b6b0b-f7c6-4d2d-8cc7-8b1b287abb54"
      },
      "source": [
        "#how many times does retweet occur?\n",
        "rts = [0]\n",
        "op =[]\n",
        "for i in data['safe_text']:\n",
        "  if 'RT' in i:\n",
        "    rts.append(i)\n",
        "  else:\n",
        "    op.append(i)\n",
        "\n",
        "print(\"Number of Original Tweets: \" + str(len(op)))\n",
        "print(\"\\nNumber of Retweets: \" + str(len(rts)))\n",
        "print(\"\\nRatio of Orignal Tweets to retweets: \" + str(round(len(rts)/len(op),2)))"
      ],
      "execution_count": 36,
      "outputs": [
        {
          "output_type": "stream",
          "text": [
            "Number of Original Tweets: 5676\n",
            "\n",
            "Number of Retweets: 191\n",
            "\n",
            "Ratio of Orignal Tweets to retweets: 0.03\n"
          ],
          "name": "stdout"
        }
      ]
    },
    {
      "cell_type": "markdown",
      "metadata": {
        "id": "bPf0wRMxkXaI",
        "colab_type": "text"
      },
      "source": [
        "Even though the retweet ratio is really small, it is best to drop the retweets do have more balanced data"
      ]
    },
    {
      "cell_type": "code",
      "metadata": {
        "id": "gXIB1n7fkfk1",
        "colab_type": "code",
        "colab": {
          "base_uri": "https://localhost:8080/",
          "height": 0
        },
        "outputId": "769ec2cb-4138-4540-f97c-c0d9d0f0c984"
      },
      "source": [
        "lengths = [len(op),len(rts)]\n",
        "values = ['Original Tweets', 'Retweets']\n",
        "f, ax = plt.subplots(figsize=(6, 6))\n",
        "sns.barplot(values,lengths)\n",
        "# Add a legend and informative axis label\n",
        "ax.set(ylabel=\"\",\n",
        "       xlabel=\"counts\")\n",
        "ax.title.set_text('The amount of origial tweets and retweets')\n",
        "sns.despine(left=True, bottom=True)\n",
        "plt.show()"
      ],
      "execution_count": 37,
      "outputs": [
        {
          "output_type": "display_data",
          "data": {
            "image/png": "[encoded data removed]",
            "text/plain": [
              "<Figure size 432x432 with 1 Axes>"
            ]
          },
          "metadata": {
            "tags": [],
            "needs_background": "light"
          }
        }
      ]
    },
    {
      "cell_type": "markdown",
      "metadata": {
        "id": "3jdkhjhIm3fJ",
        "colab_type": "text"
      },
      "source": [
        "lets look at a tweet and the features of a tweet:\n",
        "- Me &amp; The Big Homie meanboy3000 #MEANBOY #MB #MBS #MMR #STEGMANLIFE @ Stegman St. <url>\n",
        "- I'm 100% thinking of devoting my career to proving autism isn't caused by vaccines due to the IDIOTIC posts I've seen about World Autism Day\n",
        "- Measles in the 717 😳😳😳😳😳😷😷😷\n",
        "\n",
        "1. lowercase the words\n",
        "2. remove # but keep the word\n",
        "3. remove @ but keep the word\n",
        "4. remove punctuation\n",
        "5. keep emojis\n"
      ]
    },
    {
      "cell_type": "code",
      "metadata": {
        "id": "ld1fNOJ8rsXo",
        "colab_type": "code",
        "colab": {}
      },
      "source": [
        "import re\n",
        "from nltk.tokenize import TweetTokenizer\n",
        "from string import punctuation"
      ],
      "execution_count": 38,
      "outputs": []
    },
    {
      "cell_type": "code",
      "metadata": {
        "id": "sNZdGPHhnasO",
        "colab_type": "code",
        "colab": {}
      },
      "source": [
        "def clean_tweets(tweet):\n",
        "  '''takes string as input and returns a string that has been cleaned'''\n",
        "  tweet = tweet.lower()\n",
        "  tweet = tweet.replace('<url>',\"\")\n",
        "  tweet = tweet.replace('<user>',\"\")\n",
        "  #tokenizer = TweetTokenizer(reduce_len=True)\n",
        "  #tokens = tokenizer.tokenize(tweet)\n",
        "  #garbage = set(list(punctuation))\n",
        "  #tweet = [word for word in tokens if word not in garbage]\n",
        "  #tweet = re.sub(r'#([^\\s]+)', r'\\1', \" \".join(tweet))\n",
        "  #tweet = re.sub(r'@([^\\s]+)', r'\\1', \"\".join(tweet)) \n",
        "  return tweet  "
      ],
      "execution_count": 39,
      "outputs": []
    },
    {
      "cell_type": "code",
      "metadata": {
        "id": "wn_QMSpvo5sa",
        "colab_type": "code",
        "colab": {}
      },
      "source": [
        "tweet = 'Me &amp; !!!! 😳 The Big Homie meanboy3000 #MEANBOY #MB #MBS #MMR #STEGMANLIFE @ Stegman St.... <url> <user>'"
      ],
      "execution_count": 40,
      "outputs": []
    },
    {
      "cell_type": "code",
      "metadata": {
        "id": "0e-b0MwepA9Y",
        "colab_type": "code",
        "colab": {
          "base_uri": "https://localhost:8080/",
          "height": 0
        },
        "outputId": "1131f6ef-b866-4831-8ddf-c82950b14ca2"
      },
      "source": [
        "print(clean_tweets(tweet))"
      ],
      "execution_count": 41,
      "outputs": [
        {
          "output_type": "stream",
          "text": [
            "me &amp; !!!! 😳 the big homie meanboy3000 #meanboy #mb #mbs #mmr #stegmanlife @ stegman st....  \n"
          ],
          "name": "stdout"
        }
      ]
    },
    {
      "cell_type": "code",
      "metadata": {
        "id": "d3Tqaz5HpGgt",
        "colab_type": "code",
        "colab": {
          "base_uri": "https://localhost:8080/",
          "height": 0
        },
        "outputId": "57a91933-a62b-4708-9359-9b5e45bb4dd1"
      },
      "source": [
        "#apply cleaning process to train and test data\n",
        "data['cleaned'] = data['safe_text'].apply(clean_tweets)\n",
        "test['cleaned'] = test['safe_text'].apply(clean_tweets)"
      ],
      "execution_count": 42,
      "outputs": [
        {
          "output_type": "stream",
          "text": [
            "/usr/local/lib/python3.6/dist-packages/ipykernel_launcher.py:2: SettingWithCopyWarning: \n",
            "A value is trying to be set on a copy of a slice from a DataFrame.\n",
            "Try using .loc[row_indexer,col_indexer] = value instead\n",
            "\n",
            "See the caveats in the documentation: https://pandas.pydata.org/pandas-docs/stable/user_guide/indexing.html#returning-a-view-versus-a-copy\n",
            "  \n"
          ],
          "name": "stderr"
        }
      ]
    },
    {
      "cell_type": "markdown",
      "metadata": {
        "id": "gKeWr9_RxwUo",
        "colab_type": "text"
      },
      "source": [
        "# Modelling"
      ]
    },
    {
      "cell_type": "code",
      "metadata": {
        "id": "kQBsrbT3x8uY",
        "colab_type": "code",
        "colab": {}
      },
      "source": [
        "from sklearn.model_selection import train_test_split"
      ],
      "execution_count": 43,
      "outputs": []
    },
    {
      "cell_type": "code",
      "metadata": {
        "id": "K_JNgz_6yFux",
        "colab_type": "code",
        "colab": {}
      },
      "source": [
        "X = data['cleaned'].values\n",
        "y = data['label'].values"
      ],
      "execution_count": 44,
      "outputs": []
    },
    {
      "cell_type": "code",
      "metadata": {
        "id": "0sz33e7Xxxch",
        "colab_type": "code",
        "colab": {}
      },
      "source": [
        "# Splitting the labels and fetures into training and testing sets\n",
        "X_train, X_test, y_train, y_test = train_test_split(X, y, test_size=0.15, stratify=y)"
      ],
      "execution_count": 45,
      "outputs": []
    },
    {
      "cell_type": "code",
      "metadata": {
        "id": "Z22wkHiz0ITX",
        "colab_type": "code",
        "colab": {
          "base_uri": "https://localhost:8080/",
          "height": 294
        },
        "outputId": "3be79fad-c6d3-49c4-da2c-277473162b9f"
      },
      "source": [
        "#looking at agreement column\n",
        "plt.hist(data['label'], bins = 100, edgecolor = 'k')\n",
        "plt.xlabel('count') \n",
        "plt.title('Distribution of data')\n",
        "plt.show()"
      ],
      "execution_count": 46,
      "outputs": [
        {
          "output_type": "display_data",
          "data": {
            "image/png": "[encoded data removed]",
            "text/plain": [
              "<Figure size 432x288 with 1 Axes>"
            ]
          },
          "metadata": {
            "tags": [],
            "needs_background": "light"
          }
        }
      ]
    },
    {
      "cell_type": "code",
      "metadata": {
        "id": "4_-DZAsRS9Uq",
        "colab_type": "code",
        "colab": {
          "base_uri": "https://localhost:8080/",
          "height": 294
        },
        "outputId": "158de0b3-1df0-47ea-e2e5-1c218eec1005"
      },
      "source": [
        "#looking at train data\n",
        "plt.hist(y_train, bins = 100, edgecolor = 'k')\n",
        "plt.xlabel('count') \n",
        "plt.title('Distribution of train')\n",
        "plt.show()"
      ],
      "execution_count": 47,
      "outputs": [
        {
          "output_type": "display_data",
          "data": {
            "image/png": "[encoded data removed]",
            "text/plain": [
              "<Figure size 432x288 with 1 Axes>"
            ]
          },
          "metadata": {
            "tags": [],
            "needs_background": "light"
          }
        }
      ]
    },
    {
      "cell_type": "code",
      "metadata": {
        "id": "oVuWiqaUULyO",
        "colab_type": "code",
        "colab": {
          "base_uri": "https://localhost:8080/",
          "height": 294
        },
        "outputId": "ba1de561-8b60-461e-e640-ca0ec0e33fe1"
      },
      "source": [
        "#looking at test data\n",
        "plt.hist(y_test, bins = 100, edgecolor = 'k')\n",
        "plt.xlabel('count') \n",
        "plt.title('Distribution of test')\n",
        "plt.show()"
      ],
      "execution_count": 48,
      "outputs": [
        {
          "output_type": "display_data",
          "data": {
            "image/png": "[encoded data removed]",
            "text/plain": [
              "<Figure size 432x288 with 1 Axes>"
            ]
          },
          "metadata": {
            "tags": [],
            "needs_background": "light"
          }
        }
      ]
    },
    {
      "cell_type": "code",
      "metadata": {
        "colab_type": "code",
        "id": "xnZsjGe1x-Ya",
        "colab": {}
      },
      "source": [
        "from sklearn.model_selection import train_test_split\n",
        "from sklearn.feature_extraction.text import TfidfVectorizer\n",
        "from sklearn.pipeline import Pipeline"
      ],
      "execution_count": 49,
      "outputs": []
    },
    {
      "cell_type": "code",
      "metadata": {
        "id": "hEfBGGW0JNFD",
        "colab_type": "code",
        "colab": {}
      },
      "source": [
        "from sklearn.linear_model import LogisticRegressionCV"
      ],
      "execution_count": 50,
      "outputs": []
    },
    {
      "cell_type": "code",
      "metadata": {
        "id": "6ZzuYPlIyVEF",
        "colab_type": "code",
        "colab": {}
      },
      "source": [
        "\n",
        "#use predictproba\n",
        "from sklearn.linear_model import LogisticRegression\n",
        "\n",
        "#creating a pipeline with a tfidf vectorizer and a logistic regression model\n",
        "model = Pipeline([('tfidf',TfidfVectorizer()),('classify',(LogisticRegressionCV(cv=5, random_state=0,max_iter=2000,class_weight='balanced')))])\n",
        "\n",
        "#fitting the model\n",
        "model.fit(X_train, y_train)\n",
        "\n",
        "#Apply model on test data\n",
        "y_pred_lr = model.predict(X_test)"
      ],
      "execution_count": 54,
      "outputs": []
    },
    {
      "cell_type": "code",
      "metadata": {
        "id": "3WHiz0eFKXW6",
        "colab_type": "code",
        "colab": {}
      },
      "source": [
        "y_pred = model.predict_proba(X_test)"
      ],
      "execution_count": 55,
      "outputs": []
    },
    {
      "cell_type": "code",
      "metadata": {
        "id": "yOI3I0fSM1d4",
        "colab_type": "code",
        "colab": {}
      },
      "source": [
        "predictions = []\n",
        "for row in y_pred:\n",
        "  maximum = np.max(row)\n",
        "  if maximum == row[0]: #if anti\n",
        "    maximum = maximum*-1\n",
        "  if maximum == row[1]: #if neutral\n",
        "    maximum = 0\n",
        "  predictions.append(maximum)"
      ],
      "execution_count": 56,
      "outputs": []
    },
    {
      "cell_type": "code",
      "metadata": {
        "id": "FJ_KW7f-Q5fs",
        "colab_type": "code",
        "colab": {
          "base_uri": "https://localhost:8080/",
          "height": 34
        },
        "outputId": "f054bb6f-2482-43d0-82d5-1327adb1d90c"
      },
      "source": [
        "from sklearn.metrics import mean_squared_error\n",
        "RMSE = mean_squared_error(y_test, predictions)**0.5\n",
        "print(RMSE)"
      ],
      "execution_count": 57,
      "outputs": [
        {
          "output_type": "stream",
          "text": [
            "0.5142046192829249\n"
          ],
          "name": "stdout"
        }
      ]
    },
    {
      "cell_type": "code",
      "metadata": {
        "id": "GbyZvRdvzPze",
        "colab_type": "code",
        "colab": {}
      },
      "source": [
        "# Linear SVC\n",
        "x_unseen = test['cleaned'].values\n",
        "zindi = model.predict_proba(x_unseen) # LR model"
      ],
      "execution_count": 58,
      "outputs": []
    },
    {
      "cell_type": "code",
      "metadata": {
        "colab_type": "code",
        "id": "mkDxAfcnRNnl",
        "colab": {}
      },
      "source": [
        "submissions = []\n",
        "for row in zindi:\n",
        "  maximum = np.max(row)\n",
        "  if maximum == row[0]: #if anti\n",
        "    maximum = maximum*-1\n",
        "  if maximum == row[1]: #if neutral\n",
        "    maximum = 0\n",
        "  submissions.append(maximum)"
      ],
      "execution_count": 59,
      "outputs": []
    },
    {
      "cell_type": "code",
      "metadata": {
        "id": "3FMXMR_kzhbN",
        "colab_type": "code",
        "colab": {
          "base_uri": "https://localhost:8080/",
          "height": 202
        },
        "outputId": "117b0458-8aa5-4b0d-d6ea-62c275a812f6"
      },
      "source": [
        "# create table to submit as .csv file\n",
        "Table = {'tweet_id': test['tweet_id'], 'label':submissions} #choose a model\n",
        "submission = pd.DataFrame(data=Table)\n",
        "submission.set_index('tweet_id')\n",
        "submission.head()"
      ],
      "execution_count": 60,
      "outputs": [
        {
          "output_type": "execute_result",
          "data": {
            "text/html": [
              "<div>\n",
              "<style scoped>\n",
              "    .dataframe tbody tr th:only-of-type {\n",
              "        vertical-align: middle;\n",
              "    }\n",
              "\n",
              "    .dataframe tbody tr th {\n",
              "        vertical-align: top;\n",
              "    }\n",
              "\n",
              "    .dataframe thead th {\n",
              "        text-align: right;\n",
              "    }\n",
              "</style>\n",
              "<table border=\"1\" class=\"dataframe\">\n",
              "  <thead>\n",
              "    <tr style=\"text-align: right;\">\n",
              "      <th></th>\n",
              "      <th>tweet_id</th>\n",
              "      <th>label</th>\n",
              "    </tr>\n",
              "  </thead>\n",
              "  <tbody>\n",
              "    <tr>\n",
              "      <th>0</th>\n",
              "      <td>00BHHHP1</td>\n",
              "      <td>0.441670</td>\n",
              "    </tr>\n",
              "    <tr>\n",
              "      <th>1</th>\n",
              "      <td>00UNMD0E</td>\n",
              "      <td>0.806176</td>\n",
              "    </tr>\n",
              "    <tr>\n",
              "      <th>2</th>\n",
              "      <td>01AXPTJF</td>\n",
              "      <td>0.000000</td>\n",
              "    </tr>\n",
              "    <tr>\n",
              "      <th>3</th>\n",
              "      <td>01HOEQJW</td>\n",
              "      <td>0.824864</td>\n",
              "    </tr>\n",
              "    <tr>\n",
              "      <th>4</th>\n",
              "      <td>01JUKMAO</td>\n",
              "      <td>-0.465219</td>\n",
              "    </tr>\n",
              "  </tbody>\n",
              "</table>\n",
              "</div>"
            ],
            "text/plain": [
              "   tweet_id     label\n",
              "0  00BHHHP1  0.441670\n",
              "1  00UNMD0E  0.806176\n",
              "2  01AXPTJF  0.000000\n",
              "3  01HOEQJW  0.824864\n",
              "4  01JUKMAO -0.465219"
            ]
          },
          "metadata": {
            "tags": []
          },
          "execution_count": 60
        }
      ]
    },
    {
      "cell_type": "code",
      "metadata": {
        "id": "2CD3YxRsznZN",
        "colab_type": "code",
        "colab": {}
      },
      "source": [
        "submission.to_csv(\"LR_CV.csv\",index  = False)"
      ],
      "execution_count": 61,
      "outputs": []
    },
    {
      "cell_type": "code",
      "metadata": {
        "id": "Mqbx1uuP542O",
        "colab_type": "code",
        "colab": {
          "base_uri": "https://localhost:8080/",
          "height": 416
        },
        "outputId": "6748481e-88cd-472d-ec1f-e34b8c2461ad"
      },
      "source": [
        "submission"
      ],
      "execution_count": 62,
      "outputs": [
        {
          "output_type": "execute_result",
          "data": {
            "text/html": [
              "<div>\n",
              "<style scoped>\n",
              "    .dataframe tbody tr th:only-of-type {\n",
              "        vertical-align: middle;\n",
              "    }\n",
              "\n",
              "    .dataframe tbody tr th {\n",
              "        vertical-align: top;\n",
              "    }\n",
              "\n",
              "    .dataframe thead th {\n",
              "        text-align: right;\n",
              "    }\n",
              "</style>\n",
              "<table border=\"1\" class=\"dataframe\">\n",
              "  <thead>\n",
              "    <tr style=\"text-align: right;\">\n",
              "      <th></th>\n",
              "      <th>tweet_id</th>\n",
              "      <th>label</th>\n",
              "    </tr>\n",
              "  </thead>\n",
              "  <tbody>\n",
              "    <tr>\n",
              "      <th>0</th>\n",
              "      <td>00BHHHP1</td>\n",
              "      <td>0.441670</td>\n",
              "    </tr>\n",
              "    <tr>\n",
              "      <th>1</th>\n",
              "      <td>00UNMD0E</td>\n",
              "      <td>0.806176</td>\n",
              "    </tr>\n",
              "    <tr>\n",
              "      <th>2</th>\n",
              "      <td>01AXPTJF</td>\n",
              "      <td>0.000000</td>\n",
              "    </tr>\n",
              "    <tr>\n",
              "      <th>3</th>\n",
              "      <td>01HOEQJW</td>\n",
              "      <td>0.824864</td>\n",
              "    </tr>\n",
              "    <tr>\n",
              "      <th>4</th>\n",
              "      <td>01JUKMAO</td>\n",
              "      <td>-0.465219</td>\n",
              "    </tr>\n",
              "    <tr>\n",
              "      <th>...</th>\n",
              "      <td>...</td>\n",
              "      <td>...</td>\n",
              "    </tr>\n",
              "    <tr>\n",
              "      <th>5172</th>\n",
              "      <td>ZXVVNC5O</td>\n",
              "      <td>0.927053</td>\n",
              "    </tr>\n",
              "    <tr>\n",
              "      <th>5173</th>\n",
              "      <td>ZYIANVI8</td>\n",
              "      <td>0.000000</td>\n",
              "    </tr>\n",
              "    <tr>\n",
              "      <th>5174</th>\n",
              "      <td>ZYITEHAH</td>\n",
              "      <td>0.000000</td>\n",
              "    </tr>\n",
              "    <tr>\n",
              "      <th>5175</th>\n",
              "      <td>ZZ3BMBTG</td>\n",
              "      <td>0.969610</td>\n",
              "    </tr>\n",
              "    <tr>\n",
              "      <th>5176</th>\n",
              "      <td>ZZIYCVNH</td>\n",
              "      <td>-0.397933</td>\n",
              "    </tr>\n",
              "  </tbody>\n",
              "</table>\n",
              "<p>5176 rows × 2 columns</p>\n",
              "</div>"
            ],
            "text/plain": [
              "      tweet_id     label\n",
              "0     00BHHHP1  0.441670\n",
              "1     00UNMD0E  0.806176\n",
              "2     01AXPTJF  0.000000\n",
              "3     01HOEQJW  0.824864\n",
              "4     01JUKMAO -0.465219\n",
              "...        ...       ...\n",
              "5172  ZXVVNC5O  0.927053\n",
              "5173  ZYIANVI8  0.000000\n",
              "5174  ZYITEHAH  0.000000\n",
              "5175  ZZ3BMBTG  0.969610\n",
              "5176  ZZIYCVNH -0.397933\n",
              "\n",
              "[5176 rows x 2 columns]"
            ]
          },
          "metadata": {
            "tags": []
          },
          "execution_count": 62
        }
      ]
    },
    {
      "cell_type": "code",
      "metadata": {
        "id": "Qt5tWH1PBn9g",
        "colab_type": "code",
        "colab": {
          "base_uri": "https://localhost:8080/",
          "height": 34
        },
        "outputId": "72202683-5899-43a1-9461-a210af151c5e"
      },
      "source": [
        "tweet = \"vaccines cause autism\"\n",
        "input = clean_tweets(tweet)\n",
        "print(model.predict([input]))"
      ],
      "execution_count": 64,
      "outputs": [
        {
          "output_type": "stream",
          "text": [
            "[-1.]\n"
          ],
          "name": "stdout"
        }
      ]
    },
    {
      "cell_type": "code",
      "metadata": {
        "id": "NXuKQdy4eV53",
        "colab_type": "code",
        "colab": {}
      },
      "source": [
        "# don't -> 1\n",
        "# do not -> -1 "
      ],
      "execution_count": null,
      "outputs": []
    }
  ]
}